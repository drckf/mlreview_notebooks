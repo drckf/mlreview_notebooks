{
 "cells": [
  {
   "cell_type": "code",
   "execution_count": 64,
   "metadata": {},
   "outputs": [],
   "source": [
    "import numpy as np"
   ]
  },
  {
   "cell_type": "markdown",
   "metadata": {},
   "source": [
    "### Aim: generate strings of L bits;\n",
    "### in each string, one out of M patterns is enforced"
   ]
  },
  {
   "cell_type": "code",
   "execution_count": 116,
   "metadata": {},
   "outputs": [
    {
     "name": "stdout",
     "output_type": "stream",
     "text": [
      "[0 1 1 1 0 1 0 0 1 0 1 1 0 1 1 0 1 1 1 0 0 0 1 1 1 0 1 0 0 1 1 1 1 1 0 1]\n",
      "[0 0 0 0 0 0 0 0 1 0 1 1 0 1 1 0 1 1 1 0 0 0 1 1 1 0 1 0 1 1 1 1 1 1 1 1]\n"
     ]
    }
   ],
   "source": [
    "# random seed for reproducibility\n",
    "np.random.seed(12345)\n",
    "\n",
    "def pattern(X,l0,l1):\n",
    "    \"\"\" zeros in the positions of list l0,\n",
    "        ones in the positions of list l1\"\"\"\n",
    "    X[l0] = 0\n",
    "    X[l1] = 1\n",
    "    return X\n",
    "xx = np.random.randint(0,2,size=L)\n",
    "print(xx)\n",
    "xx = pattern(xx,[0,1,2,3,4,5,6,7],[-8,-7,-6,-5,-4,-3,-2,-1])\n",
    "print(xx)"
   ]
  },
  {
   "cell_type": "code",
   "execution_count": 119,
   "metadata": {},
   "outputs": [
    {
     "name": "stdout",
     "output_type": "stream",
     "text": [
      "[0 1 1 1 0 1 0 0 1 0 1 1 0 1 1 0 1 1 1 0 0 0 1 1 1 0 1 0 0 1 1 1 1 1 0 1]\n",
      "[1 1 1 1 1 0 0 1 1 0 0 1 1 1 1 0 1 1 1 1 0 1 1 0 1 0 0 1 1 1 0 0 1 0 1 0]\n",
      "[0 0 1 1 0 0 0 0 0 0 1 0 0 0 1 0 0 1 1 1 1 1 1 0 0 0 1 0 0 1 0 1 0 1 0 0]\n",
      "[0 1 1 0 0 1 0 1 0 0 1 1 0 1 1 0 0 1 0 0 1 1 1 1 0 0 0 1 0 1 0 0 1 1 0 1]\n",
      "\n",
      "[0 1 1 1 1 1 1 0 1 0 1 0 0 1 1 0 1 1 1 0 0 0 1 0 0 1 1 0 0 1 1 1 1 0 0 1] 1\n",
      "[1 1 1 1 1 1 0 0 1 0 0 1 1 1 1 0 1 1 1 1 0 1 1 0 0 0 0 1 1 1 0 0 1 0 1 0] 3\n",
      "[0 0 1 1 0 1 0 0 0 1 1 0 0 0 1 1 0 1 1 0 1 1 1 0 0 0 1 0 0 1 0 1 0 1 0 0] 2\n",
      "[0 1 1 1 0 1 0 0 0 0 1 1 0 1 1 0 1 1 0 0 1 1 1 1 0 0 0 1 0 1 0 0 1 1 0 1] 3\n",
      "[0 1 0 1 1 1 0 1 0 1 1 1 1 0 0 1 0 0 0 0 1 1 0 0 1 0 1 0 1 1 0 1 1 0 0 1] 2\n",
      "[0 1 1 0 1 1 0 0 1 1 1 1 0 1 1 0 1 1 1 0 0 0 0 0 1 1 1 0 0 1 1 1 0 1 1 0] 4\n",
      "[0 0 1 1 0 1 0 0 0 0 0 1 1 1 1 1 1 1 0 0 0 0 0 1 0 0 0 1 1 1 1 0 0 0 1 0] 3\n",
      "[0 0 1 1 1 1 1 1 0 1 1 0 0 1 0 0 1 0 1 1 1 0 1 0 0 1 1 0 0 0 1 1 0 0 1 0] 1\n",
      "[0 0 1 0 1 1 1 1 1 1 1 1 0 1 1 0 0 1 0 0 0 0 0 1 1 1 0 1 0 0 1 0 1 0 1 0] 4\n",
      "[1 1 1 0 0 1 0 1 1 1 0 1 1 0 0 1 0 0 1 0 0 1 0 1 0 0 1 0 1 0 1 1 0 0 0 0] 0\n",
      "[1 1 1 1 0 1 0 0 1 1 1 1 1 1 1 0 1 0 0 1 1 1 0 0 0 0 0 1 1 1 1 1 0 0 0 1] 3\n",
      "[0 0 0 0 1 1 0 1 0 0 1 1 0 0 1 0 1 1 1 1 1 1 0 0 0 0 1 1 0 0 1 1 1 0 1 1] 4\n",
      "[1 1 1 0 0 1 1 1 0 1 0 0 1 0 0 1 0 1 0 1 0 1 0 0 0 0 1 0 1 0 1 1 0 1 0 0] 0\n",
      "[1 1 0 1 1 1 0 0 0 1 0 1 1 1 1 0 1 0 0 0 0 0 0 1 0 0 0 1 1 0 0 1 0 0 1 1] 3\n",
      "[1 1 0 0 1 1 0 1 0 1 1 1 0 1 0 1 1 0 0 1 0 1 0 0 1 0 0 0 0 0 1 1 1 0 1 1] 4\n",
      "[0 1 1 0 1 1 1 1 0 1 1 0 0 1 1 1 1 0 0 0 1 0 0 0 0 1 1 0 0 1 1 1 0 0 1 1] 1\n",
      "[1 1 1 0 1 1 0 0 0 1 1 0 0 1 1 1 1 1 1 0 1 1 0 1 0 1 1 0 0 0 1 0 0 1 1 0] 4\n",
      "[0 1 0 1 1 1 0 0 1 1 1 0 1 1 1 1 1 1 1 1 1 1 0 0 0 1 0 1 1 0 1 1 0 1 0 0] 3\n",
      "[0 0 1 1 1 0 1 0 0 0 0 0 0 0 0 0 1 1 0 1 1 0 1 0 0 1 1 0 0 0 1 1 1 0 0 1] 1\n",
      "[1 1 1 1 1 1 0 0 1 0 0 0 1 1 0 0 1 0 0 0 0 0 1 0 0 0 0 1 1 1 0 0 1 0 1 0] 3\n",
      "[0 1 0 1 0 1 1 1 0 1 1 0 0 1 1 1 1 0 0 0 0 0 1 1 0 1 1 1 0 1 0 1 0 1 0 1] 2\n",
      "[0 1 1 1 0 1 1 0 0 1 1 1 0 0 1 1 0 1 1 0 1 0 1 0 1 0 1 1 1 1 1 1 0 1 0 1] 2\n",
      "[1 0 0 0 0 1 0 1 1 1 1 0 1 0 0 1 0 1 0 1 0 1 0 1 1 0 1 0 1 1 1 0 0 1 0 1] 0\n",
      "[0 1 1 1 0 1 0 0 0 0 0 1 0 1 1 1 1 0 0 0 0 1 1 1 0 1 0 1 0 0 1 1 0 1 0 1] 3\n",
      "[0 0 1 1 1 1 1 0 1 0 0 1 0 1 0 1 0 1 1 0 1 1 0 1 1 0 1 0 0 0 1 1 1 0 1 1] 4\n",
      "[0 0 1 1 1 1 0 0 1 1 1 0 1 1 0 1 1 0 1 0 1 1 0 0 0 0 0 1 0 0 1 0 1 0 0 0] 3\n",
      "[0 0 0 1 0 1 1 0 0 1 1 0 1 0 1 1 0 1 0 0 0 0 0 1 1 1 1 0 1 1 0 0 0 0 0 1] 2\n",
      "[0 1 0 1 1 1 0 1 0 1 1 1 0 1 0 1 0 0 1 0 0 1 0 0 1 0 1 1 1 1 1 1 1 1 0 0] 2\n",
      "[1 1 1 1 0 1 0 0 1 1 0 0 0 1 0 1 1 0 1 1 1 0 0 0 0 1 0 1 1 1 0 1 0 0 1 0] 3\n",
      "[0 0 0 1 1 1 0 1 0 1 1 1 0 1 0 1 0 1 1 0 0 1 0 1 0 1 1 1 0 1 1 1 1 1 0 0] 2\n"
     ]
    }
   ],
   "source": [
    "# random seed for reproducibility\n",
    "np.random.seed(12345)\n",
    "N=400\n",
    "L=36\n",
    "M=5\n",
    "y = np.zeros(N).astype(int)\n",
    "x = np.random.randint(0,2,size=(N,L))\n",
    "\n",
    "for n in range(4):\n",
    "    print(x[n])\n",
    "print(\"\")\n",
    "\n",
    "for n in range(N):\n",
    "    y[n] = np.random.randint(0,M) # numpy: 0 to M-1, if M\n",
    "        \n",
    "    if y[n]==0:\n",
    "        x[n] = pattern(x[n],[3,4,14,16,22,25,27,32],[0,5,7,9,12,15,26,30])\n",
    "    elif y[n]==1:\n",
    "        x[n] = pattern(x[n],[0,11,12,23,24,28,33],[2,4,6,25,26,30,31])\n",
    "    elif y[n]==2:\n",
    "        x[n] = pattern(x[n],[0,5,8,15,19,34],[5,9,10,15,26,29])\n",
    "    elif y[n]==3:\n",
    "        x[n] = pattern(x[n],[6,7,16,24,26],[3,5,13,16,27])\n",
    "    elif y[n]==4:\n",
    "        x[n] = pattern(x[n],[5,12,22,28],[4,5,30,34])\n",
    "            \n",
    "for n in range(30):\n",
    "    print(x[n],y[n])"
   ]
  },
  {
   "cell_type": "code",
   "execution_count": 110,
   "metadata": {},
   "outputs": [
    {
     "name": "stdout",
     "output_type": "stream",
     "text": [
      "mkdir: cannot create directory ‘DATA’: File exists\n",
      "M5_N400\n"
     ]
    }
   ],
   "source": [
    "# create directory DATA\n",
    "!mkdir DATA\n",
    "\n",
    "str0 = f'M{M}_N{N}'\n",
    "print(str0)\n",
    "fname='DATA/x_'+str0+'.csv'\n",
    "np.savetxt(fname,x,delimiter=\" \",fmt='%i')\n",
    "fname='DATA/y_'+str0+'.csv'\n",
    "np.savetxt(fname,y,fmt='%i')"
   ]
  },
  {
   "cell_type": "code",
   "execution_count": null,
   "metadata": {},
   "outputs": [],
   "source": []
  }
 ],
 "metadata": {
  "kernelspec": {
   "display_name": "Python 3",
   "language": "python",
   "name": "python3"
  },
  "language_info": {
   "codemirror_mode": {
    "name": "ipython",
    "version": 3
   },
   "file_extension": ".py",
   "mimetype": "text/x-python",
   "name": "python",
   "nbconvert_exporter": "python",
   "pygments_lexer": "ipython3",
   "version": "3.8.5"
  }
 },
 "nbformat": 4,
 "nbformat_minor": 2
}
