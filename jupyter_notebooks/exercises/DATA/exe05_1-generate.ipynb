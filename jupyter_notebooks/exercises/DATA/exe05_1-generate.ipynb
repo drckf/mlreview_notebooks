{
 "cells": [
  {
   "cell_type": "code",
   "execution_count": null,
   "metadata": {},
   "outputs": [],
   "source": [
    "# The purpose of this code is to produce  data following a\n",
    "# certain pattern and corrupt it replaceing random 1->0 or 0->"
   ]
  },
  {
   "cell_type": "code",
   "execution_count": null,
   "metadata": {},
   "outputs": [],
   "source": [
    "import csv\n",
    "import numpy as np\n",
    "# random seed for reproducibility\n",
    "import random\n",
    "random.seed(123)\n"
   ]
  },
  {
   "cell_type": "code",
   "execution_count": null,
   "metadata": {},
   "outputs": [],
   "source": [
    "# Number of desired states according to the states dict \n",
    "n_states = 4\n",
    "# number of data\n",
    "N=10000\n",
    "#\n",
    "L = 8\n",
    "q = 0.5\n",
    "\n",
    "y    = [0] * N\n",
    "x    = [[0] * L for j in range(N)]\n",
    "x0   = [[0] * L for j in range(N)]"
   ]
  },
  {
   "cell_type": "code",
   "execution_count": null,
   "metadata": {},
   "outputs": [],
   "source": [
    "#This is a brute force method \n",
    "states = [[1,1,0,0,1,1,0,0],\n",
    "          [0,0,1,1,1,1,0,0],\n",
    "          [1,1,0,0,0,0,1,1],\n",
    "          [0,0,1,1,0,0,1,1],\n",
    "          [1,1,1,1,1,1,1,1],\n",
    "          [1,0,1,0,1,0,0,0]]\n",
    "\n",
    "key = np.random.randint(n_states, size=N)\n",
    "\n",
    "for n in range(N):\n",
    "    x0[n] = states[key[n]].copy()\n",
    "    x[n]  = x0[n].copy()\n",
    "    y[n]  = key[n]\n",
    "\n",
    "    for j in range(L):\n",
    "        if random.random()<q:\n",
    "             x[n][j] = 1-x[n][j]"
   ]
  },
  {
   "cell_type": "code",
   "execution_count": null,
   "metadata": {},
   "outputs": [],
   "source": [
    "fname = 'dataRBM_s'+str(n_states)+'.csv'\n",
    "print(fname)\n",
    "\n",
    "with open(fname, mode='w') as myfile:\n",
    "    writer = csv.writer(myfile, delimiter=',')\n",
    "    for i in range(N):\n",
    "        writer.writerow(x0[i])\n",
    "        \n",
    "fname = 'dataRBM_s'+str(n_states)+'_q'+str(q)+'.csv'\n",
    "print(fname)\n",
    "\n",
    "with open(fname, mode='w') as myfile:\n",
    "    writer = csv.writer(myfile, delimiter=',')\n",
    "    for i in range(N):\n",
    "        writer.writerow(x[i])"
   ]
  },
  {
   "cell_type": "code",
   "execution_count": null,
   "metadata": {},
   "outputs": [],
   "source": []
  }
 ],
 "metadata": {
  "kernelspec": {
   "display_name": "Python 3",
   "language": "python",
   "name": "python3"
  },
  "language_info": {
   "codemirror_mode": {
    "name": "ipython",
    "version": 3
   },
   "file_extension": ".py",
   "mimetype": "text/x-python",
   "name": "python",
   "nbconvert_exporter": "python",
   "pygments_lexer": "ipython3",
   "version": "3.8.5"
  },
  "toc": {
   "base_numbering": 1,
   "nav_menu": {},
   "number_sections": true,
   "sideBar": true,
   "skip_h1_title": false,
   "title_cell": "Table of Contents",
   "title_sidebar": "Contents",
   "toc_cell": false,
   "toc_position": {},
   "toc_section_display": true,
   "toc_window_display": false
  }
 },
 "nbformat": 4,
 "nbformat_minor": 2
}
