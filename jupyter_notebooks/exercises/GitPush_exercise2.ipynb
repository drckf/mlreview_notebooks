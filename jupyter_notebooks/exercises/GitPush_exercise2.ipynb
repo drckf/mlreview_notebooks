{
 "cells": [
  {
   "cell_type": "markdown",
   "metadata": {},
   "source": [
    "## LCPB 20-21 exercise 2\n",
    "\n",
    "### Saverio Monaco\n",
    "\n",
    "### Gerardo Carmona\n",
    "\n",
    "### Hilario Capettini"
   ]
  },
  {
   "cell_type": "markdown",
   "metadata": {},
   "source": [
    "0. Preparation"
   ]
  },
  {
   "cell_type": "code",
   "execution_count": 1,
   "metadata": {},
   "outputs": [],
   "source": [
    "import numpy as np\n",
    "import matplotlib.pyplot as plt\n",
    "from mpl_toolkits import mplot3d\n",
    "import matplotlib.pyplot as plt\n",
    "from keras.models import Sequential\n",
    "from keras.layers import Dense, Dropout\n",
    "from keras.optimizers import SGD\n",
    "import time\n",
    "import math"
   ]
  },
  {
   "cell_type": "code",
   "execution_count": 2,
   "metadata": {},
   "outputs": [
    {
     "name": "stdout",
     "output_type": "stream",
     "text": [
      "Size of the sequences:    16\n",
      "Size of the data:         3000\n",
      "Size of the training set: 2400\n",
      "Size of the test set:     600\n"
     ]
    }
   ],
   "source": [
    "fname = \"DATA/sequences16.csv\"\n",
    "sx, sy = np.loadtxt(fname,delimiter=',',\n",
    "                   usecols=(0,1), unpack=True, dtype=str)\n",
    "N = len(sy)\n",
    "\n",
    "Ls = len(sx[0])\n",
    "\n",
    "\n",
    "perc_train = 0.8 # I kept the same train-test ratio as in the lesson\n",
    "N_train = int(N*perc_train)\n",
    "N_test = N - N_train\n",
    "\n",
    "print('Size of the sequences:   ',Ls)\n",
    "print('Size of the data:        ',N)\n",
    "print('Size of the training set:',N_train)\n",
    "print('Size of the test set:    ',N_test)\n"
   ]
  },
  {
   "cell_type": "code",
   "execution_count": 3,
   "metadata": {},
   "outputs": [
    {
     "name": "stdout",
     "output_type": "stream",
     "text": [
      "AAGGTCTGCCGGCCGA 1\n",
      "CCTCCCTTATGGGGGA 0\n",
      "TCTCTCGGAACTGTCA 0\n",
      "GTTAAACGTTACATCT 0\n",
      "TTAAATGCTGCTGATC 1\n",
      "ATGGAACGAGACGCCG 1\n",
      "AGGCCAAATGAGGATA 1\n",
      "CGAGTACACTTAGGCC 0\n",
      "GAAATAAATCTTATAG 0\n",
      "AATGTAGATATGGAGT 0\n"
     ]
    }
   ],
   "source": [
    "# Just printing some datas to check it\n",
    "# I noticed this isn't the same rule in the lessons, so it is unkown\n",
    "for _ in range(10):\n",
    "    print(sx[_],sy[_])\n"
   ]
  },
  {
   "cell_type": "code",
   "execution_count": 4,
   "metadata": {
    "scrolled": true
   },
   "outputs": [
    {
     "name": "stdout",
     "output_type": "stream",
     "text": [
      "1 <class 'numpy.str_'>\n",
      "1 <class 'numpy.int64'>\n"
     ]
    }
   ],
   "source": [
    "# Converting the label set to int values:\n",
    "print(sy[0],type(sy[0]))\n",
    "y = sy.astype(int)\n",
    "print(y[0],type(y[0]))"
   ]
  },
  {
   "cell_type": "code",
   "execution_count": 5,
   "metadata": {},
   "outputs": [
    {
     "name": "stdout",
     "output_type": "stream",
     "text": [
      "AAGGTCTGCCGGCCGA\n",
      "[1. 0. 0. 0. 1. 0. 0. 0. 0. 0. 1. 0. 0. 0. 1. 0. 0. 0. 0. 1. 0. 1. 0. 0.\n",
      " 0. 0. 0. 1. 0. 0. 1. 0. 0. 1. 0. 0. 0. 1. 0. 0. 0. 0. 1. 0. 0. 0. 1. 0.\n",
      " 0. 1. 0. 0. 0. 1. 0. 0. 0. 0. 1. 0. 1. 0. 0. 0.]\n"
     ]
    }
   ],
   "source": [
    "# Letters and number of letters\n",
    "Q = ['A', 'C', 'G', 'T']\n",
    "Nc = 4\n",
    "\n",
    "# building the dictionary\n",
    "onehc = {Q[i]: i for i in range (Nc)}\n",
    "\n",
    "L = Ls * Nc # lenght of the input array (64)\n",
    "\n",
    "# The following cycle will transform the input vectors (for ex.: AAGGTCTGCCGGCCGA) in a\n",
    "# binary like way\n",
    "#\n",
    "# A = 1000\n",
    "# C = 0100\n",
    "# G = 0010\n",
    "# T = 0001\n",
    "#\n",
    "#   A    A    G    G    T    C   ...\n",
    "# 1000 1000 0010 0010 0001 0100\n",
    "x = np.zeros((N,L))\n",
    "for n in range(N): #for all the samples\n",
    "    for i in range(Ls): # for every character\n",
    "        x[n][i*4 + onehc[sx[n][i]]] = 1\n",
    "        \n",
    "print(sx[0])\n",
    "print(x[0])"
   ]
  },
  {
   "cell_type": "code",
   "execution_count": 6,
   "metadata": {},
   "outputs": [
    {
     "name": "stdout",
     "output_type": "stream",
     "text": [
      "0.24333333333333335\n",
      "0.25833333333333336\n"
     ]
    }
   ],
   "source": [
    "(x_train, y_train) = (x[:N_train],y[:N_train])\n",
    "(x_test, y_test) = (x[N_train:],y[N_train:])\n",
    "\n",
    "# Check the fraction of datas equal to one\n",
    "print(y_train.sum() / N_train)\n",
    "print(y_test.sum() / N_test)"
   ]
  },
  {
   "cell_type": "markdown",
   "metadata": {},
   "source": [
    "1. Is the model converging with a smaller database of samples with longer sequences? By converging we mean reducing significantly the validation loss function."
   ]
  },
  {
   "cell_type": "code",
   "execution_count": 7,
   "metadata": {},
   "outputs": [
    {
     "name": "stdout",
     "output_type": "stream",
     "text": [
      "Model: \"sequential\"\n",
      "_________________________________________________________________\n",
      "Layer (type)                 Output Shape              Param #   \n",
      "=================================================================\n",
      "dense (Dense)                (None, 64)                4160      \n",
      "_________________________________________________________________\n",
      "dense_1 (Dense)              (None, 32)                2080      \n",
      "_________________________________________________________________\n",
      "dense_2 (Dense)              (None, 16)                528       \n",
      "_________________________________________________________________\n",
      "dropout (Dropout)            (None, 16)                0         \n",
      "_________________________________________________________________\n",
      "dense_3 (Dense)              (None, 1)                 17        \n",
      "=================================================================\n",
      "Total params: 6,785\n",
      "Trainable params: 6,785\n",
      "Non-trainable params: 0\n",
      "_________________________________________________________________\n",
      "None\n"
     ]
    }
   ],
   "source": [
    "np.random.seed(123)\n",
    "\n",
    "model = Sequential() #start of implementing a neural network in keras\n",
    "\n",
    "#  x\n",
    "#  x\n",
    "#  x     h\n",
    "#  x     h\n",
    "#  x     h     h    o (0,1)\n",
    "#  x     h\n",
    "#  x\n",
    "#  x\n",
    "#             drop\n",
    "\n",
    "# FIRST LAYER (INPUT)\n",
    "model.add(Dense(L, input_shape=(L,),activation='relu')) # Dense stands for a normal layer\n",
    "\n",
    "# SECOND LAYER (HIDDEN 1)\n",
    "model.add(Dense(L/2,activation='relu'))\n",
    "\n",
    "# THIRD LAYER (HIDDEN 2)\n",
    "model.add(Dense(L/4,activation='relu'))\n",
    "model.add(Dropout(0.2))\n",
    "\n",
    "# FORTH LAYER (OUTPUT) introducing dropouts\n",
    "model.add(Dense(1,activation='sigmoid')) #we need an activation function from 0 to 1\n",
    "\n",
    "print(model.summary())"
   ]
  },
  {
   "cell_type": "code",
   "execution_count": 8,
   "metadata": {
    "scrolled": false
   },
   "outputs": [
    {
     "name": "stdout",
     "output_type": "stream",
     "text": [
      "Epoch 1/60\n",
      "48/48 [==============================] - 1s 24ms/step - loss: 0.6037 - accuracy: 0.7217 - val_loss: 0.5644 - val_accuracy: 0.7417\n",
      "Epoch 2/60\n",
      "48/48 [==============================] - 1s 14ms/step - loss: 0.5462 - accuracy: 0.7567 - val_loss: 0.5557 - val_accuracy: 0.7417\n",
      "Epoch 3/60\n",
      "48/48 [==============================] - 1s 18ms/step - loss: 0.5354 - accuracy: 0.7567 - val_loss: 0.5454 - val_accuracy: 0.7417\n",
      "Epoch 4/60\n",
      "48/48 [==============================] - 1s 17ms/step - loss: 0.5215 - accuracy: 0.7567 - val_loss: 0.5330 - val_accuracy: 0.7417\n",
      "Epoch 5/60\n",
      "48/48 [==============================] - 1s 19ms/step - loss: 0.5040 - accuracy: 0.7567 - val_loss: 0.5155 - val_accuracy: 0.7417\n",
      "Epoch 6/60\n",
      "48/48 [==============================] - 0s 10ms/step - loss: 0.4850 - accuracy: 0.7583 - val_loss: 0.5012 - val_accuracy: 0.7467\n",
      "Epoch 7/60\n",
      "48/48 [==============================] - 1s 12ms/step - loss: 0.4732 - accuracy: 0.7679 - val_loss: 0.4939 - val_accuracy: 0.7400\n",
      "Epoch 8/60\n",
      "48/48 [==============================] - 1s 12ms/step - loss: 0.4587 - accuracy: 0.7775 - val_loss: 0.4906 - val_accuracy: 0.7467\n",
      "Epoch 9/60\n",
      "48/48 [==============================] - 1s 18ms/step - loss: 0.4495 - accuracy: 0.7883 - val_loss: 0.4881 - val_accuracy: 0.7433\n",
      "Epoch 10/60\n",
      "48/48 [==============================] - 1s 12ms/step - loss: 0.4336 - accuracy: 0.7937 - val_loss: 0.4868 - val_accuracy: 0.7500\n",
      "Epoch 11/60\n",
      "48/48 [==============================] - 1s 12ms/step - loss: 0.4236 - accuracy: 0.7992 - val_loss: 0.4939 - val_accuracy: 0.7617\n",
      "Epoch 12/60\n",
      "48/48 [==============================] - 1s 11ms/step - loss: 0.4060 - accuracy: 0.8112 - val_loss: 0.4927 - val_accuracy: 0.7617\n",
      "Epoch 13/60\n",
      "48/48 [==============================] - 1s 17ms/step - loss: 0.3958 - accuracy: 0.8221 - val_loss: 0.4823 - val_accuracy: 0.7550\n",
      "Epoch 14/60\n",
      "48/48 [==============================] - 1s 17ms/step - loss: 0.3759 - accuracy: 0.8325 - val_loss: 0.4770 - val_accuracy: 0.7700\n",
      "Epoch 15/60\n",
      "48/48 [==============================] - 0s 10ms/step - loss: 0.3544 - accuracy: 0.8417 - val_loss: 0.4846 - val_accuracy: 0.7733\n",
      "Epoch 16/60\n",
      "48/48 [==============================] - 1s 11ms/step - loss: 0.3316 - accuracy: 0.8533 - val_loss: 0.4833 - val_accuracy: 0.7767\n",
      "Epoch 17/60\n",
      "48/48 [==============================] - 1s 17ms/step - loss: 0.3029 - accuracy: 0.8667 - val_loss: 0.4797 - val_accuracy: 0.7867\n",
      "Epoch 18/60\n",
      "48/48 [==============================] - 1s 20ms/step - loss: 0.2804 - accuracy: 0.8833 - val_loss: 0.5220 - val_accuracy: 0.7900\n",
      "Epoch 19/60\n",
      "48/48 [==============================] - 1s 13ms/step - loss: 0.2535 - accuracy: 0.8996 - val_loss: 0.5176 - val_accuracy: 0.7833\n",
      "Epoch 20/60\n",
      "48/48 [==============================] - 1s 12ms/step - loss: 0.2271 - accuracy: 0.9154 - val_loss: 0.5775 - val_accuracy: 0.7950\n",
      "Epoch 21/60\n",
      "48/48 [==============================] - 1s 18ms/step - loss: 0.2082 - accuracy: 0.9183 - val_loss: 0.5711 - val_accuracy: 0.7883\n",
      "Epoch 22/60\n",
      "48/48 [==============================] - 1s 17ms/step - loss: 0.1833 - accuracy: 0.9304 - val_loss: 0.5694 - val_accuracy: 0.7983\n",
      "Epoch 23/60\n",
      "48/48 [==============================] - 1s 16ms/step - loss: 0.1597 - accuracy: 0.9429 - val_loss: 0.5511 - val_accuracy: 0.7883\n",
      "Epoch 24/60\n",
      "48/48 [==============================] - 1s 15ms/step - loss: 0.1444 - accuracy: 0.9517 - val_loss: 0.6158 - val_accuracy: 0.8000\n",
      "Epoch 25/60\n",
      "48/48 [==============================] - 1s 14ms/step - loss: 0.1326 - accuracy: 0.9538 - val_loss: 0.6266 - val_accuracy: 0.7850\n",
      "Epoch 26/60\n",
      "48/48 [==============================] - 1s 12ms/step - loss: 0.1142 - accuracy: 0.9629 - val_loss: 0.6684 - val_accuracy: 0.7900\n",
      "Epoch 27/60\n",
      "48/48 [==============================] - 1s 17ms/step - loss: 0.0969 - accuracy: 0.9696 - val_loss: 0.7316 - val_accuracy: 0.7917\n",
      "Epoch 28/60\n",
      "48/48 [==============================] - 1s 11ms/step - loss: 0.0907 - accuracy: 0.9704 - val_loss: 0.6550 - val_accuracy: 0.7900\n",
      "Epoch 29/60\n",
      "48/48 [==============================] - 0s 9ms/step - loss: 0.0765 - accuracy: 0.9742 - val_loss: 0.7406 - val_accuracy: 0.7983\n",
      "Epoch 30/60\n",
      "48/48 [==============================] - 1s 14ms/step - loss: 0.0701 - accuracy: 0.9800 - val_loss: 0.8056 - val_accuracy: 0.7883\n",
      "Epoch 31/60\n",
      "48/48 [==============================] - 1s 14ms/step - loss: 0.0575 - accuracy: 0.9825 - val_loss: 0.8540 - val_accuracy: 0.7950\n",
      "Epoch 32/60\n",
      "48/48 [==============================] - 1s 13ms/step - loss: 0.0527 - accuracy: 0.9842 - val_loss: 0.7609 - val_accuracy: 0.7850\n",
      "Epoch 33/60\n",
      "48/48 [==============================] - 1s 13ms/step - loss: 0.0526 - accuracy: 0.9854 - val_loss: 0.8174 - val_accuracy: 0.7867\n",
      "Epoch 34/60\n",
      "48/48 [==============================] - 1s 12ms/step - loss: 0.0509 - accuracy: 0.9846 - val_loss: 0.9885 - val_accuracy: 0.7783\n",
      "Epoch 35/60\n",
      "48/48 [==============================] - 1s 12ms/step - loss: 0.0480 - accuracy: 0.9842 - val_loss: 0.9716 - val_accuracy: 0.7917\n",
      "Epoch 36/60\n",
      "48/48 [==============================] - 1s 17ms/step - loss: 0.0373 - accuracy: 0.9904 - val_loss: 1.0275 - val_accuracy: 0.7817\n",
      "Epoch 37/60\n",
      "48/48 [==============================] - 1s 14ms/step - loss: 0.0393 - accuracy: 0.9871 - val_loss: 0.9839 - val_accuracy: 0.7883\n",
      "Epoch 38/60\n",
      "48/48 [==============================] - 0s 10ms/step - loss: 0.0371 - accuracy: 0.9892 - val_loss: 0.9833 - val_accuracy: 0.7967\n",
      "Epoch 39/60\n",
      "48/48 [==============================] - 1s 13ms/step - loss: 0.0353 - accuracy: 0.9900 - val_loss: 1.0685 - val_accuracy: 0.7883\n",
      "Epoch 40/60\n",
      "48/48 [==============================] - 1s 15ms/step - loss: 0.0199 - accuracy: 0.9975 - val_loss: 1.0235 - val_accuracy: 0.7917\n",
      "Epoch 41/60\n",
      "48/48 [==============================] - 1s 13ms/step - loss: 0.0162 - accuracy: 0.9971 - val_loss: 1.0329 - val_accuracy: 0.7983\n",
      "Epoch 42/60\n",
      "48/48 [==============================] - 1s 12ms/step - loss: 0.0104 - accuracy: 0.9992 - val_loss: 1.0764 - val_accuracy: 0.7950\n",
      "Epoch 43/60\n",
      "48/48 [==============================] - 1s 12ms/step - loss: 0.0065 - accuracy: 1.0000 - val_loss: 1.1072 - val_accuracy: 0.8017\n",
      "Epoch 44/60\n",
      "48/48 [==============================] - 1s 17ms/step - loss: 0.0053 - accuracy: 1.0000 - val_loss: 1.1221 - val_accuracy: 0.7950\n",
      "Epoch 45/60\n",
      "48/48 [==============================] - 1s 15ms/step - loss: 0.0058 - accuracy: 0.9992 - val_loss: 1.2064 - val_accuracy: 0.7867\n",
      "Epoch 46/60\n",
      "48/48 [==============================] - 1s 15ms/step - loss: 0.0079 - accuracy: 0.9979 - val_loss: 1.1142 - val_accuracy: 0.7967\n",
      "Epoch 47/60\n",
      "48/48 [==============================] - 1s 14ms/step - loss: 0.0080 - accuracy: 0.9996 - val_loss: 1.1925 - val_accuracy: 0.7917\n",
      "Epoch 48/60\n",
      "48/48 [==============================] - 1s 18ms/step - loss: 0.0048 - accuracy: 1.0000 - val_loss: 1.1785 - val_accuracy: 0.7883\n",
      "Epoch 49/60\n",
      "48/48 [==============================] - 1s 11ms/step - loss: 0.0043 - accuracy: 1.0000 - val_loss: 1.2293 - val_accuracy: 0.7917\n",
      "Epoch 50/60\n",
      "48/48 [==============================] - 1s 15ms/step - loss: 0.0039 - accuracy: 1.0000 - val_loss: 1.2322 - val_accuracy: 0.7917\n",
      "Epoch 51/60\n",
      "48/48 [==============================] - 0s 10ms/step - loss: 0.0045 - accuracy: 0.9992 - val_loss: 1.2774 - val_accuracy: 0.7933\n",
      "Epoch 52/60\n",
      "48/48 [==============================] - 1s 15ms/step - loss: 0.0044 - accuracy: 0.9996 - val_loss: 1.2473 - val_accuracy: 0.8000\n",
      "Epoch 53/60\n",
      "48/48 [==============================] - 1s 11ms/step - loss: 0.0036 - accuracy: 1.0000 - val_loss: 1.3195 - val_accuracy: 0.7917\n",
      "Epoch 54/60\n",
      "48/48 [==============================] - 0s 10ms/step - loss: 0.0035 - accuracy: 1.0000 - val_loss: 1.3293 - val_accuracy: 0.7933\n",
      "Epoch 55/60\n",
      "48/48 [==============================] - 1s 13ms/step - loss: 0.0034 - accuracy: 1.0000 - val_loss: 1.3249 - val_accuracy: 0.7967\n",
      "Epoch 56/60\n",
      "48/48 [==============================] - 1s 11ms/step - loss: 0.0029 - accuracy: 1.0000 - val_loss: 1.3158 - val_accuracy: 0.7950\n",
      "Epoch 57/60\n",
      "48/48 [==============================] - 1s 19ms/step - loss: 0.0029 - accuracy: 1.0000 - val_loss: 1.3334 - val_accuracy: 0.7933\n",
      "Epoch 58/60\n",
      "48/48 [==============================] - 1s 19ms/step - loss: 0.0039 - accuracy: 0.9996 - val_loss: 1.3516 - val_accuracy: 0.7933\n"
     ]
    },
    {
     "name": "stdout",
     "output_type": "stream",
     "text": [
      "Epoch 59/60\n",
      "48/48 [==============================] - 1s 19ms/step - loss: 0.0051 - accuracy: 0.9996 - val_loss: 1.3572 - val_accuracy: 0.7917\n",
      "Epoch 60/60\n",
      "48/48 [==============================] - 1s 17ms/step - loss: 0.0037 - accuracy: 0.9992 - val_loss: 1.3012 - val_accuracy: 0.7917\n"
     ]
    }
   ],
   "source": [
    "opt1 = SGD(learning_rate=0.01, momentum=0.9, nesterov= True)\n",
    "\n",
    "model.compile(loss='binary_crossentropy',\n",
    "              optimizer=opt1,\n",
    "              metrics=['accuracy'])\n",
    "\n",
    "fit = model.fit(x_train, y_train,\n",
    "                epochs = 60, batch_size = 50,\n",
    "                validation_data = (x_test,y_test),\n",
    "                shuffle = True)"
   ]
  },
  {
   "cell_type": "code",
   "execution_count": 9,
   "metadata": {},
   "outputs": [
    {
     "data": {
      "image/png": "[encoded data removed]",
      "text/plain": [
       "<Figure size 432x288 with 1 Axes>"
      ]
     },
     "metadata": {
      "needs_background": "light"
     },
     "output_type": "display_data"
    },
    {
     "data": {
      "image/png": "[encoded data removed]",
      "text/plain": [
       "<Figure size 432x288 with 1 Axes>"
      ]
     },
     "metadata": {
      "needs_background": "light"
     },
     "output_type": "display_data"
    }
   ],
   "source": [
    "for obs in ('accuracy', 'loss'):\n",
    "    plt.figure(figsize=(6,4))\n",
    "    plt.plot(fit.history[obs], 'r', label = obs + ' of training data')\n",
    "    plt.plot(fit.history['val_'+obs], 'b--', label = obs + ' of test data')\n",
    "    plt.ylabel(obs)\n",
    "    plt.xlabel('Epochs')\n",
    "    plt.legend()\n",
    "    plt.show()"
   ]
  },
  {
   "cell_type": "markdown",
   "metadata": {},
   "source": [
    "2. Try to improve the performance of the DNN over the validation data set by “augmenting”\n",
    "the training data: For every sample there are L s -1 periodic shifts of the kind\n",
    "AAACCCTTTGGG→ GAAACCCTTTGG → GGAAACCCTTTG→ etc.\n",
    "We know that they can break the keys and provide a sample x’[n] with wrong label y[n]\n",
    "(which is the label of original sample x[n]), but they also enlarge the number of good\n",
    "samples for the DNN. Which of the two effects is prevalent?\n",
    "Is the situation improving by augmenting the training data from N t real samples to L s *N t ones with this procedure?"
   ]
  },
  {
   "cell_type": "code",
   "execution_count": 6,
   "metadata": {},
   "outputs": [],
   "source": [
    "def rot(A):\n",
    "    a = []\n",
    "    for i in range(len(A)):\n",
    "        a =np.append(a,A[i:]+A[:i])\n",
    "    return a\n"
   ]
  },
  {
   "cell_type": "code",
   "execution_count": 7,
   "metadata": {},
   "outputs": [
    {
     "name": "stdout",
     "output_type": "stream",
     "text": [
      "Original number of samples 3000\n",
      "Augmented number of samples 48000\n"
     ]
    }
   ],
   "source": [
    "sxx = []\n",
    "syy = np.zeros(len(sx)*Ls)\n",
    "for i in range(len(sx)):\n",
    "    sxx= np.append(sxx,rot(sx[i]))\n",
    "    syy[i*Ls:(i+1)*Ls] = sy[i]\n",
    "syy = syy.astype(int)\n",
    "#syy.astype(int)\n",
    "print('Original number of samples',len(sx))\n",
    "print('Augmented number of samples',len(sxx))"
   ]
  },
  {
   "cell_type": "code",
   "execution_count": 8,
   "metadata": {},
   "outputs": [
    {
     "name": "stdout",
     "output_type": "stream",
     "text": [
      "Size of the sequences:    16\n",
      "Size of the data:         48000\n",
      "Size of the training set: 38400\n",
      "Size of the test set:     9600\n"
     ]
    }
   ],
   "source": [
    "N = len(syy)\n",
    "\n",
    "Ls = len(sxx[0])\n",
    "\n",
    "perc_train = 0.8 # I kept the same train-test ratio as in the lesson\n",
    "N_train = int(N*perc_train)\n",
    "N_test = N - N_train\n",
    "\n",
    "print('Size of the sequences:   ',Ls)\n",
    "print('Size of the data:        ',N)\n",
    "print('Size of the training set:',N_train)\n",
    "print('Size of the test set:    ',N_test)"
   ]
  },
  {
   "cell_type": "code",
   "execution_count": 13,
   "metadata": {},
   "outputs": [
    {
     "name": "stdout",
     "output_type": "stream",
     "text": [
      "AAGGTCTGCCGGCCGA\n",
      "[1. 0. 0. 0. 1. 0. 0. 0. 0. 0. 1. 0. 0. 0. 1. 0. 0. 0. 0. 1. 0. 1. 0. 0.\n",
      " 0. 0. 0. 1. 0. 0. 1. 0. 0. 1. 0. 0. 0. 1. 0. 0. 0. 0. 1. 0. 0. 0. 1. 0.\n",
      " 0. 1. 0. 0. 0. 1. 0. 0. 0. 0. 1. 0. 1. 0. 0. 0.]\n"
     ]
    }
   ],
   "source": [
    "y = syy\n",
    "x = np.zeros((N,L))\n",
    "for n in range(N): #for all the samples\n",
    "    for i in range(Ls): # for every character\n",
    "        x[n][i*4 + onehc[sxx[n][i]]] = 1\n",
    "        \n",
    "print(sxx[0])\n",
    "print(x[0])"
   ]
  },
  {
   "cell_type": "code",
   "execution_count": 14,
   "metadata": {},
   "outputs": [
    {
     "name": "stdout",
     "output_type": "stream",
     "text": [
      "0.24333333333333335\n",
      "0.25833333333333336\n"
     ]
    }
   ],
   "source": [
    "(x_train, y_train) = (x[:N_train],y[:N_train])\n",
    "(x_test, y_test) = (x[N_train:],y[N_train:])\n",
    "\n",
    "# Check the fraction of datas equal to one\n",
    "print(y_train.sum() / N_train)\n",
    "print(y_test.sum() / N_test)"
   ]
  },
  {
   "cell_type": "code",
   "execution_count": 15,
   "metadata": {},
   "outputs": [
    {
     "name": "stdout",
     "output_type": "stream",
     "text": [
      "Model: \"sequential\"\n",
      "_________________________________________________________________\n",
      "Layer (type)                 Output Shape              Param #   \n",
      "=================================================================\n",
      "dense (Dense)                (None, 64)                4160      \n",
      "_________________________________________________________________\n",
      "dense_1 (Dense)              (None, 32)                2080      \n",
      "_________________________________________________________________\n",
      "dense_2 (Dense)              (None, 16)                528       \n",
      "_________________________________________________________________\n",
      "dropout (Dropout)            (None, 16)                0         \n",
      "_________________________________________________________________\n",
      "dense_3 (Dense)              (None, 1)                 17        \n",
      "=================================================================\n",
      "Total params: 6,785\n",
      "Trainable params: 6,785\n",
      "Non-trainable params: 0\n",
      "_________________________________________________________________\n",
      "None\n"
     ]
    }
   ],
   "source": [
    "np.random.seed(123)\n",
    "\n",
    "model = Sequential() #start of implementing a neural network in keras\n",
    "\n",
    "#  x\n",
    "#  x\n",
    "#  x     h\n",
    "#  x     h\n",
    "#  x     h     h    o (0,1)\n",
    "#  x     h\n",
    "#  x\n",
    "#  x\n",
    "#             drop\n",
    "\n",
    "# FIRST LAYER (INPUT)\n",
    "model.add(Dense(L, input_shape=(L,),activation='relu')) # Dense stands for a normal layer\n",
    "\n",
    "# SECOND LAYER (HIDDEN 1)\n",
    "model.add(Dense(L/2,activation='relu'))\n",
    "\n",
    "# THIRD LAYER (HIDDEN 2)\n",
    "model.add(Dense(L/4,activation='relu'))\n",
    "model.add(Dropout(0.2))\n",
    "\n",
    "# FORTH LAYER (OUTPUT) introducing dropouts\n",
    "model.add(Dense(1,activation='sigmoid')) #we need an activation function from 0 to 1\n",
    "\n",
    "print(model.summary())"
   ]
  },
  {
   "cell_type": "code",
   "execution_count": 16,
   "metadata": {},
   "outputs": [
    {
     "name": "stdout",
     "output_type": "stream",
     "text": [
      "Epoch 1/60\n",
      "768/768 [==============================] - 10s 13ms/step - loss: 0.5099 - accuracy: 0.7625 - val_loss: 0.4833 - val_accuracy: 0.7669\n",
      "Epoch 2/60\n",
      "768/768 [==============================] - 11s 14ms/step - loss: 0.4646 - accuracy: 0.7823 - val_loss: 0.4375 - val_accuracy: 0.7979\n",
      "Epoch 3/60\n",
      "768/768 [==============================] - 10s 12ms/step - loss: 0.4102 - accuracy: 0.8132 - val_loss: 0.3979 - val_accuracy: 0.8164\n",
      "Epoch 4/60\n",
      "768/768 [==============================] - 12s 15ms/step - loss: 0.3539 - accuracy: 0.8454 - val_loss: 0.3633 - val_accuracy: 0.8377\n",
      "Epoch 5/60\n",
      "768/768 [==============================] - 13s 17ms/step - loss: 0.3193 - accuracy: 0.8668 - val_loss: 0.3109 - val_accuracy: 0.8703\n",
      "Epoch 6/60\n",
      "768/768 [==============================] - 9s 12ms/step - loss: 0.2967 - accuracy: 0.8792 - val_loss: 0.3008 - val_accuracy: 0.8743\n",
      "Epoch 7/60\n",
      "768/768 [==============================] - 8s 11ms/step - loss: 0.2846 - accuracy: 0.8870 - val_loss: 0.2891 - val_accuracy: 0.8816\n",
      "Epoch 8/60\n",
      "768/768 [==============================] - 9s 12ms/step - loss: 0.2715 - accuracy: 0.8933 - val_loss: 0.2877 - val_accuracy: 0.8823\n",
      "Epoch 9/60\n",
      "768/768 [==============================] - 10s 14ms/step - loss: 0.2642 - accuracy: 0.8984 - val_loss: 0.2751 - val_accuracy: 0.8878\n",
      "Epoch 10/60\n",
      "768/768 [==============================] - 9s 12ms/step - loss: 0.2590 - accuracy: 0.9010 - val_loss: 0.2738 - val_accuracy: 0.8899\n",
      "Epoch 11/60\n",
      "768/768 [==============================] - 8s 10ms/step - loss: 0.2512 - accuracy: 0.9043 - val_loss: 0.2819 - val_accuracy: 0.8811\n",
      "Epoch 12/60\n",
      "768/768 [==============================] - 8s 11ms/step - loss: 0.2460 - accuracy: 0.9066 - val_loss: 0.2728 - val_accuracy: 0.8891\n",
      "Epoch 13/60\n",
      "768/768 [==============================] - 8s 11ms/step - loss: 0.2416 - accuracy: 0.9096 - val_loss: 0.2702 - val_accuracy: 0.8902\n",
      "Epoch 14/60\n",
      "768/768 [==============================] - 9s 11ms/step - loss: 0.2375 - accuracy: 0.9114 - val_loss: 0.2669 - val_accuracy: 0.8939\n",
      "Epoch 15/60\n",
      "768/768 [==============================] - 9s 12ms/step - loss: 0.2335 - accuracy: 0.9131 - val_loss: 0.2814 - val_accuracy: 0.8883\n",
      "Epoch 16/60\n",
      "768/768 [==============================] - 8s 11ms/step - loss: 0.2292 - accuracy: 0.9156 - val_loss: 0.2720 - val_accuracy: 0.8926\n",
      "Epoch 17/60\n",
      "768/768 [==============================] - 8s 11ms/step - loss: 0.2276 - accuracy: 0.9157 - val_loss: 0.2764 - val_accuracy: 0.8908\n",
      "Epoch 18/60\n",
      "768/768 [==============================] - 9s 12ms/step - loss: 0.2230 - accuracy: 0.9177 - val_loss: 0.2662 - val_accuracy: 0.8931\n",
      "Epoch 19/60\n",
      "768/768 [==============================] - 8s 11ms/step - loss: 0.2184 - accuracy: 0.9200 - val_loss: 0.2750 - val_accuracy: 0.8954\n",
      "Epoch 20/60\n",
      "768/768 [==============================] - 11s 14ms/step - loss: 0.2156 - accuracy: 0.9219 - val_loss: 0.2723 - val_accuracy: 0.8954\n",
      "Epoch 21/60\n",
      "768/768 [==============================] - 10s 13ms/step - loss: 0.2139 - accuracy: 0.9208 - val_loss: 0.2594 - val_accuracy: 0.8981\n",
      "Epoch 22/60\n",
      "768/768 [==============================] - 8s 11ms/step - loss: 0.2104 - accuracy: 0.9236 - val_loss: 0.2601 - val_accuracy: 0.8973\n",
      "Epoch 23/60\n",
      "768/768 [==============================] - 10s 13ms/step - loss: 0.2078 - accuracy: 0.9249 - val_loss: 0.2660 - val_accuracy: 0.8925\n",
      "Epoch 24/60\n",
      "768/768 [==============================] - 7s 9ms/step - loss: 0.2067 - accuracy: 0.9254 - val_loss: 0.2709 - val_accuracy: 0.8927\n",
      "Epoch 25/60\n",
      "768/768 [==============================] - 7s 9ms/step - loss: 0.2054 - accuracy: 0.9247 - val_loss: 0.2550 - val_accuracy: 0.9011\n",
      "Epoch 26/60\n",
      "768/768 [==============================] - 12s 16ms/step - loss: 0.2019 - accuracy: 0.9280 - val_loss: 0.2610 - val_accuracy: 0.8988\n",
      "Epoch 27/60\n",
      "768/768 [==============================] - 11s 14ms/step - loss: 0.2002 - accuracy: 0.9279 - val_loss: 0.2712 - val_accuracy: 0.8911\n",
      "Epoch 28/60\n",
      "768/768 [==============================] - 13s 17ms/step - loss: 0.1976 - accuracy: 0.9285 - val_loss: 0.2757 - val_accuracy: 0.8968\n",
      "Epoch 29/60\n",
      "768/768 [==============================] - 10s 13ms/step - loss: 0.1981 - accuracy: 0.9284 - val_loss: 0.2568 - val_accuracy: 0.9043\n",
      "Epoch 30/60\n",
      "768/768 [==============================] - 10s 13ms/step - loss: 0.1935 - accuracy: 0.9314 - val_loss: 0.2622 - val_accuracy: 0.9001\n",
      "Epoch 31/60\n",
      "768/768 [==============================] - 7s 9ms/step - loss: 0.1923 - accuracy: 0.9312 - val_loss: 0.2657 - val_accuracy: 0.8985\n",
      "Epoch 32/60\n",
      "768/768 [==============================] - 9s 12ms/step - loss: 0.1908 - accuracy: 0.9316 - val_loss: 0.2634 - val_accuracy: 0.9001\n",
      "Epoch 33/60\n",
      "768/768 [==============================] - 8s 10ms/step - loss: 0.1906 - accuracy: 0.9319 - val_loss: 0.2742 - val_accuracy: 0.8964\n",
      "Epoch 34/60\n",
      "768/768 [==============================] - 8s 10ms/step - loss: 0.1879 - accuracy: 0.9335 - val_loss: 0.2670 - val_accuracy: 0.8959\n",
      "Epoch 35/60\n",
      "768/768 [==============================] - 9s 11ms/step - loss: 0.1860 - accuracy: 0.9336 - val_loss: 0.2694 - val_accuracy: 0.9039\n",
      "Epoch 36/60\n",
      "768/768 [==============================] - 9s 12ms/step - loss: 0.1856 - accuracy: 0.9339 - val_loss: 0.2689 - val_accuracy: 0.8991\n",
      "Epoch 37/60\n",
      "768/768 [==============================] - 8s 11ms/step - loss: 0.1844 - accuracy: 0.9343 - val_loss: 0.2740 - val_accuracy: 0.9038\n",
      "Epoch 38/60\n",
      "768/768 [==============================] - 8s 11ms/step - loss: 0.1801 - accuracy: 0.9373 - val_loss: 0.2955 - val_accuracy: 0.8950\n",
      "Epoch 39/60\n",
      "768/768 [==============================] - 9s 12ms/step - loss: 0.1825 - accuracy: 0.9351 - val_loss: 0.2773 - val_accuracy: 0.8995\n",
      "Epoch 40/60\n",
      "768/768 [==============================] - 9s 11ms/step - loss: 0.1808 - accuracy: 0.9363 - val_loss: 0.2673 - val_accuracy: 0.9026\n",
      "Epoch 41/60\n",
      "768/768 [==============================] - 9s 12ms/step - loss: 0.1764 - accuracy: 0.9378 - val_loss: 0.2688 - val_accuracy: 0.8995\n",
      "Epoch 42/60\n",
      "768/768 [==============================] - 11s 14ms/step - loss: 0.1778 - accuracy: 0.9377 - val_loss: 0.2958 - val_accuracy: 0.8975\n",
      "Epoch 43/60\n",
      "768/768 [==============================] - 12s 15ms/step - loss: 0.1762 - accuracy: 0.9372 - val_loss: 0.2862 - val_accuracy: 0.8998\n",
      "Epoch 44/60\n",
      "768/768 [==============================] - 10s 13ms/step - loss: 0.1761 - accuracy: 0.9373 - val_loss: 0.2824 - val_accuracy: 0.8975\n",
      "Epoch 45/60\n",
      "768/768 [==============================] - 13s 16ms/step - loss: 0.1743 - accuracy: 0.9382 - val_loss: 0.2891 - val_accuracy: 0.8939\n",
      "Epoch 46/60\n",
      "768/768 [==============================] - 11s 14ms/step - loss: 0.1722 - accuracy: 0.9399 - val_loss: 0.2856 - val_accuracy: 0.9003\n",
      "Epoch 47/60\n",
      "768/768 [==============================] - 12s 15ms/step - loss: 0.1723 - accuracy: 0.9391 - val_loss: 0.2878 - val_accuracy: 0.8942\n",
      "Epoch 48/60\n",
      "768/768 [==============================] - 10s 13ms/step - loss: 0.1699 - accuracy: 0.9391 - val_loss: 0.2818 - val_accuracy: 0.8992\n",
      "Epoch 49/60\n",
      "768/768 [==============================] - 12s 15ms/step - loss: 0.1692 - accuracy: 0.9407 - val_loss: 0.2865 - val_accuracy: 0.8929\n",
      "Epoch 50/60\n",
      "768/768 [==============================] - 12s 15ms/step - loss: 0.1688 - accuracy: 0.9409 - val_loss: 0.2952 - val_accuracy: 0.8968\n",
      "Epoch 51/60\n",
      "768/768 [==============================] - 11s 14ms/step - loss: 0.1680 - accuracy: 0.9417 - val_loss: 0.2971 - val_accuracy: 0.8997\n",
      "Epoch 52/60\n",
      "768/768 [==============================] - 11s 15ms/step - loss: 0.1674 - accuracy: 0.9411 - val_loss: 0.2971 - val_accuracy: 0.8981\n",
      "Epoch 53/60\n",
      "768/768 [==============================] - 12s 16ms/step - loss: 0.1662 - accuracy: 0.9406 - val_loss: 0.2923 - val_accuracy: 0.9000\n",
      "Epoch 54/60\n",
      "768/768 [==============================] - 12s 16ms/step - loss: 0.1656 - accuracy: 0.9413 - val_loss: 0.2810 - val_accuracy: 0.8995\n",
      "Epoch 55/60\n",
      "768/768 [==============================] - 10s 13ms/step - loss: 0.1658 - accuracy: 0.9420 - val_loss: 0.2842 - val_accuracy: 0.9014\n",
      "Epoch 56/60\n",
      "768/768 [==============================] - 11s 14ms/step - loss: 0.1616 - accuracy: 0.9431 - val_loss: 0.2878 - val_accuracy: 0.8954\n",
      "Epoch 57/60\n",
      "768/768 [==============================] - 12s 16ms/step - loss: 0.1622 - accuracy: 0.9437 - val_loss: 0.2881 - val_accuracy: 0.9025\n"
     ]
    },
    {
     "name": "stdout",
     "output_type": "stream",
     "text": [
      "Epoch 58/60\n",
      "768/768 [==============================] - 7s 9ms/step - loss: 0.1608 - accuracy: 0.9427 - val_loss: 0.2935 - val_accuracy: 0.8999\n",
      "Epoch 59/60\n",
      "768/768 [==============================] - 7s 9ms/step - loss: 0.1603 - accuracy: 0.9429 - val_loss: 0.3115 - val_accuracy: 0.8994\n",
      "Epoch 60/60\n",
      "768/768 [==============================] - 7s 9ms/step - loss: 0.1601 - accuracy: 0.9427 - val_loss: 0.3058 - val_accuracy: 0.8943\n"
     ]
    }
   ],
   "source": [
    "opt1 = SGD(learning_rate=0.01, momentum=0.9, nesterov= True)\n",
    "\n",
    "model.compile(loss='binary_crossentropy',\n",
    "              optimizer=opt1,\n",
    "              metrics=['accuracy'])\n",
    "\n",
    "fit = model.fit(x_train, y_train,\n",
    "                epochs = 60, batch_size = 50,\n",
    "                validation_data = (x_test,y_test),\n",
    "                shuffle = True)"
   ]
  },
  {
   "cell_type": "code",
   "execution_count": 17,
   "metadata": {},
   "outputs": [
    {
     "data": {
      "image/png": "[encoded data removed]",
      "text/plain": [
       "<Figure size 432x288 with 1 Axes>"
      ]
     },
     "metadata": {
      "needs_background": "light"
     },
     "output_type": "display_data"
    },
    {
     "data": {
      "image/png": "[encoded data removed]",
      "text/plain": [
       "<Figure size 432x288 with 1 Axes>"
      ]
     },
     "metadata": {
      "needs_background": "light"
     },
     "output_type": "display_data"
    }
   ],
   "source": [
    "for obs in ('accuracy', 'loss'):\n",
    "    plt.figure(figsize=(6,4))\n",
    "    plt.plot(fit.history[obs], 'r', label = obs + ' of training data')\n",
    "    plt.plot(fit.history['val_'+obs], 'b--', label = obs + ' of test data')\n",
    "    plt.ylabel(obs)\n",
    "    plt.xlabel('Epochs')\n",
    "    plt.legend()\n",
    "    plt.show()"
   ]
  },
  {
   "cell_type": "code",
   "execution_count": null,
   "metadata": {},
   "outputs": [],
   "source": []
  },
  {
   "cell_type": "code",
   "execution_count": null,
   "metadata": {},
   "outputs": [],
   "source": []
  },
  {
   "cell_type": "markdown",
   "metadata": {},
   "source": [
    "3. Implement a “grid search” as shown in NB11 to improve one or more of the aspects or\n",
    "parameters of the model. Possible tests include: different activation units (sigmoid, relu, elu,\n",
    "etc.), different minimization algorithms (ADAM, RMSprop, Nesterov, etc.), different\n",
    "dropouts, etc."
   ]
  },
  {
   "cell_type": "markdown",
   "metadata": {},
   "source": [
    "4. See if any rescaling of data may improve the results. For instance one may use [-0.5,+0.5]\n",
    "instead of [0,1] for every bit of x[n]."
   ]
  },
  {
   "cell_type": "code",
   "execution_count": null,
   "metadata": {},
   "outputs": [],
   "source": []
  },
  {
   "cell_type": "code",
   "execution_count": null,
   "metadata": {},
   "outputs": [],
   "source": []
  }
 ],
 "metadata": {
  "kernelspec": {
   "display_name": "Python [conda env:tf]",
   "language": "python",
   "name": "conda-env-tf-py"
  },
  "language_info": {
   "codemirror_mode": {
    "name": "ipython",
    "version": 3
   },
   "file_extension": ".py",
   "mimetype": "text/x-python",
   "name": "python",
   "nbconvert_exporter": "python",
   "pygments_lexer": "ipython3",
   "version": "3.8.5"
  }
 },
 "nbformat": 4,
 "nbformat_minor": 4
}
