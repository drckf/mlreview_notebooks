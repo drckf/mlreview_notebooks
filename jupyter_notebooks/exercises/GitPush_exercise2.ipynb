{
 "cells": [
  {
   "cell_type": "markdown",
   "metadata": {},
   "source": [
    "# LCPB 20-21 exercise 2\n",
    "\n",
    "### Saverio Monaco\n",
    "\n",
    "### Gerardo Carmona\n",
    "\n",
    "### Hilario Capettini"
   ]
  },
  {
   "cell_type": "markdown",
   "metadata": {},
   "source": [
    "0. Preparation"
   ]
  },
  {
   "cell_type": "code",
   "execution_count": 1,
   "metadata": {},
   "outputs": [],
   "source": [
    "import numpy as np\n",
    "import matplotlib.pyplot as plt\n",
    "from mpl_toolkits import mplot3d\n",
    "import matplotlib.pyplot as plt\n",
    "from keras.models import Sequential\n",
    "from keras.layers import Dense, Dropout\n",
    "from keras.optimizers import Adadelta, Adagrad, Adam, Adamax, RMSprop, SGD\n",
    "import time\n",
    "import math\n",
    "\n",
    "from sklearn.model_selection import GridSearchCV\n",
    "from keras.wrappers.scikit_learn import KerasClassifier\n"
   ]
  },
  {
   "cell_type": "code",
   "execution_count": 2,
   "metadata": {},
   "outputs": [
    {
     "name": "stdout",
     "output_type": "stream",
     "text": [
      "Size of the sequences:    16\n",
      "Size of the data:         3000\n",
      "Size of the training set: 2400\n",
      "Size of the test set:     600\n"
     ]
    }
   ],
   "source": [
    "fname = \"DATA/sequences16.csv\"\n",
    "sx, sy = np.loadtxt(fname,delimiter=',',\n",
    "                   usecols=(0,1), unpack=True, dtype=str)\n",
    "N = len(sy)\n",
    "\n",
    "Ls = len(sx[0])\n",
    "\n",
    "\n",
    "perc_train = 0.8 # I kept the same train-test ratio as in the lesson\n",
    "N_train = int(N*perc_train)\n",
    "N_test = N - N_train\n",
    "\n",
    "print('Size of the sequences:   ',Ls)\n",
    "print('Size of the data:        ',N)\n",
    "print('Size of the training set:',N_train)\n",
    "print('Size of the test set:    ',N_test)\n"
   ]
  },
  {
   "cell_type": "code",
   "execution_count": 3,
   "metadata": {},
   "outputs": [
    {
     "name": "stdout",
     "output_type": "stream",
     "text": [
      "AAGGTCTGCCGGCCGA 1\n",
      "CCTCCCTTATGGGGGA 0\n",
      "TCTCTCGGAACTGTCA 0\n",
      "GTTAAACGTTACATCT 0\n",
      "TTAAATGCTGCTGATC 1\n",
      "ATGGAACGAGACGCCG 1\n",
      "AGGCCAAATGAGGATA 1\n",
      "CGAGTACACTTAGGCC 0\n",
      "GAAATAAATCTTATAG 0\n",
      "AATGTAGATATGGAGT 0\n"
     ]
    }
   ],
   "source": [
    "# Just printing some datas to check it\n",
    "# I noticed this isn't the same rule in the lessons, so it is unkown\n",
    "for _ in range(10):\n",
    "    print(sx[_],sy[_])\n"
   ]
  },
  {
   "cell_type": "code",
   "execution_count": 4,
   "metadata": {
    "scrolled": true
   },
   "outputs": [
    {
     "name": "stdout",
     "output_type": "stream",
     "text": [
      "1 <class 'numpy.str_'>\n",
      "1 <class 'numpy.int64'>\n"
     ]
    }
   ],
   "source": [
    "# Converting the label set to int values:\n",
    "print(sy[0],type(sy[0]))\n",
    "y = sy.astype(int)\n",
    "print(y[0],type(y[0]))"
   ]
  },
  {
   "cell_type": "code",
   "execution_count": 5,
   "metadata": {},
   "outputs": [
    {
     "name": "stdout",
     "output_type": "stream",
     "text": [
      "AAGGTCTGCCGGCCGA\n",
      "[1. 0. 0. 0. 1. 0. 0. 0. 0. 0. 1. 0. 0. 0. 1. 0. 0. 0. 0. 1. 0. 1. 0. 0.\n",
      " 0. 0. 0. 1. 0. 0. 1. 0. 0. 1. 0. 0. 0. 1. 0. 0. 0. 0. 1. 0. 0. 0. 1. 0.\n",
      " 0. 1. 0. 0. 0. 1. 0. 0. 0. 0. 1. 0. 1. 0. 0. 0.]\n"
     ]
    }
   ],
   "source": [
    "# Letters and number of letters\n",
    "Q = ['A', 'C', 'G', 'T']\n",
    "Nc = 4\n",
    "\n",
    "# building the dictionary\n",
    "onehc = {Q[i]: i for i in range (Nc)}\n",
    "\n",
    "L = Ls * Nc # lenght of the input array (64)\n",
    "\n",
    "# The following cycle will transform the input vectors (for ex.: AAGGTCTGCCGGCCGA) in a\n",
    "# binary like way\n",
    "#\n",
    "# A = 1000\n",
    "# C = 0100\n",
    "# G = 0010\n",
    "# T = 0001\n",
    "#\n",
    "#   A    A    G    G    T    C   ...\n",
    "# 1000 1000 0010 0010 0001 0100\n",
    "x = np.zeros((N,L))\n",
    "for n in range(N): #for all the samples\n",
    "    for i in range(Ls): # for every character\n",
    "        x[n][i*4 + onehc[sx[n][i]]] = 1\n",
    "        \n",
    "print(sx[0])\n",
    "print(x[0])"
   ]
  },
  {
   "cell_type": "code",
   "execution_count": 6,
   "metadata": {},
   "outputs": [
    {
     "name": "stdout",
     "output_type": "stream",
     "text": [
      "0.24333333333333335\n",
      "0.25833333333333336\n"
     ]
    }
   ],
   "source": [
    "(x_train, y_train) = (x[:N_train],y[:N_train])\n",
    "(x_test, y_test) = (x[N_train:],y[N_train:])\n",
    "\n",
    "# Check the fraction of datas equal to one\n",
    "print(y_train.sum() / N_train)\n",
    "print(y_test.sum() / N_test)"
   ]
  },
  {
   "cell_type": "markdown",
   "metadata": {},
   "source": [
    "1. Is the model converging with a smaller database of samples with longer sequences? By converging we mean reducing significantly the validation loss function."
   ]
  },
  {
   "cell_type": "code",
   "execution_count": 7,
   "metadata": {
    "scrolled": true
   },
   "outputs": [],
   "source": [
    "# I MADE THE SAME TRAINING IMPLEMENTING 3 FUNCTIONS\n",
    "# layer_i is an array representing a hidden layer used to create a neural network:\n",
    "# layer_i = [nodes, activation, dropout_ratio]\n",
    "# hidden_layers is a array of the hidden layers\n",
    "layer_1 = [L/2, 'relu', 0]\n",
    "layer_2 = [L/4, 'relu', .2]\n",
    "hidden_layers = [layer_1,layer_2]\n",
    "\n",
    "# optimization chosen\n",
    "opt = SGD(learning_rate=0.01, momentum=0.9, nesterov= True)\n",
    "\n",
    "# the first function creates the Neural Network, it needs the input dimension and the array of layers\n",
    "def createmodel(input_dim, hid_layers,activation = None, dropout = None, summary = False):\n",
    "    model = Sequential()\n",
    "    \n",
    "    # we add the first layer (input layer)\n",
    "    model.add(Dense(input_dim, input_shape=(input_dim,)))\n",
    "    \n",
    "    # we add the hidden layers\n",
    "    for layer in hid_layers:\n",
    "        act = activation or layer[1]\n",
    "        model.add(Dense(layer[0],activation=act))\n",
    "        drop = dropout or layer[2]\n",
    "        if drop: model.add(Dropout(drop))\n",
    "    \n",
    "    # we add the output layer\n",
    "    model.add(Dense(1,activation='sigmoid'))\n",
    "    if summary: print(model.summary())\n",
    "    \n",
    "    return model\n",
    "\n",
    "# the second function trains the model created with createmodel, as a input it needs the output of createmodels\n",
    "# the optimization and the arguments of model.fit() (except for shuffle)\n",
    "def trainmodel(model, opt, *args, verbose = 0, **kwargs):\n",
    "    model.compile(loss='binary_crossentropy',\n",
    "                  optimizer=opt,\n",
    "                  metrics=['accuracy'])\n",
    "\n",
    "    fit = model.fit(*args, **kwargs, shuffle = True, verbose = verbose)\n",
    "    '''fit = model.fit(x_train, y_train,\n",
    "                    epochs = 60, batch_size = 50,\n",
    "                    validation_data = (x_test,y_test),\n",
    "                    shuffle = True)'''\n",
    "    \n",
    "    return fit\n",
    "\n",
    "# the third function takes the output of trainmodel and plot the loss of training data and test data\n",
    "def plotmodel(fit):\n",
    "    for obs in ('accuracy', 'loss'):\n",
    "        plt.figure(figsize=(6,4))\n",
    "        plt.plot(fit.history[obs], 'r', label = obs + ' of training data')\n",
    "        plt.plot(fit.history['val_'+obs], 'b--', label = obs + ' of test data')\n",
    "        plt.ylabel(obs)\n",
    "        plt.xlabel('Epochs')\n",
    "        plt.legend()\n",
    "        plt.show()\n",
    "        "
   ]
  },
  {
   "cell_type": "code",
   "execution_count": 8,
   "metadata": {
    "scrolled": true
   },
   "outputs": [
    {
     "name": "stdout",
     "output_type": "stream",
     "text": [
      "Model: \"sequential\"\n",
      "_________________________________________________________________\n",
      "Layer (type)                 Output Shape              Param #   \n",
      "=================================================================\n",
      "dense (Dense)                (None, 64)                4160      \n",
      "_________________________________________________________________\n",
      "dense_1 (Dense)              (None, 32)                2080      \n",
      "_________________________________________________________________\n",
      "dense_2 (Dense)              (None, 16)                528       \n",
      "_________________________________________________________________\n",
      "dropout (Dropout)            (None, 16)                0         \n",
      "_________________________________________________________________\n",
      "dense_3 (Dense)              (None, 1)                 17        \n",
      "=================================================================\n",
      "Total params: 6,785\n",
      "Trainable params: 6,785\n",
      "Non-trainable params: 0\n",
      "_________________________________________________________________\n",
      "None\n",
      "Epoch 1/60\n",
      "48/48 [==============================] - 0s 9ms/step - loss: 0.5686 - accuracy: 0.7392 - val_loss: 0.5405 - val_accuracy: 0.7400\n",
      "Epoch 2/60\n",
      "48/48 [==============================] - 0s 5ms/step - loss: 0.5055 - accuracy: 0.7592 - val_loss: 0.5148 - val_accuracy: 0.7433\n",
      "Epoch 3/60\n",
      "48/48 [==============================] - 0s 5ms/step - loss: 0.4891 - accuracy: 0.7708 - val_loss: 0.5127 - val_accuracy: 0.7417\n",
      "Epoch 4/60\n",
      "48/48 [==============================] - 0s 4ms/step - loss: 0.4751 - accuracy: 0.7692 - val_loss: 0.5058 - val_accuracy: 0.7350\n",
      "Epoch 5/60\n",
      "48/48 [==============================] - 0s 5ms/step - loss: 0.4747 - accuracy: 0.7700 - val_loss: 0.5030 - val_accuracy: 0.7450\n",
      "Epoch 6/60\n",
      "48/48 [==============================] - 0s 5ms/step - loss: 0.4674 - accuracy: 0.7825 - val_loss: 0.5009 - val_accuracy: 0.7567\n",
      "Epoch 7/60\n",
      "48/48 [==============================] - 0s 5ms/step - loss: 0.4613 - accuracy: 0.7792 - val_loss: 0.5052 - val_accuracy: 0.7450\n",
      "Epoch 8/60\n",
      "48/48 [==============================] - 0s 5ms/step - loss: 0.4609 - accuracy: 0.7862 - val_loss: 0.4999 - val_accuracy: 0.7517\n",
      "Epoch 9/60\n",
      "48/48 [==============================] - 0s 5ms/step - loss: 0.4505 - accuracy: 0.7862 - val_loss: 0.4964 - val_accuracy: 0.7550\n",
      "Epoch 10/60\n",
      "48/48 [==============================] - 0s 8ms/step - loss: 0.4513 - accuracy: 0.7942 - val_loss: 0.4999 - val_accuracy: 0.7583\n",
      "Epoch 11/60\n",
      "48/48 [==============================] - 0s 7ms/step - loss: 0.4491 - accuracy: 0.7904 - val_loss: 0.4939 - val_accuracy: 0.7533\n",
      "Epoch 12/60\n",
      "48/48 [==============================] - 0s 5ms/step - loss: 0.4411 - accuracy: 0.8033 - val_loss: 0.4906 - val_accuracy: 0.7650\n",
      "Epoch 13/60\n",
      "48/48 [==============================] - 0s 7ms/step - loss: 0.4385 - accuracy: 0.8029 - val_loss: 0.4927 - val_accuracy: 0.7617\n",
      "Epoch 14/60\n",
      "48/48 [==============================] - 0s 5ms/step - loss: 0.4317 - accuracy: 0.8000 - val_loss: 0.4944 - val_accuracy: 0.7683\n",
      "Epoch 15/60\n",
      "48/48 [==============================] - 0s 6ms/step - loss: 0.4194 - accuracy: 0.8046 - val_loss: 0.4841 - val_accuracy: 0.7683\n",
      "Epoch 16/60\n",
      "48/48 [==============================] - 0s 5ms/step - loss: 0.4130 - accuracy: 0.8092 - val_loss: 0.4780 - val_accuracy: 0.7667\n",
      "Epoch 17/60\n",
      "48/48 [==============================] - 0s 5ms/step - loss: 0.4070 - accuracy: 0.8129 - val_loss: 0.4813 - val_accuracy: 0.7667\n",
      "Epoch 18/60\n",
      "48/48 [==============================] - 0s 6ms/step - loss: 0.3964 - accuracy: 0.8217 - val_loss: 0.4778 - val_accuracy: 0.7783\n",
      "Epoch 19/60\n",
      "48/48 [==============================] - 0s 6ms/step - loss: 0.3903 - accuracy: 0.8296 - val_loss: 0.4778 - val_accuracy: 0.7650\n",
      "Epoch 20/60\n",
      "48/48 [==============================] - 0s 5ms/step - loss: 0.3818 - accuracy: 0.8225 - val_loss: 0.4727 - val_accuracy: 0.7700\n",
      "Epoch 21/60\n",
      "48/48 [==============================] - 0s 6ms/step - loss: 0.3692 - accuracy: 0.8338 - val_loss: 0.4739 - val_accuracy: 0.7717\n",
      "Epoch 22/60\n",
      "48/48 [==============================] - 0s 5ms/step - loss: 0.3572 - accuracy: 0.8454 - val_loss: 0.4753 - val_accuracy: 0.7733\n",
      "Epoch 23/60\n",
      "48/48 [==============================] - 0s 6ms/step - loss: 0.3504 - accuracy: 0.8483 - val_loss: 0.4831 - val_accuracy: 0.7700\n",
      "Epoch 24/60\n",
      "48/48 [==============================] - 0s 5ms/step - loss: 0.3389 - accuracy: 0.8533 - val_loss: 0.4812 - val_accuracy: 0.7717\n",
      "Epoch 25/60\n",
      "48/48 [==============================] - 0s 6ms/step - loss: 0.3329 - accuracy: 0.8417 - val_loss: 0.4884 - val_accuracy: 0.7750\n",
      "Epoch 26/60\n",
      "48/48 [==============================] - 0s 5ms/step - loss: 0.3195 - accuracy: 0.8658 - val_loss: 0.4859 - val_accuracy: 0.7767\n",
      "Epoch 27/60\n",
      "48/48 [==============================] - 0s 9ms/step - loss: 0.3173 - accuracy: 0.8654 - val_loss: 0.4797 - val_accuracy: 0.7750\n",
      "Epoch 28/60\n",
      "48/48 [==============================] - 0s 6ms/step - loss: 0.2995 - accuracy: 0.8758 - val_loss: 0.5083 - val_accuracy: 0.7583\n",
      "Epoch 29/60\n",
      "48/48 [==============================] - 0s 8ms/step - loss: 0.2836 - accuracy: 0.8842 - val_loss: 0.4937 - val_accuracy: 0.7683\n",
      "Epoch 30/60\n",
      "48/48 [==============================] - 0s 5ms/step - loss: 0.2819 - accuracy: 0.8838 - val_loss: 0.5244 - val_accuracy: 0.7667\n",
      "Epoch 31/60\n",
      "48/48 [==============================] - 0s 6ms/step - loss: 0.2642 - accuracy: 0.8888 - val_loss: 0.5283 - val_accuracy: 0.7750\n",
      "Epoch 32/60\n",
      "48/48 [==============================] - 0s 4ms/step - loss: 0.2533 - accuracy: 0.9004 - val_loss: 0.5166 - val_accuracy: 0.7700\n",
      "Epoch 33/60\n",
      "48/48 [==============================] - 0s 7ms/step - loss: 0.2386 - accuracy: 0.9075 - val_loss: 0.5386 - val_accuracy: 0.7617\n",
      "Epoch 34/60\n",
      "48/48 [==============================] - 0s 7ms/step - loss: 0.2364 - accuracy: 0.9062 - val_loss: 0.5218 - val_accuracy: 0.7667\n",
      "Epoch 35/60\n",
      "48/48 [==============================] - 0s 7ms/step - loss: 0.2362 - accuracy: 0.9050 - val_loss: 0.5550 - val_accuracy: 0.7700\n",
      "Epoch 36/60\n",
      "48/48 [==============================] - 0s 6ms/step - loss: 0.2138 - accuracy: 0.9142 - val_loss: 0.6200 - val_accuracy: 0.7650\n",
      "Epoch 37/60\n",
      "48/48 [==============================] - 0s 9ms/step - loss: 0.2087 - accuracy: 0.9146 - val_loss: 0.5811 - val_accuracy: 0.7733\n",
      "Epoch 38/60\n",
      "48/48 [==============================] - 0s 7ms/step - loss: 0.1940 - accuracy: 0.9192 - val_loss: 0.5997 - val_accuracy: 0.7733\n",
      "Epoch 39/60\n",
      "48/48 [==============================] - 0s 6ms/step - loss: 0.1855 - accuracy: 0.9217 - val_loss: 0.6434 - val_accuracy: 0.7700\n",
      "Epoch 40/60\n",
      "48/48 [==============================] - 0s 7ms/step - loss: 0.1657 - accuracy: 0.9312 - val_loss: 0.6470 - val_accuracy: 0.7667\n",
      "Epoch 41/60\n",
      "48/48 [==============================] - 0s 5ms/step - loss: 0.1673 - accuracy: 0.9321 - val_loss: 0.6572 - val_accuracy: 0.7733\n",
      "Epoch 42/60\n",
      "48/48 [==============================] - 0s 8ms/step - loss: 0.1504 - accuracy: 0.9375 - val_loss: 0.6799 - val_accuracy: 0.7817\n",
      "Epoch 43/60\n",
      "48/48 [==============================] - 0s 6ms/step - loss: 0.1460 - accuracy: 0.9392 - val_loss: 0.7308 - val_accuracy: 0.7550\n",
      "Epoch 44/60\n",
      "48/48 [==============================] - 0s 9ms/step - loss: 0.1397 - accuracy: 0.9433 - val_loss: 0.7061 - val_accuracy: 0.7550\n",
      "Epoch 45/60\n",
      "48/48 [==============================] - 0s 5ms/step - loss: 0.1253 - accuracy: 0.9521 - val_loss: 0.7372 - val_accuracy: 0.7717\n",
      "Epoch 46/60\n",
      "48/48 [==============================] - 0s 7ms/step - loss: 0.1209 - accuracy: 0.9538 - val_loss: 0.7537 - val_accuracy: 0.7817\n",
      "Epoch 47/60\n",
      "48/48 [==============================] - 0s 7ms/step - loss: 0.1173 - accuracy: 0.9563 - val_loss: 0.7447 - val_accuracy: 0.7817\n",
      "Epoch 48/60\n",
      "48/48 [==============================] - 0s 8ms/step - loss: 0.1133 - accuracy: 0.9608 - val_loss: 0.7875 - val_accuracy: 0.7633\n",
      "Epoch 49/60\n",
      "48/48 [==============================] - 0s 5ms/step - loss: 0.0951 - accuracy: 0.9633 - val_loss: 0.8001 - val_accuracy: 0.7800\n",
      "Epoch 50/60\n",
      "48/48 [==============================] - 0s 7ms/step - loss: 0.0833 - accuracy: 0.9704 - val_loss: 0.9228 - val_accuracy: 0.7633\n",
      "Epoch 51/60\n",
      "48/48 [==============================] - 0s 6ms/step - loss: 0.0935 - accuracy: 0.9646 - val_loss: 0.8538 - val_accuracy: 0.7750\n"
     ]
    },
    {
     "name": "stdout",
     "output_type": "stream",
     "text": [
      "Epoch 52/60\n",
      "48/48 [==============================] - 0s 7ms/step - loss: 0.0862 - accuracy: 0.9667 - val_loss: 0.9465 - val_accuracy: 0.7617\n",
      "Epoch 53/60\n",
      "48/48 [==============================] - 0s 8ms/step - loss: 0.0909 - accuracy: 0.9646 - val_loss: 0.9209 - val_accuracy: 0.7833\n",
      "Epoch 54/60\n",
      "48/48 [==============================] - 0s 8ms/step - loss: 0.0855 - accuracy: 0.9679 - val_loss: 0.9782 - val_accuracy: 0.7633\n",
      "Epoch 55/60\n",
      "48/48 [==============================] - 0s 8ms/step - loss: 0.0791 - accuracy: 0.9712 - val_loss: 0.9597 - val_accuracy: 0.7733\n",
      "Epoch 56/60\n",
      "48/48 [==============================] - 0s 5ms/step - loss: 0.0773 - accuracy: 0.9696 - val_loss: 0.9850 - val_accuracy: 0.7717\n",
      "Epoch 57/60\n",
      "48/48 [==============================] - 0s 8ms/step - loss: 0.0760 - accuracy: 0.9750 - val_loss: 1.0425 - val_accuracy: 0.7550\n",
      "Epoch 58/60\n",
      "48/48 [==============================] - 0s 6ms/step - loss: 0.0637 - accuracy: 0.9787 - val_loss: 1.0951 - val_accuracy: 0.7717\n",
      "Epoch 59/60\n",
      "48/48 [==============================] - 0s 5ms/step - loss: 0.0547 - accuracy: 0.9808 - val_loss: 1.0307 - val_accuracy: 0.7800\n",
      "Epoch 60/60\n",
      "48/48 [==============================] - 0s 6ms/step - loss: 0.0523 - accuracy: 0.9837 - val_loss: 1.1013 - val_accuracy: 0.7717\n"
     ]
    }
   ],
   "source": [
    "#Define the model\n",
    "model = createmodel(L,hidden_layers, summary = True)\n",
    "\n",
    "#Train the NN\n",
    "training = trainmodel(model, opt, x_train, y_train,\n",
    "          epochs=60, batch_size=50, validation_data= (x_test, y_test), verbose=1)\n"
   ]
  },
  {
   "cell_type": "code",
   "execution_count": 9,
   "metadata": {
    "scrolled": true
   },
   "outputs": [
    {
     "name": "stdout",
     "output_type": "stream",
     "text": [
      "19/19 [==============================] - 0s 3ms/step - loss: 1.1013 - accuracy: 0.7717\n",
      "\n",
      "Test loss: 1.101320743560791\n",
      "Test accuracy: 0.7716666460037231\n"
     ]
    },
    {
     "data": {
      "image/png": "[encoded data removed]",
      "text/plain": [
       "<Figure size 432x288 with 1 Axes>"
      ]
     },
     "metadata": {
      "needs_background": "light"
     },
     "output_type": "display_data"
    },
    {
     "data": {
      "image/png": "[encoded data removed]",
      "text/plain": [
       "<Figure size 432x288 with 1 Axes>"
      ]
     },
     "metadata": {
      "needs_background": "light"
     },
     "output_type": "display_data"
    }
   ],
   "source": [
    "# evaluate model\n",
    "score = model.evaluate(x_test, y_test, verbose=1)\n",
    "\n",
    "# print performance\n",
    "print()\n",
    "print('Test loss:', score[0])\n",
    "print('Test accuracy:', score[1])\n",
    "\n",
    "plotmodel(training)"
   ]
  },
  {
   "cell_type": "markdown",
   "metadata": {},
   "source": [
    "We can observe that the loss function is not converging over the test samples for this set of longer strings (16 characters) and less samples (3000) when compared with the dataset studied during the third lecture. On the other hand the loss function over the test set was converging for the case of the aforementioned dataset, reaching an approximate value of 0.2.\n",
    "\n",
    "This is something reasonable since the number of trainable parameters for the NN (6785) is bigger than the number of samples in the dataset (3000)."
   ]
  },
  {
   "cell_type": "markdown",
   "metadata": {},
   "source": [
    "2. Try to improve the performance of the DNN over the validation data set by “augmenting”\n",
    "the training data: For every sample there are L s -1 periodic shifts of the kind\n",
    "AAACCCTTTGGG→ GAAACCCTTTGG → GGAAACCCTTTG→ etc.\n",
    "We know that they can break the keys and provide a sample x’[n] with wrong label y[n]\n",
    "(which is the label of original sample x[n]), but they also enlarge the number of good\n",
    "samples for the DNN. Which of the two effects is prevalent?\n",
    "Is the situation improving by augmenting the training data from N t real samples to L s *N t ones with this procedure?"
   ]
  },
  {
   "cell_type": "code",
   "execution_count": 10,
   "metadata": {},
   "outputs": [],
   "source": [
    "#This function produces the permutations\n",
    "rot = lambda A: [A[i:]+A[:i] for i in range(len(A))]"
   ]
  },
  {
   "cell_type": "code",
   "execution_count": 11,
   "metadata": {
    "scrolled": true
   },
   "outputs": [],
   "source": [
    "#Generate the augmented data\n",
    "sxx = []\n",
    "syy = np.zeros(len(sx)*Ls)\n",
    "for i in range(len(sx)):\n",
    "    sxx= np.append(sxx,rot(sx[i]))\n",
    "    syy[i*Ls:(i+1)*Ls] = sy[i]\n",
    "syy = syy.astype(int)\n",
    "\n",
    "#Now we permutate the samples \n",
    "permutation = np.random.permutation(sxx.shape[0])\n",
    "\n",
    "sxx = sxx[permutation] \n",
    "syy = syy[permutation]"
   ]
  },
  {
   "cell_type": "code",
   "execution_count": 12,
   "metadata": {},
   "outputs": [
    {
     "name": "stdout",
     "output_type": "stream",
     "text": [
      "Size of the sequences:    16\n",
      "Size of the data:         48000\n",
      "Size of the training set: 38400\n",
      "Size of the test set:     9600\n"
     ]
    }
   ],
   "source": [
    "N = len(syy)\n",
    "\n",
    "Ls = len(sxx[0])\n",
    "\n",
    "perc_train = 0.8 # I kept the same train-test ratio as in the lesson\n",
    "N_train = int(N*perc_train)\n",
    "N_test = N - N_train\n",
    "\n",
    "print('Size of the sequences:   ',Ls)\n",
    "print('Size of the data:        ',N)\n",
    "print('Size of the training set:',N_train)\n",
    "print('Size of the test set:    ',N_test)"
   ]
  },
  {
   "cell_type": "code",
   "execution_count": 13,
   "metadata": {},
   "outputs": [
    {
     "name": "stdout",
     "output_type": "stream",
     "text": [
      "TGAATTATACTTTATT\n",
      "[0. 0. 0. 1. 0. 0. 1. 0. 1. 0. 0. 0. 1. 0. 0. 0. 0. 0. 0. 1. 0. 0. 0. 1.\n",
      " 1. 0. 0. 0. 0. 0. 0. 1. 1. 0. 0. 0. 0. 1. 0. 0. 0. 0. 0. 1. 0. 0. 0. 1.\n",
      " 0. 0. 0. 1. 1. 0. 0. 0. 0. 0. 0. 1. 0. 0. 0. 1.]\n"
     ]
    }
   ],
   "source": [
    "y = syy\n",
    "x = np.zeros((N,L))\n",
    "for n in range(N): #for all the samples\n",
    "    for i in range(Ls): # for every character\n",
    "        x[n][i*4 + onehc[sxx[n][i]]] = 1\n",
    "        \n",
    "print(sxx[0])\n",
    "print(x[0])"
   ]
  },
  {
   "cell_type": "code",
   "execution_count": 28,
   "metadata": {},
   "outputs": [],
   "source": [
    "# WRITE THE PROCESSED DATA IN FILES, THIS IS FOR EX_3\n",
    "import csv\n",
    "\n",
    "ex_3_fname_x = \"DATA/sequences16_x_augmented.csv\"\n",
    "ex_3_fname_y = \"DATA/sequences16_y_augmented.csv\"\n",
    "\n",
    "with open(ex_3_fname_x, mode ='w') as myfile:\n",
    "    writer = csv.writer(myfile)\n",
    "    for n in range(N):\n",
    "        writer.writerow(x[n].astype(int))\n",
    "\n",
    "with open(ex_3_fname_y, mode ='w') as myfile:\n",
    "    for n in range(N):\n",
    "        myfile.write(str(y[n])+'\\n')"
   ]
  },
  {
   "cell_type": "code",
   "execution_count": 14,
   "metadata": {},
   "outputs": [
    {
     "name": "stdout",
     "output_type": "stream",
     "text": [
      "0.245703125\n",
      "0.24885416666666665\n"
     ]
    }
   ],
   "source": [
    "(x_train, y_train) = (x[:N_train],y[:N_train])\n",
    "(x_test, y_test) = (x[N_train:],y[N_train:])\n",
    "\n",
    "# Check the fraction of datas equal to one\n",
    "print(y_train.sum() / N_train)\n",
    "print(y_test.sum() / N_test)"
   ]
  },
  {
   "cell_type": "code",
   "execution_count": 15,
   "metadata": {
    "scrolled": true
   },
   "outputs": [
    {
     "name": "stdout",
     "output_type": "stream",
     "text": [
      "Model: \"sequential_1\"\n",
      "_________________________________________________________________\n",
      "Layer (type)                 Output Shape              Param #   \n",
      "=================================================================\n",
      "dense_4 (Dense)              (None, 64)                4160      \n",
      "_________________________________________________________________\n",
      "dense_5 (Dense)              (None, 32)                2080      \n",
      "_________________________________________________________________\n",
      "dense_6 (Dense)              (None, 16)                528       \n",
      "_________________________________________________________________\n",
      "dropout_1 (Dropout)          (None, 16)                0         \n",
      "_________________________________________________________________\n",
      "dense_7 (Dense)              (None, 1)                 17        \n",
      "=================================================================\n",
      "Total params: 6,785\n",
      "Trainable params: 6,785\n",
      "Non-trainable params: 0\n",
      "_________________________________________________________________\n",
      "None\n",
      "Epoch 1/60\n",
      "768/768 [==============================] - 1s 684us/step - loss: 0.5467 - accuracy: 0.7300 - val_loss: 0.4947 - val_accuracy: 0.7628\n",
      "Epoch 2/60\n",
      "768/768 [==============================] - 0s 546us/step - loss: 0.4856 - accuracy: 0.7703 - val_loss: 0.4688 - val_accuracy: 0.7806\n",
      "Epoch 3/60\n",
      "768/768 [==============================] - 0s 545us/step - loss: 0.4600 - accuracy: 0.7847 - val_loss: 0.4448 - val_accuracy: 0.7942\n",
      "Epoch 4/60\n",
      "768/768 [==============================] - 0s 546us/step - loss: 0.4213 - accuracy: 0.8040 - val_loss: 0.4124 - val_accuracy: 0.8123\n",
      "Epoch 5/60\n",
      "768/768 [==============================] - 0s 548us/step - loss: 0.3912 - accuracy: 0.8230 - val_loss: 0.3833 - val_accuracy: 0.8275\n",
      "Epoch 6/60\n",
      "768/768 [==============================] - 0s 540us/step - loss: 0.3680 - accuracy: 0.8357 - val_loss: 0.3710 - val_accuracy: 0.8324\n",
      "Epoch 7/60\n",
      "768/768 [==============================] - 0s 540us/step - loss: 0.3503 - accuracy: 0.8453 - val_loss: 0.3484 - val_accuracy: 0.8471\n",
      "Epoch 8/60\n",
      "768/768 [==============================] - 0s 544us/step - loss: 0.3371 - accuracy: 0.8527 - val_loss: 0.3417 - val_accuracy: 0.8504\n",
      "Epoch 9/60\n",
      "768/768 [==============================] - 0s 548us/step - loss: 0.3156 - accuracy: 0.8673 - val_loss: 0.3286 - val_accuracy: 0.8598\n",
      "Epoch 10/60\n",
      "768/768 [==============================] - 0s 539us/step - loss: 0.3101 - accuracy: 0.8692 - val_loss: 0.3183 - val_accuracy: 0.8665\n",
      "Epoch 11/60\n",
      "768/768 [==============================] - 0s 540us/step - loss: 0.3011 - accuracy: 0.8752 - val_loss: 0.3199 - val_accuracy: 0.8646\n",
      "Epoch 12/60\n",
      "768/768 [==============================] - 0s 541us/step - loss: 0.2898 - accuracy: 0.8806 - val_loss: 0.3105 - val_accuracy: 0.8711\n",
      "Epoch 13/60\n",
      "768/768 [==============================] - 0s 542us/step - loss: 0.2844 - accuracy: 0.8819 - val_loss: 0.3051 - val_accuracy: 0.8732\n",
      "Epoch 14/60\n",
      "768/768 [==============================] - 0s 537us/step - loss: 0.2820 - accuracy: 0.8894 - val_loss: 0.3106 - val_accuracy: 0.8730\n",
      "Epoch 15/60\n",
      "768/768 [==============================] - 0s 538us/step - loss: 0.2783 - accuracy: 0.8885 - val_loss: 0.3015 - val_accuracy: 0.8760\n",
      "Epoch 16/60\n",
      "768/768 [==============================] - 0s 541us/step - loss: 0.2740 - accuracy: 0.8923 - val_loss: 0.2998 - val_accuracy: 0.8783\n",
      "Epoch 17/60\n",
      "768/768 [==============================] - 0s 546us/step - loss: 0.2668 - accuracy: 0.8929 - val_loss: 0.3025 - val_accuracy: 0.8725\n",
      "Epoch 18/60\n",
      "768/768 [==============================] - 0s 545us/step - loss: 0.2640 - accuracy: 0.8938 - val_loss: 0.2966 - val_accuracy: 0.8788\n",
      "Epoch 19/60\n",
      "768/768 [==============================] - 0s 544us/step - loss: 0.2634 - accuracy: 0.8989 - val_loss: 0.3025 - val_accuracy: 0.8717\n",
      "Epoch 20/60\n",
      "768/768 [==============================] - 0s 553us/step - loss: 0.2613 - accuracy: 0.8981 - val_loss: 0.2889 - val_accuracy: 0.8836\n",
      "Epoch 21/60\n",
      "768/768 [==============================] - 0s 555us/step - loss: 0.2651 - accuracy: 0.8972 - val_loss: 0.2962 - val_accuracy: 0.8758\n",
      "Epoch 22/60\n",
      "768/768 [==============================] - 0s 549us/step - loss: 0.2558 - accuracy: 0.8976 - val_loss: 0.2844 - val_accuracy: 0.8828\n",
      "Epoch 23/60\n",
      "768/768 [==============================] - 0s 541us/step - loss: 0.2587 - accuracy: 0.9009 - val_loss: 0.2867 - val_accuracy: 0.8884\n",
      "Epoch 24/60\n",
      "768/768 [==============================] - 0s 541us/step - loss: 0.2469 - accuracy: 0.9056 - val_loss: 0.2939 - val_accuracy: 0.8818\n",
      "Epoch 25/60\n",
      "768/768 [==============================] - 0s 542us/step - loss: 0.2560 - accuracy: 0.9002 - val_loss: 0.2885 - val_accuracy: 0.8817\n",
      "Epoch 26/60\n",
      "768/768 [==============================] - 0s 552us/step - loss: 0.2489 - accuracy: 0.9019 - val_loss: 0.2811 - val_accuracy: 0.8920\n",
      "Epoch 27/60\n",
      "768/768 [==============================] - 0s 548us/step - loss: 0.2499 - accuracy: 0.9032 - val_loss: 0.2805 - val_accuracy: 0.8903\n",
      "Epoch 28/60\n",
      "768/768 [==============================] - 0s 551us/step - loss: 0.2426 - accuracy: 0.9070 - val_loss: 0.2779 - val_accuracy: 0.8890\n",
      "Epoch 29/60\n",
      "768/768 [==============================] - 0s 546us/step - loss: 0.2526 - accuracy: 0.9035 - val_loss: 0.2776 - val_accuracy: 0.8914\n",
      "Epoch 30/60\n",
      "768/768 [==============================] - 0s 550us/step - loss: 0.2480 - accuracy: 0.9061 - val_loss: 0.2730 - val_accuracy: 0.8925\n",
      "Epoch 31/60\n",
      "768/768 [==============================] - 0s 546us/step - loss: 0.2402 - accuracy: 0.9130 - val_loss: 0.2791 - val_accuracy: 0.8900\n",
      "Epoch 32/60\n",
      "768/768 [==============================] - 0s 545us/step - loss: 0.2462 - accuracy: 0.9068 - val_loss: 0.2796 - val_accuracy: 0.8904\n",
      "Epoch 33/60\n",
      "768/768 [==============================] - 0s 547us/step - loss: 0.2397 - accuracy: 0.9110 - val_loss: 0.2805 - val_accuracy: 0.8919\n",
      "Epoch 34/60\n",
      "768/768 [==============================] - 0s 541us/step - loss: 0.2389 - accuracy: 0.9110 - val_loss: 0.2828 - val_accuracy: 0.8896\n",
      "Epoch 35/60\n",
      "768/768 [==============================] - 0s 546us/step - loss: 0.2399 - accuracy: 0.9092 - val_loss: 0.2742 - val_accuracy: 0.8951\n",
      "Epoch 36/60\n",
      "768/768 [==============================] - 0s 553us/step - loss: 0.2370 - accuracy: 0.9114 - val_loss: 0.2770 - val_accuracy: 0.8924\n",
      "Epoch 37/60\n",
      "768/768 [==============================] - 0s 548us/step - loss: 0.2338 - accuracy: 0.9142 - val_loss: 0.2812 - val_accuracy: 0.8932\n",
      "Epoch 38/60\n",
      "768/768 [==============================] - 0s 551us/step - loss: 0.2348 - accuracy: 0.9118 - val_loss: 0.2824 - val_accuracy: 0.8890\n",
      "Epoch 39/60\n",
      "768/768 [==============================] - 0s 549us/step - loss: 0.2395 - accuracy: 0.9111 - val_loss: 0.2755 - val_accuracy: 0.8932\n",
      "Epoch 40/60\n",
      "768/768 [==============================] - 0s 548us/step - loss: 0.2316 - accuracy: 0.9134 - val_loss: 0.2706 - val_accuracy: 0.8935\n",
      "Epoch 41/60\n",
      "768/768 [==============================] - 0s 553us/step - loss: 0.2308 - accuracy: 0.9132 - val_loss: 0.2774 - val_accuracy: 0.8934\n",
      "Epoch 42/60\n",
      "768/768 [==============================] - 0s 549us/step - loss: 0.2340 - accuracy: 0.9118 - val_loss: 0.2742 - val_accuracy: 0.8959\n",
      "Epoch 43/60\n",
      "768/768 [==============================] - 0s 551us/step - loss: 0.2340 - accuracy: 0.9140 - val_loss: 0.2796 - val_accuracy: 0.8932\n",
      "Epoch 44/60\n",
      "768/768 [==============================] - 0s 548us/step - loss: 0.2265 - accuracy: 0.9178 - val_loss: 0.2768 - val_accuracy: 0.8994\n",
      "Epoch 45/60\n",
      "768/768 [==============================] - 0s 551us/step - loss: 0.2253 - accuracy: 0.9173 - val_loss: 0.2696 - val_accuracy: 0.8992\n",
      "Epoch 46/60\n",
      "768/768 [==============================] - 0s 544us/step - loss: 0.2277 - accuracy: 0.9160 - val_loss: 0.2661 - val_accuracy: 0.8985\n",
      "Epoch 47/60\n",
      "768/768 [==============================] - 0s 552us/step - loss: 0.2299 - accuracy: 0.9146 - val_loss: 0.2673 - val_accuracy: 0.8992\n",
      "Epoch 48/60\n",
      "768/768 [==============================] - 0s 553us/step - loss: 0.2213 - accuracy: 0.9190 - val_loss: 0.2750 - val_accuracy: 0.8980\n",
      "Epoch 49/60\n",
      "768/768 [==============================] - 0s 549us/step - loss: 0.2211 - accuracy: 0.9190 - val_loss: 0.2686 - val_accuracy: 0.8983\n",
      "Epoch 50/60\n",
      "768/768 [==============================] - 0s 549us/step - loss: 0.2218 - accuracy: 0.9190 - val_loss: 0.2649 - val_accuracy: 0.8994\n",
      "Epoch 51/60\n",
      "768/768 [==============================] - 0s 557us/step - loss: 0.2229 - accuracy: 0.9194 - val_loss: 0.2701 - val_accuracy: 0.9003\n",
      "Epoch 52/60\n",
      "768/768 [==============================] - 0s 550us/step - loss: 0.2194 - accuracy: 0.9200 - val_loss: 0.2651 - val_accuracy: 0.8999\n",
      "Epoch 53/60\n",
      "768/768 [==============================] - 0s 550us/step - loss: 0.2189 - accuracy: 0.9207 - val_loss: 0.2607 - val_accuracy: 0.9018\n",
      "Epoch 54/60\n",
      "768/768 [==============================] - 0s 548us/step - loss: 0.2231 - accuracy: 0.9182 - val_loss: 0.2761 - val_accuracy: 0.8943\n",
      "Epoch 55/60\n",
      "768/768 [==============================] - 0s 550us/step - loss: 0.2203 - accuracy: 0.9209 - val_loss: 0.2756 - val_accuracy: 0.8941\n",
      "Epoch 56/60\n",
      "768/768 [==============================] - 0s 550us/step - loss: 0.2195 - accuracy: 0.9228 - val_loss: 0.2731 - val_accuracy: 0.8994\n",
      "Epoch 57/60\n",
      "768/768 [==============================] - 0s 544us/step - loss: 0.2155 - accuracy: 0.9213 - val_loss: 0.2611 - val_accuracy: 0.9030\n",
      "Epoch 58/60\n",
      "768/768 [==============================] - 0s 548us/step - loss: 0.2232 - accuracy: 0.9187 - val_loss: 0.2695 - val_accuracy: 0.9031\n",
      "Epoch 59/60\n",
      "768/768 [==============================] - 0s 563us/step - loss: 0.2149 - accuracy: 0.9232 - val_loss: 0.2705 - val_accuracy: 0.8943\n",
      "Epoch 60/60\n",
      "768/768 [==============================] - 0s 563us/step - loss: 0.2168 - accuracy: 0.9232 - val_loss: 0.2623 - val_accuracy: 0.9064\n"
     ]
    }
   ],
   "source": [
    "#Define the model\n",
    "model = createmodel(L,hidden_layers, summary = True)\n",
    "\n",
    "#Train the NN\n",
    "training = trainmodel(model, opt, x_train, y_train,\n",
    "          epochs=60, batch_size=50, validation_data= (x_test, y_test), verbose=1)\n"
   ]
  },
  {
   "cell_type": "code",
   "execution_count": 16,
   "metadata": {
    "scrolled": false
   },
   "outputs": [
    {
     "name": "stdout",
     "output_type": "stream",
     "text": [
      "300/300 [==============================] - 0s 555us/step - loss: 0.2623 - accuracy: 0.9064\n",
      "\n",
      "Test loss: 0.26234981417655945\n",
      "Test accuracy: 0.9063541889190674\n"
     ]
    },
    {
     "data": {
      "image/png": "[encoded data removed]",
      "text/plain": [
       "<Figure size 432x288 with 1 Axes>"
      ]
     },
     "metadata": {
      "needs_background": "light"
     },
     "output_type": "display_data"
    },
    {
     "data": {
      "image/png": "[encoded data removed]",
      "text/plain": [
       "<Figure size 432x288 with 1 Axes>"
      ]
     },
     "metadata": {
      "needs_background": "light"
     },
     "output_type": "display_data"
    }
   ],
   "source": [
    "# evaluate model\n",
    "score = model.evaluate(x_test, y_test, verbose=1)\n",
    "\n",
    "# print performance\n",
    "print()\n",
    "print('Test loss:', score[0])\n",
    "print('Test accuracy:', score[1])\n",
    "\n",
    "plotmodel(training)"
   ]
  },
  {
   "cell_type": "markdown",
   "metadata": {},
   "source": [
    "It can be seen that the training of the NN over the augmented data is highly effective for this case. The accuracy over the test data is converging above 0.9 while the loss over the same dataset is converging to a value below 0.25. When those plots are compared with the previous where the dataset was 16 times smaller we can say that the procedure for augmenting the data has been successful. Even when we are introducing false positives inside of the dataset.\n",
    "\n",
    "Clearly the prevalent effect is that more real samples are being produced."
   ]
  },
  {
   "cell_type": "markdown",
   "metadata": {},
   "source": [
    "3. Implement a “grid search” as shown in NB11 to improve one or more of the aspects or\n",
    "parameters of the model. Possible tests include: different activation units (sigmoid, relu, elu,\n",
    "etc.), different minimization algorithms (ADAM, RMSprop, Nesterov, etc.), different\n",
    "dropouts, etc."
   ]
  },
  {
   "cell_type": "code",
   "execution_count": 17,
   "metadata": {},
   "outputs": [
    {
     "name": "stdout",
     "output_type": "stream",
     "text": [
      "Epoch 1/60\n",
      "768/768 [==============================] - 1s 425us/step - loss: 0.5297 - accuracy: 0.7520\n",
      "Epoch 2/60\n",
      "768/768 [==============================] - 0s 424us/step - loss: 0.4814 - accuracy: 0.7734\n",
      "Epoch 3/60\n",
      "768/768 [==============================] - 0s 420us/step - loss: 0.4539 - accuracy: 0.7868\n",
      "Epoch 4/60\n",
      "768/768 [==============================] - 0s 421us/step - loss: 0.4294 - accuracy: 0.8003\n",
      "Epoch 5/60\n",
      "768/768 [==============================] - 0s 422us/step - loss: 0.4083 - accuracy: 0.8146\n",
      "Epoch 6/60\n",
      "768/768 [==============================] - 0s 420us/step - loss: 0.3827 - accuracy: 0.8263\n",
      "Epoch 7/60\n",
      "768/768 [==============================] - 0s 420us/step - loss: 0.3711 - accuracy: 0.8328\n",
      "Epoch 8/60\n",
      "768/768 [==============================] - 0s 421us/step - loss: 0.3600 - accuracy: 0.8393\n",
      "Epoch 9/60\n",
      "768/768 [==============================] - 0s 421us/step - loss: 0.3431 - accuracy: 0.8500\n",
      "Epoch 10/60\n",
      "768/768 [==============================] - 0s 420us/step - loss: 0.3338 - accuracy: 0.8577\n",
      "Epoch 11/60\n",
      "768/768 [==============================] - 0s 434us/step - loss: 0.3222 - accuracy: 0.8637\n",
      "Epoch 12/60\n",
      "768/768 [==============================] - 0s 424us/step - loss: 0.3179 - accuracy: 0.8663\n",
      "Epoch 13/60\n",
      "768/768 [==============================] - 0s 419us/step - loss: 0.3077 - accuracy: 0.8763\n",
      "Epoch 14/60\n",
      "768/768 [==============================] - 0s 420us/step - loss: 0.3105 - accuracy: 0.8730\n",
      "Epoch 15/60\n",
      "768/768 [==============================] - 0s 422us/step - loss: 0.3011 - accuracy: 0.8789\n",
      "Epoch 16/60\n",
      "768/768 [==============================] - 0s 417us/step - loss: 0.3008 - accuracy: 0.8795\n",
      "Epoch 17/60\n",
      "768/768 [==============================] - 0s 420us/step - loss: 0.2961 - accuracy: 0.8841\n",
      "Epoch 18/60\n",
      "768/768 [==============================] - 0s 421us/step - loss: 0.2899 - accuracy: 0.8852\n",
      "Epoch 19/60\n",
      "768/768 [==============================] - 0s 420us/step - loss: 0.2837 - accuracy: 0.8896\n",
      "Epoch 20/60\n",
      "768/768 [==============================] - 0s 421us/step - loss: 0.2872 - accuracy: 0.8892\n",
      "Epoch 21/60\n",
      "768/768 [==============================] - 0s 421us/step - loss: 0.2863 - accuracy: 0.8882\n",
      "Epoch 22/60\n",
      "768/768 [==============================] - 0s 420us/step - loss: 0.2875 - accuracy: 0.8876\n",
      "Epoch 23/60\n",
      "768/768 [==============================] - 0s 422us/step - loss: 0.2830 - accuracy: 0.8903\n",
      "Epoch 24/60\n",
      "768/768 [==============================] - 0s 419us/step - loss: 0.2750 - accuracy: 0.8946\n",
      "Epoch 25/60\n",
      "768/768 [==============================] - 0s 416us/step - loss: 0.2773 - accuracy: 0.8964\n",
      "Epoch 26/60\n",
      "768/768 [==============================] - 0s 421us/step - loss: 0.2707 - accuracy: 0.8986\n",
      "Epoch 27/60\n",
      "768/768 [==============================] - 0s 417us/step - loss: 0.2742 - accuracy: 0.8962\n",
      "Epoch 28/60\n",
      "768/768 [==============================] - 0s 420us/step - loss: 0.2701 - accuracy: 0.8998\n",
      "Epoch 29/60\n",
      "768/768 [==============================] - 0s 420us/step - loss: 0.2665 - accuracy: 0.9022\n",
      "Epoch 30/60\n",
      "768/768 [==============================] - 0s 420us/step - loss: 0.2678 - accuracy: 0.9035\n",
      "Epoch 31/60\n",
      "768/768 [==============================] - 0s 420us/step - loss: 0.2612 - accuracy: 0.9054\n",
      "Epoch 32/60\n",
      "768/768 [==============================] - 0s 420us/step - loss: 0.2675 - accuracy: 0.9016\n",
      "Epoch 33/60\n",
      "768/768 [==============================] - 0s 421us/step - loss: 0.2596 - accuracy: 0.9066\n",
      "Epoch 34/60\n",
      "768/768 [==============================] - 0s 421us/step - loss: 0.2677 - accuracy: 0.9029\n",
      "Epoch 35/60\n",
      "768/768 [==============================] - 0s 421us/step - loss: 0.2642 - accuracy: 0.9040\n",
      "Epoch 36/60\n",
      "768/768 [==============================] - 0s 421us/step - loss: 0.2603 - accuracy: 0.9068\n",
      "Epoch 37/60\n",
      "768/768 [==============================] - 0s 419us/step - loss: 0.2496 - accuracy: 0.9112\n",
      "Epoch 38/60\n",
      "768/768 [==============================] - 0s 420us/step - loss: 0.2607 - accuracy: 0.9083\n",
      "Epoch 39/60\n",
      "768/768 [==============================] - 0s 420us/step - loss: 0.2556 - accuracy: 0.9095\n",
      "Epoch 40/60\n",
      "768/768 [==============================] - 0s 419us/step - loss: 0.2553 - accuracy: 0.9110\n",
      "Epoch 41/60\n",
      "768/768 [==============================] - 0s 419us/step - loss: 0.2529 - accuracy: 0.9122\n",
      "Epoch 42/60\n",
      "768/768 [==============================] - 0s 424us/step - loss: 0.2559 - accuracy: 0.9110\n",
      "Epoch 43/60\n",
      "768/768 [==============================] - 0s 419us/step - loss: 0.2601 - accuracy: 0.9076\n",
      "Epoch 44/60\n",
      "768/768 [==============================] - 0s 419us/step - loss: 0.2567 - accuracy: 0.9092\n",
      "Epoch 45/60\n",
      "768/768 [==============================] - 0s 420us/step - loss: 0.2531 - accuracy: 0.9126\n",
      "Epoch 46/60\n",
      "768/768 [==============================] - 0s 420us/step - loss: 0.2443 - accuracy: 0.9148\n",
      "Epoch 47/60\n",
      "768/768 [==============================] - 0s 420us/step - loss: 0.2510 - accuracy: 0.9139\n",
      "Epoch 48/60\n",
      "768/768 [==============================] - 0s 422us/step - loss: 0.2500 - accuracy: 0.9118\n",
      "Epoch 49/60\n",
      "768/768 [==============================] - 0s 419us/step - loss: 0.2505 - accuracy: 0.9140\n",
      "Epoch 50/60\n",
      "768/768 [==============================] - 0s 421us/step - loss: 0.2463 - accuracy: 0.9152\n",
      "Epoch 51/60\n",
      "768/768 [==============================] - 0s 422us/step - loss: 0.2483 - accuracy: 0.9146\n",
      "Epoch 52/60\n",
      "768/768 [==============================] - 0s 419us/step - loss: 0.2511 - accuracy: 0.9142\n",
      "Epoch 53/60\n",
      "768/768 [==============================] - 0s 420us/step - loss: 0.2453 - accuracy: 0.9157\n",
      "Epoch 54/60\n",
      "768/768 [==============================] - 0s 416us/step - loss: 0.2428 - accuracy: 0.9165\n",
      "Epoch 55/60\n",
      "768/768 [==============================] - 0s 420us/step - loss: 0.2436 - accuracy: 0.9161\n",
      "Epoch 56/60\n",
      "768/768 [==============================] - 0s 420us/step - loss: 0.2496 - accuracy: 0.9136\n",
      "Epoch 57/60\n",
      "768/768 [==============================] - 0s 420us/step - loss: 0.2462 - accuracy: 0.9144\n",
      "Epoch 58/60\n",
      "768/768 [==============================] - 0s 422us/step - loss: 0.2390 - accuracy: 0.9205\n",
      "Epoch 59/60\n",
      "768/768 [==============================] - 0s 425us/step - loss: 0.2394 - accuracy: 0.9194\n",
      "Epoch 60/60\n",
      "768/768 [==============================] - 0s 433us/step - loss: 0.2456 - accuracy: 0.9166\n"
     ]
    }
   ],
   "source": [
    "def compile_model(optimizer, activation = None, dropout = None, learning_rate = 0.1):\n",
    "    model = createmodel(L,hidden_layers, activation = activation, dropout = dropout)\n",
    "    model.compile(loss='binary_crossentropy',\n",
    "                  optimizer=optimizer(learning_rate = learning_rate),\n",
    "                  metrics=['accuracy'])\n",
    "    return model\n",
    "\n",
    "# Using Keras scikit wrapper\n",
    "model_gridsearch = KerasClassifier(build_fn=compile_model, \n",
    "                        epochs=60,\n",
    "                        batch_size = 50, \n",
    "                        verbose=1)\n",
    "\n",
    "optimizer = [SGD, RMSprop, Adam, Adamax]\n",
    "dropout = [0.1,0.3,0.5]\n",
    "learning_rate = [0.001,0.01,0.1]\n",
    "activation = ['relu', 'elu']\n",
    "\n",
    "# parameters dictionary\n",
    "param_grid = dict(optimizer=optimizer, activation = activation, dropout = dropout, learning_rate = learning_rate)\n",
    "# Run gridsearch\n",
    "grid = GridSearchCV(estimator=model_gridsearch, param_grid=param_grid, n_jobs=-1, cv=4)\n",
    "grid_result = grid.fit(x_train,y_train)\n",
    "\n",
    "# summarize results\n",
    "print(f\"Best: {grid_result.best_score_} using {grid_result.best_params_}\")\n",
    "best_model = grid_result.best_estimator_"
   ]
  },
  {
   "cell_type": "code",
   "execution_count": 18,
   "metadata": {
    "scrolled": true
   },
   "outputs": [
    {
     "name": "stdout",
     "output_type": "stream",
     "text": [
      "Best: 0.9181770831346512 using {'activation': 'relu', 'dropout': 0.1, 'learning_rate': 0.1, 'optimizer': <class 'tensorflow.python.keras.optimizer_v2.gradient_descent.SGD'>}\n",
      "All mean scores on the grid:\n",
      "Optimizer                Activation     Dropout        Learning rate         Score               Mean time                \n",
      "------------------------------------------------------------------------------------------------------------\n",
      "v2.gradient_descent.SGD     relu          0.1                0.001      0.766  +/- 0.004    48.37191158533096\n",
      "v2.rmsprop.RMSprop          relu          0.1                0.001      0.901  +/- 0.007    52.33449226617813\n",
      "v2.adam.Adam                relu          0.1                0.001      0.911  +/- 0.011    57.52218133211136\n",
      "v2.adamax.Adamax            relu          0.1                0.001      0.874  +/- 0.004    51.423601508140564\n",
      "v2.gradient_descent.SGD     relu          0.1                0.010      0.839  +/- 0.007    47.13706201314926\n",
      "v2.rmsprop.RMSprop          relu          0.1                0.010      0.836  +/- 0.038    50.169319689273834\n",
      "v2.adam.Adam                relu          0.1                0.010      0.860  +/- 0.006    55.256824016571045\n",
      "v2.adamax.Adamax            relu          0.1                0.010      0.913  +/- 0.009    51.526319682598114\n",
      "v2.gradient_descent.SGD     relu          0.1                0.100      0.918  +/- 0.006    48.34064781665802\n",
      "v2.rmsprop.RMSprop          relu          0.1                0.100      0.754  +/- 0.004    52.11508136987686\n",
      "v2.adam.Adam                relu          0.1                0.100      0.754  +/- 0.004    55.46645075082779\n",
      "v2.adamax.Adamax            relu          0.1                0.100      0.802  +/- 0.035    52.2859582901001\n",
      "v2.gradient_descent.SGD     relu          0.3                0.001      0.758  +/- 0.003    49.02918154001236\n",
      "v2.rmsprop.RMSprop          relu          0.3                0.001      0.879  +/- 0.003    53.29105532169342\n",
      "v2.adam.Adam                relu          0.3                0.001      0.897  +/- 0.010    55.256628811359406\n",
      "v2.adamax.Adamax            relu          0.3                0.001      0.871  +/- 0.006    52.26954931020737\n",
      "v2.gradient_descent.SGD     relu          0.3                0.010      0.812  +/- 0.003    49.1194189786911\n",
      "v2.rmsprop.RMSprop          relu          0.3                0.010      0.754  +/- 0.004    51.86625003814697\n",
      "v2.adam.Adam                relu          0.3                0.010      0.784  +/- 0.008    55.47938698530197\n",
      "v2.adamax.Adamax            relu          0.3                0.010      0.879  +/- 0.004    53.02334713935852\n",
      "v2.gradient_descent.SGD     relu          0.3                0.100      0.898  +/- 0.007    48.68118488788605\n",
      "v2.rmsprop.RMSprop          relu          0.3                0.100      0.754  +/- 0.004    52.495237946510315\n",
      "v2.adam.Adam                relu          0.3                0.100      0.754  +/- 0.004    55.196440041065216\n",
      "v2.adamax.Adamax            relu          0.3                0.100      0.754  +/- 0.004    52.181227684020996\n",
      "v2.gradient_descent.SGD     relu          0.5                0.001      0.754  +/- 0.004    49.3635790348053\n",
      "v2.rmsprop.RMSprop          relu          0.5                0.001      0.837  +/- 0.003    53.52388685941696\n",
      "v2.adam.Adam                relu          0.5                0.001      0.844  +/- 0.010    55.145929753780365\n",
      "v2.adamax.Adamax            relu          0.5                0.001      0.831  +/- 0.005    51.48716747760773\n",
      "v2.gradient_descent.SGD     relu          0.5                0.010      0.778  +/- 0.002    51.3886843919754\n",
      "v2.rmsprop.RMSprop          relu          0.5                0.010      0.754  +/- 0.004    51.92955130338669\n",
      "v2.adam.Adam                relu          0.5                0.010      0.755  +/- 0.004    55.27351772785187\n",
      "v2.adamax.Adamax            relu          0.5                0.010      0.833  +/- 0.009    50.729379296302795\n",
      "v2.gradient_descent.SGD     relu          0.5                0.100      0.844  +/- 0.004    50.404956221580505\n",
      "v2.rmsprop.RMSprop          relu          0.5                0.100      0.754  +/- 0.004    53.32455784082413\n",
      "v2.adam.Adam                relu          0.5                0.100      0.754  +/- 0.004    54.98180168867111\n",
      "v2.adamax.Adamax            relu          0.5                0.100      0.754  +/- 0.004    51.7079342007637\n",
      "v2.gradient_descent.SGD     elu           0.1                0.001      0.775  +/- 0.003    50.07912594079971\n",
      "v2.rmsprop.RMSprop          elu           0.1                0.001      0.879  +/- 0.007    52.94448375701904\n",
      "v2.adam.Adam                elu           0.1                0.001      0.881  +/- 0.006    55.774399280548096\n",
      "v2.adamax.Adamax            elu           0.1                0.001      0.852  +/- 0.005    52.20125538110733\n",
      "v2.gradient_descent.SGD     elu           0.1                0.010      0.802  +/- 0.005    52.206581473350525\n",
      "v2.rmsprop.RMSprop          elu           0.1                0.010      0.830  +/- 0.009    54.35286206007004\n",
      "v2.adam.Adam                elu           0.1                0.010      0.857  +/- 0.015    55.48362421989441\n",
      "v2.adamax.Adamax            elu           0.1                0.010      0.887  +/- 0.014    51.34934562444687\n",
      "v2.gradient_descent.SGD     elu           0.1                0.100      0.878  +/- 0.006    51.997376441955566\n",
      "v2.rmsprop.RMSprop          elu           0.1                0.100      0.754  +/- 0.004    53.82592964172363\n",
      "v2.adam.Adam                elu           0.1                0.100      0.754  +/- 0.004    54.87630707025528\n",
      "v2.adamax.Adamax            elu           0.1                0.100      0.786  +/- 0.019    50.70706355571747\n",
      "v2.gradient_descent.SGD     elu           0.3                0.001      0.774  +/- 0.003    52.40292006731033\n",
      "v2.rmsprop.RMSprop          elu           0.3                0.001      0.836  +/- 0.005    55.0879048705101\n",
      "v2.adam.Adam                elu           0.3                0.001      0.844  +/- 0.006    56.17557257413864\n",
      "v2.adamax.Adamax            elu           0.3                0.001      0.815  +/- 0.005    51.494289219379425\n",
      "v2.gradient_descent.SGD     elu           0.3                0.010      0.775  +/- 0.003    53.11888897418976\n",
      "v2.rmsprop.RMSprop          elu           0.3                0.010      0.754  +/- 0.004    53.416656732559204\n",
      "v2.adam.Adam                elu           0.3                0.010      0.824  +/- 0.008    56.27421897649765\n",
      "v2.adamax.Adamax            elu           0.3                0.010      0.867  +/- 0.009    51.10378569364548\n",
      "v2.gradient_descent.SGD     elu           0.3                0.100      0.829  +/- 0.008    53.15172976255417\n",
      "v2.rmsprop.RMSprop          elu           0.3                0.100      0.754  +/- 0.004    53.39583134651184\n",
      "v2.adam.Adam                elu           0.3                0.100      0.754  +/- 0.004    56.77433532476425\n",
      "v2.adamax.Adamax            elu           0.3                0.100      0.756  +/- 0.005    51.00364512205124\n",
      "v2.gradient_descent.SGD     elu           0.5                0.001      0.768  +/- 0.003    53.31944274902344\n",
      "v2.rmsprop.RMSprop          elu           0.5                0.001      0.812  +/- 0.005    53.61828875541687\n",
      "v2.adam.Adam                elu           0.5                0.001      0.815  +/- 0.005    56.2987557053566\n",
      "v2.adamax.Adamax            elu           0.5                0.001      0.793  +/- 0.004    52.42038518190384\n",
      "v2.gradient_descent.SGD     elu           0.5                0.010      0.774  +/- 0.003    52.810865700244904\n",
      "v2.rmsprop.RMSprop          elu           0.5                0.010      0.759  +/- 0.007    53.097259759902954\n",
      "v2.adam.Adam                elu           0.5                0.010      0.756  +/- 0.005    55.47988682985306\n",
      "v2.adamax.Adamax            elu           0.5                0.010      0.830  +/- 0.007    51.14326459169388\n",
      "v2.gradient_descent.SGD     elu           0.5                0.100      0.797  +/- 0.004    52.35267794132233\n",
      "v2.rmsprop.RMSprop          elu           0.5                0.100      0.754  +/- 0.004    49.52655375003815\n",
      "v2.adam.Adam                elu           0.5                0.100      0.754  +/- 0.004    48.31355553865433\n",
      "v2.adamax.Adamax            elu           0.5                0.100      0.756  +/- 0.005    45.87388390302658\n"
     ]
    }
   ],
   "source": [
    "# summarize results\n",
    "best_score = grid_result.best_score_\n",
    "best_params = grid_result.best_params_\n",
    "best_activation, best_dropout, best_lr, best_opt = best_params['activation'], best_params['dropout'], best_params['learning_rate'], best_params['optimizer']\n",
    "print(f\"Best: {best_score} using {best_params}\")\n",
    "\n",
    "\n",
    "print(\"All mean scores on the grid:\")\n",
    "allscores =grid_result.cv_results_['mean_test_score']\n",
    "stdscores =grid_result.cv_results_['std_test_score']\n",
    "print('%-25s%-15s%-15s%-22s%-20s%-25s' %('Optimizer','Activation','Dropout','Learning rate','Score','Mean time'))\n",
    "print('------------------------------------------------------------------------------------------------------------')\n",
    "scores =[]\n",
    "times =[]\n",
    "for i in range(len(allscores)):\n",
    "    print('%-27s %-13s %-18.1f %-10.3f %-6.3f %-3s %-6.3f  ' %(str(grid_result.cv_results_['params'][i]['optimizer'])[42:][:-2],\n",
    "                                               grid_result.cv_results_['params'][i]['activation'],\n",
    "                                               grid_result.cv_results_['params'][i]['dropout'],\n",
    "                                               grid_result.cv_results_['params'][i]['learning_rate'],\n",
    "                                               allscores[i],'+/-',stdscores[i]),\n",
    "                                               grid_result.cv_results_['mean_fit_time'][i])\n",
    "    scores.append(allscores[i])\n",
    "    times.append(grid_result.cv_results_['mean_fit_time'][i])"
   ]
  },
  {
   "cell_type": "code",
   "execution_count": 19,
   "metadata": {},
   "outputs": [
    {
     "data": {
      "image/png": "[encoded data removed]",
      "text/plain": [
       "<Figure size 576x432 with 1 Axes>"
      ]
     },
     "metadata": {
      "needs_background": "light"
     },
     "output_type": "display_data"
    }
   ],
   "source": [
    "# Plot scaled histogram\n",
    "fig, ax = plt.subplots(figsize=(8,6))\n",
    "\n",
    "ax.scatter(np.linspace(1,len(allscores),num=len(allscores)),scores)\n",
    "\n",
    "plt.title('Scores for the different configurations', fontsize=20)\n",
    "plt.xlabel('Implemented models', fontsize=20)\n",
    "plt.ylabel('Scores', fontsize=20)\n",
    "plt.show()\n"
   ]
  },
  {
   "cell_type": "code",
   "execution_count": 20,
   "metadata": {},
   "outputs": [
    {
     "data": {
      "image/png": "[encoded data removed]",
      "text/plain": [
       "<Figure size 576x432 with 1 Axes>"
      ]
     },
     "metadata": {
      "needs_background": "light"
     },
     "output_type": "display_data"
    }
   ],
   "source": [
    "fig, ax = plt.subplots(figsize=(8,6))\n",
    "\n",
    "ax.scatter(np.linspace(1,len(allscores),num=len(allscores)),times)\n",
    "\n",
    "plt.title('Mean time for the different configurations', fontsize=20)\n",
    "plt.xlabel('Implemented models', fontsize=20)\n",
    "plt.ylabel('Mean time', fontsize=20)\n",
    "plt.show()\n"
   ]
  },
  {
   "cell_type": "markdown",
   "metadata": {},
   "source": [
    "4. See if any rescaling of data may improve the results. For instance one may use [-0.5,+0.5]\n",
    "instead of [0,1] for every bit of x[n]."
   ]
  },
  {
   "cell_type": "code",
   "execution_count": 21,
   "metadata": {},
   "outputs": [],
   "source": [
    "def rescale_input(x, shift, largeness):\n",
    "    return (x - .5 )* largeness + shift"
   ]
  },
  {
   "cell_type": "code",
   "execution_count": 22,
   "metadata": {},
   "outputs": [
    {
     "name": "stdout",
     "output_type": "stream",
     "text": [
      "[[-1.5 -1.5 -1.5 ... -1.5 -1.5  1.5]\n",
      " [-1.5  1.5 -1.5 ...  1.5 -1.5 -1.5]\n",
      " [-1.5 -1.5 -1.5 ...  1.5 -1.5 -1.5]\n",
      " ...\n",
      " [-1.5 -1.5 -1.5 ... -1.5  1.5 -1.5]\n",
      " [ 1.5 -1.5 -1.5 ... -1.5 -1.5 -1.5]\n",
      " [-1.5 -1.5  1.5 ... -1.5  1.5 -1.5]]\n"
     ]
    }
   ],
   "source": [
    "# Normally as a preprocessing operation the data is rescaled, here we see the importance of this preprocessing\n",
    "# operation.\n",
    "# First we center our data around zero:\n",
    "#          [0,1] --> [-1.5,1.5]\n",
    "\n",
    "# Rescaling transformation\n",
    "resc_x = rescale_input(x,0,3)\n",
    "\n",
    "# y remains the same\n",
    "resc_y = (y)\n",
    "\n",
    "# print the inputs just as a check\n",
    "print(resc_x)\n",
    "\n",
    "(resc_x_train, resc_y_train) = (resc_x[:N_train],resc_y[:N_train])\n",
    "(resc_x_test, resc_y_test) = (resc_x[N_train:],resc_y[N_train:])"
   ]
  },
  {
   "cell_type": "code",
   "execution_count": 23,
   "metadata": {
    "scrolled": false
   },
   "outputs": [],
   "source": [
    "best_model = createmodel(L, hidden_layers, activation= best_activation, dropout= best_dropout)\n",
    "best_opt = best_opt(learning_rate=best_lr)\n",
    "# Training of the model with the rescaled data\n",
    "resc_training = trainmodel(best_model, best_opt, resc_x_train, resc_y_train,\n",
    "          epochs=60, batch_size=50, validation_data= (resc_x_test, resc_y_test))"
   ]
  },
  {
   "cell_type": "code",
   "execution_count": 24,
   "metadata": {},
   "outputs": [
    {
     "name": "stdout",
     "output_type": "stream",
     "text": [
      "300/300 [==============================] - 0s 555us/step - loss: 0.2189 - accuracy: 0.9312\n"
     ]
    },
    {
     "data": {
      "image/png": "[encoded data removed]",
      "text/plain": [
       "<Figure size 432x288 with 1 Axes>"
      ]
     },
     "metadata": {
      "needs_background": "light"
     },
     "output_type": "display_data"
    },
    {
     "data": {
      "image/png": "[encoded data removed]",
      "text/plain": [
       "<Figure size 432x288 with 1 Axes>"
      ]
     },
     "metadata": {
      "needs_background": "light"
     },
     "output_type": "display_data"
    }
   ],
   "source": [
    "# evaluate model\n",
    "resc_score = best_model.evaluate(resc_x_test, resc_y_test, verbose=1)\n",
    "\n",
    "plotmodel(resc_training)"
   ]
  },
  {
   "cell_type": "code",
   "execution_count": 25,
   "metadata": {},
   "outputs": [
    {
     "name": "stdout",
     "output_type": "stream",
     "text": [
      "Test loss:                   0.26235\n",
      "Rescaled Data Test loss:     0.21888\n",
      "\n",
      "Test accuracy:               0.90635\n",
      "Rescaled Data Test accuracy: 0.93125\n"
     ]
    }
   ],
   "source": [
    "print('Test loss:                  ', round(score[0],5))\n",
    "print('Rescaled Data Test loss:    ', round(resc_score[0],5))\n",
    "\n",
    "print('\\nTest accuracy:              ', round(score[1],5))\n",
    "print('Rescaled Data Test accuracy:', round(resc_score[1],5))"
   ]
  },
  {
   "cell_type": "code",
   "execution_count": 26,
   "metadata": {},
   "outputs": [
    {
     "name": "stdout",
     "output_type": "stream",
     "text": [
      "[[3.5 3.5 3.5 ... 3.5 3.5 8.5]\n",
      " [3.5 8.5 3.5 ... 8.5 3.5 3.5]\n",
      " [3.5 3.5 3.5 ... 8.5 3.5 3.5]\n",
      " ...\n",
      " [3.5 3.5 3.5 ... 3.5 8.5 3.5]\n",
      " [8.5 3.5 3.5 ... 3.5 3.5 3.5]\n",
      " [3.5 3.5 8.5 ... 3.5 8.5 3.5]]\n"
     ]
    }
   ],
   "source": [
    "# Now we rescale the data to be far away from zero, we should expect less quality of the training due to \n",
    "# Gradient Vanishing\n",
    "# Rescaling transformation\n",
    "resc_x_2 = rescale_input(x,6,5)\n",
    "\n",
    "# y remains the same\n",
    "resc_y_2 = (y)\n",
    "\n",
    "# print the inputs just as a check\n",
    "print(resc_x_2)\n",
    "\n",
    "(resc_x_2_train, resc_y_2_train) = (resc_x_2[:N_train],resc_y_2[:N_train])\n",
    "(resc_x_2_test, resc_y_2_test) = (resc_x_2[N_train:],resc_y_2[N_train:])\n",
    "\n",
    "# Reinitialize the model\n",
    "best_model = createmodel(L, hidden_layers, activation= best_activation, dropout= best_dropout)\n",
    "\n",
    "# Training of the model with the rescaled data\n",
    "resc_2_training = trainmodel(best_model, best_opt, resc_x_2_train, resc_y_2_train,\n",
    "          epochs=60, batch_size=50, validation_data= (resc_x_2_test, resc_y_2_test))"
   ]
  },
  {
   "cell_type": "code",
   "execution_count": 27,
   "metadata": {},
   "outputs": [
    {
     "name": "stdout",
     "output_type": "stream",
     "text": [
      "300/300 [==============================] - 0s 555us/step - loss: 0.2952 - accuracy: 0.8843\n"
     ]
    },
    {
     "data": {
      "image/png": "[encoded data removed]",
      "text/plain": [
       "<Figure size 432x288 with 1 Axes>"
      ]
     },
     "metadata": {
      "needs_background": "light"
     },
     "output_type": "display_data"
    },
    {
     "data": {
      "image/png": "[encoded data removed]",
      "text/plain": [
       "<Figure size 432x288 with 1 Axes>"
      ]
     },
     "metadata": {
      "needs_background": "light"
     },
     "output_type": "display_data"
    }
   ],
   "source": [
    "resc_2_score = best_model.evaluate(resc_x_2_test, resc_y_2_test, verbose=1)\n",
    "\n",
    "plotmodel(resc_2_training)"
   ]
  },
  {
   "cell_type": "code",
   "execution_count": 28,
   "metadata": {},
   "outputs": [
    {
     "name": "stdout",
     "output_type": "stream",
     "text": [
      "Test loss:                   0.26235\n",
      "Rescaled Data Test loss:     0.56147\n",
      "\n",
      "Test accuracy:               0.90635\n",
      "Rescaled Data Test accuracy: 0.75115\n"
     ]
    }
   ],
   "source": [
    "print('Test loss:                  ', round(score[0],5))\n",
    "print('Rescaled Data Test loss:    ', round(resc_2_score[0],5))\n",
    "\n",
    "print('\\nTest accuracy:              ', round(score[1],5))\n",
    "print('Rescaled Data Test accuracy:', round(resc_2_score[1],5))"
   ]
  },
  {
   "cell_type": "code",
   "execution_count": null,
   "metadata": {},
   "outputs": [],
   "source": []
  }
 ],
 "metadata": {
  "kernelspec": {
   "display_name": "Python 3",
   "language": "python",
   "name": "python3"
  },
  "language_info": {
   "codemirror_mode": {
    "name": "ipython",
    "version": 3
   },
   "file_extension": ".py",
   "mimetype": "text/x-python",
   "name": "python",
   "nbconvert_exporter": "python",
   "pygments_lexer": "ipython3",
   "version": "3.8.5"
  }
 },
 "nbformat": 4,
 "nbformat_minor": 4
}
