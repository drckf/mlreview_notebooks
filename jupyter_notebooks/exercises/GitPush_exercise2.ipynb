{
 "cells": [
  {
   "cell_type": "markdown",
   "metadata": {},
   "source": [
    "## LCPB 20-21 exercise 2\n",
    "\n",
    "### Saverio Monaco\n",
    "\n",
    "### Gerardo Carmona\n",
    "\n",
    "### Hilario Capettini"
   ]
  },
  {
   "cell_type": "markdown",
   "metadata": {},
   "source": [
    "0. Preparation"
   ]
  },
  {
   "cell_type": "code",
   "execution_count": 1,
   "metadata": {},
   "outputs": [],
   "source": [
    "import numpy as np\n",
    "import matplotlib.pyplot as plt\n",
    "from mpl_toolkits import mplot3d\n",
    "import matplotlib.pyplot as plt\n",
    "from keras.models import Sequential\n",
    "from keras.layers import Dense, Dropout\n",
    "from keras.optimizers import SGD\n",
    "import time\n",
    "import math"
   ]
  },
  {
   "cell_type": "code",
   "execution_count": 2,
   "metadata": {},
   "outputs": [
    {
     "name": "stdout",
     "output_type": "stream",
     "text": [
      "Size of the sequences:    16\n",
      "Size of the data:         3000\n",
      "Size of the training set: 2400\n",
      "Size of the test set:     600\n"
     ]
    }
   ],
   "source": [
    "fname = \"DATA/sequences16.csv\"\n",
    "sx, sy = np.loadtxt(fname,delimiter=',',\n",
    "                   usecols=(0,1), unpack=True, dtype=str)\n",
    "N = len(sy)\n",
    "\n",
    "Ls = len(sx[0])\n",
    "\n",
    "\n",
    "perc_train = 0.8 # I kept the same train-test ratio as in the lesson\n",
    "N_train = int(N*perc_train)\n",
    "N_test = N - N_train\n",
    "\n",
    "print('Size of the sequences:   ',Ls)\n",
    "print('Size of the data:        ',N)\n",
    "print('Size of the training set:',N_train)\n",
    "print('Size of the test set:    ',N_test)\n"
   ]
  },
  {
   "cell_type": "code",
   "execution_count": 3,
   "metadata": {},
   "outputs": [
    {
     "name": "stdout",
     "output_type": "stream",
     "text": [
      "AAGGTCTGCCGGCCGA 1\n",
      "CCTCCCTTATGGGGGA 0\n",
      "TCTCTCGGAACTGTCA 0\n",
      "GTTAAACGTTACATCT 0\n",
      "TTAAATGCTGCTGATC 1\n",
      "ATGGAACGAGACGCCG 1\n",
      "AGGCCAAATGAGGATA 1\n",
      "CGAGTACACTTAGGCC 0\n",
      "GAAATAAATCTTATAG 0\n",
      "AATGTAGATATGGAGT 0\n"
     ]
    }
   ],
   "source": [
    "# Just printing some datas to check it\n",
    "# I noticed this isn't the same rule in the lessons, so it is unkown\n",
    "for _ in range(10):\n",
    "    print(sx[_],sy[_])\n"
   ]
  },
  {
   "cell_type": "code",
   "execution_count": 4,
   "metadata": {
    "scrolled": true
   },
   "outputs": [
    {
     "name": "stdout",
     "output_type": "stream",
     "text": [
      "1 <class 'numpy.str_'>\n",
      "1 <class 'numpy.int64'>\n"
     ]
    }
   ],
   "source": [
    "# Converting the label set to int values:\n",
    "print(sy[0],type(sy[0]))\n",
    "y = sy.astype(int)\n",
    "print(y[0],type(y[0]))"
   ]
  },
  {
   "cell_type": "code",
   "execution_count": 5,
   "metadata": {},
   "outputs": [
    {
     "name": "stdout",
     "output_type": "stream",
     "text": [
      "AAGGTCTGCCGGCCGA\n",
      "[1. 0. 0. 0. 1. 0. 0. 0. 0. 0. 1. 0. 0. 0. 1. 0. 0. 0. 0. 1. 0. 1. 0. 0.\n",
      " 0. 0. 0. 1. 0. 0. 1. 0. 0. 1. 0. 0. 0. 1. 0. 0. 0. 0. 1. 0. 0. 0. 1. 0.\n",
      " 0. 1. 0. 0. 0. 1. 0. 0. 0. 0. 1. 0. 1. 0. 0. 0.]\n"
     ]
    }
   ],
   "source": [
    "# Letters and number of letters\n",
    "Q = ['A', 'C', 'G', 'T']\n",
    "Nc = 4\n",
    "\n",
    "# building the dictionary\n",
    "onehc = {Q[i]: i for i in range (Nc)}\n",
    "\n",
    "L = Ls * Nc # lenght of the input array (64)\n",
    "\n",
    "# The following cycle will transform the input vectors (for ex.: AAGGTCTGCCGGCCGA) in a\n",
    "# binary like way\n",
    "#\n",
    "# A = 1000\n",
    "# C = 0100\n",
    "# G = 0010\n",
    "# T = 0001\n",
    "#\n",
    "#   A    A    G    G    T    C   ...\n",
    "# 1000 1000 0010 0010 0001 0100\n",
    "x = np.zeros((N,L))\n",
    "for n in range(N): #for all the samples\n",
    "    for i in range(Ls): # for every character\n",
    "        x[n][i*4 + onehc[sx[n][i]]] = 1\n",
    "        \n",
    "print(sx[0])\n",
    "print(x[0])"
   ]
  },
  {
   "cell_type": "code",
   "execution_count": 6,
   "metadata": {},
   "outputs": [
    {
     "name": "stdout",
     "output_type": "stream",
     "text": [
      "0.24333333333333335\n",
      "0.25833333333333336\n"
     ]
    }
   ],
   "source": [
    "(x_train, y_train) = (x[:N_train],y[:N_train])\n",
    "(x_test, y_test) = (x[N_train:],y[N_train:])\n",
    "\n",
    "# Check the fraction of datas equal to one\n",
    "print(y_train.sum() / N_train)\n",
    "print(y_test.sum() / N_test)"
   ]
  },
  {
   "cell_type": "markdown",
   "metadata": {},
   "source": [
    "1. Is the model converging with a smaller database of samples with longer sequences? By converging we mean reducing significantly the validation loss function."
   ]
  },
  {
   "cell_type": "code",
   "execution_count": 7,
   "metadata": {
    "scrolled": false
   },
   "outputs": [
    {
     "name": "stdout",
     "output_type": "stream",
     "text": [
      "Model: \"sequential\"\n",
      "_________________________________________________________________\n",
      "Layer (type)                 Output Shape              Param #   \n",
      "=================================================================\n",
      "dense (Dense)                (None, 64)                4160      \n",
      "_________________________________________________________________\n",
      "dense_1 (Dense)              (None, 32)                2080      \n",
      "_________________________________________________________________\n",
      "dense_2 (Dense)              (None, 16)                528       \n",
      "_________________________________________________________________\n",
      "dropout (Dropout)            (None, 16)                0         \n",
      "_________________________________________________________________\n",
      "dense_3 (Dense)              (None, 1)                 17        \n",
      "=================================================================\n",
      "Total params: 6,785\n",
      "Trainable params: 6,785\n",
      "Non-trainable params: 0\n",
      "_________________________________________________________________\n",
      "None\n",
      "Epoch 1/60\n",
      "48/48 [==============================] - 1s 22ms/step - loss: 0.5745 - accuracy: 0.7329 - val_loss: 0.5385 - val_accuracy: 0.7417\n",
      "Epoch 2/60\n",
      "48/48 [==============================] - 1s 14ms/step - loss: 0.5204 - accuracy: 0.7563 - val_loss: 0.5177 - val_accuracy: 0.7417\n",
      "Epoch 3/60\n",
      "48/48 [==============================] - 1s 14ms/step - loss: 0.4945 - accuracy: 0.7575 - val_loss: 0.5091 - val_accuracy: 0.7400\n",
      "Epoch 4/60\n",
      "48/48 [==============================] - 1s 14ms/step - loss: 0.4838 - accuracy: 0.7608 - val_loss: 0.5034 - val_accuracy: 0.7450\n",
      "Epoch 5/60\n",
      "48/48 [==============================] - 1s 12ms/step - loss: 0.4734 - accuracy: 0.7683 - val_loss: 0.5035 - val_accuracy: 0.7567\n",
      "Epoch 6/60\n",
      "48/48 [==============================] - 1s 14ms/step - loss: 0.4619 - accuracy: 0.7758 - val_loss: 0.5003 - val_accuracy: 0.7517\n",
      "Epoch 7/60\n",
      "48/48 [==============================] - 1s 14ms/step - loss: 0.4567 - accuracy: 0.7771 - val_loss: 0.4996 - val_accuracy: 0.7583\n",
      "Epoch 8/60\n",
      "48/48 [==============================] - 1s 15ms/step - loss: 0.4470 - accuracy: 0.7867 - val_loss: 0.5033 - val_accuracy: 0.7583\n",
      "Epoch 9/60\n",
      "48/48 [==============================] - 1s 14ms/step - loss: 0.4423 - accuracy: 0.7921 - val_loss: 0.5029 - val_accuracy: 0.7617\n",
      "Epoch 10/60\n",
      "48/48 [==============================] - 1s 22ms/step - loss: 0.4355 - accuracy: 0.7921 - val_loss: 0.5019 - val_accuracy: 0.7517\n",
      "Epoch 11/60\n",
      "48/48 [==============================] - 1s 15ms/step - loss: 0.4277 - accuracy: 0.7983 - val_loss: 0.5002 - val_accuracy: 0.7533\n",
      "Epoch 12/60\n",
      "48/48 [==============================] - 1s 15ms/step - loss: 0.4203 - accuracy: 0.8050 - val_loss: 0.4963 - val_accuracy: 0.7567\n",
      "Epoch 13/60\n",
      "48/48 [==============================] - 1s 15ms/step - loss: 0.4088 - accuracy: 0.8033 - val_loss: 0.5125 - val_accuracy: 0.7583\n",
      "Epoch 14/60\n",
      "48/48 [==============================] - 1s 12ms/step - loss: 0.3972 - accuracy: 0.8163 - val_loss: 0.5042 - val_accuracy: 0.7550\n",
      "Epoch 15/60\n",
      "48/48 [==============================] - 1s 15ms/step - loss: 0.3844 - accuracy: 0.8279 - val_loss: 0.4908 - val_accuracy: 0.7600\n",
      "Epoch 16/60\n",
      "48/48 [==============================] - 1s 16ms/step - loss: 0.3720 - accuracy: 0.8371 - val_loss: 0.5045 - val_accuracy: 0.7450\n",
      "Epoch 17/60\n",
      "48/48 [==============================] - 1s 16ms/step - loss: 0.3569 - accuracy: 0.8383 - val_loss: 0.4987 - val_accuracy: 0.7617\n",
      "Epoch 18/60\n",
      "48/48 [==============================] - 1s 14ms/step - loss: 0.3392 - accuracy: 0.8467 - val_loss: 0.4997 - val_accuracy: 0.7617\n",
      "Epoch 19/60\n",
      "48/48 [==============================] - 1s 13ms/step - loss: 0.3305 - accuracy: 0.8587 - val_loss: 0.5118 - val_accuracy: 0.7733\n",
      "Epoch 20/60\n",
      "48/48 [==============================] - 1s 12ms/step - loss: 0.3122 - accuracy: 0.8625 - val_loss: 0.4893 - val_accuracy: 0.7650\n",
      "Epoch 21/60\n",
      "48/48 [==============================] - 1s 14ms/step - loss: 0.3003 - accuracy: 0.8696 - val_loss: 0.5158 - val_accuracy: 0.7583\n",
      "Epoch 22/60\n",
      "48/48 [==============================] - 1s 17ms/step - loss: 0.2769 - accuracy: 0.8871 - val_loss: 0.5587 - val_accuracy: 0.7733\n",
      "Epoch 23/60\n",
      "48/48 [==============================] - 1s 12ms/step - loss: 0.2683 - accuracy: 0.8896 - val_loss: 0.5131 - val_accuracy: 0.7583\n",
      "Epoch 24/60\n",
      "48/48 [==============================] - 1s 13ms/step - loss: 0.2676 - accuracy: 0.8829 - val_loss: 0.5154 - val_accuracy: 0.7767\n",
      "Epoch 25/60\n",
      "48/48 [==============================] - 1s 16ms/step - loss: 0.2525 - accuracy: 0.8925 - val_loss: 0.5359 - val_accuracy: 0.7717\n",
      "Epoch 26/60\n",
      "48/48 [==============================] - 1s 14ms/step - loss: 0.2416 - accuracy: 0.8979 - val_loss: 0.5211 - val_accuracy: 0.7500\n",
      "Epoch 27/60\n",
      "48/48 [==============================] - 1s 12ms/step - loss: 0.2196 - accuracy: 0.9071 - val_loss: 0.5529 - val_accuracy: 0.7650\n",
      "Epoch 28/60\n",
      "48/48 [==============================] - 1s 12ms/step - loss: 0.2153 - accuracy: 0.9117 - val_loss: 0.5778 - val_accuracy: 0.7650\n",
      "Epoch 29/60\n",
      "48/48 [==============================] - 1s 17ms/step - loss: 0.2003 - accuracy: 0.9217 - val_loss: 0.5823 - val_accuracy: 0.7833\n",
      "Epoch 30/60\n",
      "48/48 [==============================] - 1s 19ms/step - loss: 0.1942 - accuracy: 0.9229 - val_loss: 0.5534 - val_accuracy: 0.7817\n",
      "Epoch 31/60\n",
      "48/48 [==============================] - 1s 20ms/step - loss: 0.1841 - accuracy: 0.9296 - val_loss: 0.5963 - val_accuracy: 0.7767\n",
      "Epoch 32/60\n",
      "48/48 [==============================] - 1s 12ms/step - loss: 0.1697 - accuracy: 0.9350 - val_loss: 0.5678 - val_accuracy: 0.7800\n",
      "Epoch 33/60\n",
      "48/48 [==============================] - 1s 18ms/step - loss: 0.1591 - accuracy: 0.9371 - val_loss: 0.6184 - val_accuracy: 0.7817\n",
      "Epoch 34/60\n",
      "48/48 [==============================] - 1s 19ms/step - loss: 0.1418 - accuracy: 0.9492 - val_loss: 0.6283 - val_accuracy: 0.7817\n",
      "Epoch 35/60\n",
      "48/48 [==============================] - 1s 15ms/step - loss: 0.1436 - accuracy: 0.9458 - val_loss: 0.6520 - val_accuracy: 0.7850\n",
      "Epoch 36/60\n",
      "48/48 [==============================] - 1s 14ms/step - loss: 0.1304 - accuracy: 0.9546 - val_loss: 0.6323 - val_accuracy: 0.7833\n",
      "Epoch 37/60\n",
      "48/48 [==============================] - 1s 11ms/step - loss: 0.1229 - accuracy: 0.9546 - val_loss: 0.6409 - val_accuracy: 0.7783\n",
      "Epoch 38/60\n",
      "48/48 [==============================] - 1s 14ms/step - loss: 0.1124 - accuracy: 0.9625 - val_loss: 0.6876 - val_accuracy: 0.7883\n",
      "Epoch 39/60\n",
      "48/48 [==============================] - 1s 15ms/step - loss: 0.1063 - accuracy: 0.9654 - val_loss: 0.7285 - val_accuracy: 0.7850\n",
      "Epoch 40/60\n",
      "48/48 [==============================] - 1s 11ms/step - loss: 0.1006 - accuracy: 0.9646 - val_loss: 0.7071 - val_accuracy: 0.7850\n",
      "Epoch 41/60\n",
      "48/48 [==============================] - 1s 13ms/step - loss: 0.0942 - accuracy: 0.9679 - val_loss: 0.7592 - val_accuracy: 0.7900\n",
      "Epoch 42/60\n",
      "48/48 [==============================] - 1s 12ms/step - loss: 0.0866 - accuracy: 0.9708 - val_loss: 0.8099 - val_accuracy: 0.7750\n",
      "Epoch 43/60\n",
      "48/48 [==============================] - 0s 10ms/step - loss: 0.0846 - accuracy: 0.9704 - val_loss: 0.8405 - val_accuracy: 0.7967\n",
      "Epoch 44/60\n",
      "48/48 [==============================] - 1s 13ms/step - loss: 0.0893 - accuracy: 0.9683 - val_loss: 0.7913 - val_accuracy: 0.7900\n",
      "Epoch 45/60\n",
      "48/48 [==============================] - 1s 14ms/step - loss: 0.0693 - accuracy: 0.9742 - val_loss: 0.8214 - val_accuracy: 0.7933\n",
      "Epoch 46/60\n",
      "48/48 [==============================] - 1s 18ms/step - loss: 0.0624 - accuracy: 0.9825 - val_loss: 0.8584 - val_accuracy: 0.7900\n",
      "Epoch 47/60\n",
      "48/48 [==============================] - 1s 23ms/step - loss: 0.0609 - accuracy: 0.9821 - val_loss: 0.9112 - val_accuracy: 0.7883\n",
      "Epoch 48/60\n",
      "48/48 [==============================] - 1s 13ms/step - loss: 0.0627 - accuracy: 0.9796 - val_loss: 0.8507 - val_accuracy: 0.7933\n",
      "Epoch 49/60\n",
      "48/48 [==============================] - 1s 16ms/step - loss: 0.0637 - accuracy: 0.9817 - val_loss: 0.9296 - val_accuracy: 0.7717\n",
      "Epoch 50/60\n",
      "48/48 [==============================] - 1s 15ms/step - loss: 0.0630 - accuracy: 0.9796 - val_loss: 0.8916 - val_accuracy: 0.7883\n",
      "Epoch 51/60\n"
     ]
    },
    {
     "name": "stdout",
     "output_type": "stream",
     "text": [
      "48/48 [==============================] - 1s 13ms/step - loss: 0.0514 - accuracy: 0.9850 - val_loss: 0.9651 - val_accuracy: 0.7917\n",
      "Epoch 52/60\n",
      "48/48 [==============================] - 1s 11ms/step - loss: 0.0420 - accuracy: 0.9896 - val_loss: 0.9752 - val_accuracy: 0.7967\n",
      "Epoch 53/60\n",
      "48/48 [==============================] - 1s 15ms/step - loss: 0.0427 - accuracy: 0.9875 - val_loss: 0.9384 - val_accuracy: 0.7917\n",
      "Epoch 54/60\n",
      "48/48 [==============================] - 1s 18ms/step - loss: 0.0477 - accuracy: 0.9858 - val_loss: 1.0449 - val_accuracy: 0.7983\n",
      "Epoch 55/60\n",
      "48/48 [==============================] - 1s 14ms/step - loss: 0.0508 - accuracy: 0.9850 - val_loss: 0.9831 - val_accuracy: 0.7867\n",
      "Epoch 56/60\n",
      "48/48 [==============================] - 1s 12ms/step - loss: 0.0479 - accuracy: 0.9850 - val_loss: 1.0895 - val_accuracy: 0.7767\n",
      "Epoch 57/60\n",
      "48/48 [==============================] - 1s 16ms/step - loss: 0.0514 - accuracy: 0.9808 - val_loss: 0.9757 - val_accuracy: 0.7833\n",
      "Epoch 58/60\n",
      "48/48 [==============================] - 1s 12ms/step - loss: 0.0462 - accuracy: 0.9858 - val_loss: 1.0342 - val_accuracy: 0.7783\n",
      "Epoch 59/60\n",
      "48/48 [==============================] - 1s 12ms/step - loss: 0.0371 - accuracy: 0.9904 - val_loss: 1.0656 - val_accuracy: 0.7817\n",
      "Epoch 60/60\n",
      "48/48 [==============================] - 1s 18ms/step - loss: 0.0309 - accuracy: 0.9892 - val_loss: 1.1289 - val_accuracy: 0.7867\n"
     ]
    },
    {
     "data": {
      "image/png": "[encoded data removed]",
      "text/plain": [
       "<Figure size 432x288 with 1 Axes>"
      ]
     },
     "metadata": {
      "needs_background": "light"
     },
     "output_type": "display_data"
    },
    {
     "data": {
      "image/png": "[encoded data removed]",
      "text/plain": [
       "<Figure size 432x288 with 1 Axes>"
      ]
     },
     "metadata": {
      "needs_background": "light"
     },
     "output_type": "display_data"
    }
   ],
   "source": [
    "# I MADE THE SAME TRAINING IMPLEMENTING 3 FUNCTIONS\n",
    "# layer_i is an array representing a hidden layer used to create a neural network:\n",
    "# layer_i = [nodes, activation, dropout_ratio]\n",
    "# hidden_layers is a array of the hidden layers\n",
    "layer_1 = [L/2, 'relu', 0]\n",
    "layer_2 = [L/4, 'relu', .2]\n",
    "hidden_layers = [layer_1,layer_2]\n",
    "\n",
    "# optimization chosen\n",
    "opt = SGD(learning_rate=0.01, momentum=0.9, nesterov= True)\n",
    "\n",
    "# the first function creates the Neural Network, it needs the input dimension and the array of layers\n",
    "def createmodel(input_dim, hidden_layers):\n",
    "    model = Sequential()\n",
    "    \n",
    "    # we add the first layer (input layer)\n",
    "    model.add(Dense(input_dim, input_shape=(input_dim,)))\n",
    "    \n",
    "    # we add the hidden layers\n",
    "    for layer in hidden_layers:\n",
    "        model.add(Dense(layer[0],activation=layer[1]))\n",
    "        if layer[2]:\n",
    "            model.add(Dropout(layer[2]))\n",
    "    \n",
    "    # we add the output layer\n",
    "    model.add(Dense(1,activation='sigmoid'))\n",
    "    print(model.summary())\n",
    "    \n",
    "    return model\n",
    "\n",
    "# the second function trains the model created with createmodel, as a input it needs the output of createmodels\n",
    "# the optimization and the arguments of model.fit() (except for shuffle)\n",
    "def trainmodel(model, opt, *args, **kwargs):\n",
    "    model.compile(loss='binary_crossentropy',\n",
    "                  optimizer=opt,\n",
    "                  metrics=['accuracy'])\n",
    "\n",
    "    fit = model.fit(*args, **kwargs, shuffle = True)\n",
    "    '''fit = model.fit(x_train, y_train,\n",
    "                    epochs = 60, batch_size = 50,\n",
    "                    validation_data = (x_test,y_test),\n",
    "                    shuffle = True)'''\n",
    "    \n",
    "    return fit\n",
    "\n",
    "# the third function takes the output of trainmodel and plot the loss of training data and test data\n",
    "def plotmodel(fit):\n",
    "    for obs in ('accuracy', 'loss'):\n",
    "        plt.figure(figsize=(6,4))\n",
    "        plt.plot(fit.history[obs], 'r', label = obs + ' of training data')\n",
    "        plt.plot(fit.history['val_'+obs], 'b--', label = obs + ' of test data')\n",
    "        plt.ylabel(obs)\n",
    "        plt.xlabel('Epochs')\n",
    "        plt.legend()\n",
    "        plt.show()\n",
    "        \n",
    "plotmodel(trainmodel(createmodel(L,hidden_layers), opt, x_train, y_train,\n",
    "           epochs=60, batch_size=50, validation_data= (x_test, y_test)))\n"
   ]
  },
  {
   "cell_type": "code",
   "execution_count": null,
   "metadata": {},
   "outputs": [],
   "source": [
    "np.random.seed(123)\n",
    "\n",
    "model = Sequential() #start of implementing a neural network in keras\n",
    "\n",
    "#  x\n",
    "#  x\n",
    "#  x     h\n",
    "#  x     h\n",
    "#  x     h     h    o (0,1)\n",
    "#  x     h\n",
    "#  x\n",
    "#  x\n",
    "#             drop\n",
    "# FIRST LAYER (INPUT)\n",
    "model.add(Dense(L, input_shape=(L,),activation='relu')) # Dense stands for a normal layer\n",
    "\n",
    "# SECOND LAYER (HIDDEN 1)\n",
    "model.add(Dense(L/2,activation='relu'))\n",
    "\n",
    "# THIRD LAYER (HIDDEN 2)\n",
    "model.add(Dense(L/4,activation='relu'))\n",
    "model.add(Dropout(0.2))\n",
    "\n",
    "# FORTH LAYER (OUTPUT) introducing dropouts\n",
    "model.add(Dense(1,activation='sigmoid')) #we need an activation function from 0 to 1\n",
    "\n",
    "print(model.summary())"
   ]
  },
  {
   "cell_type": "code",
   "execution_count": null,
   "metadata": {
    "scrolled": false
   },
   "outputs": [],
   "source": [
    "opt1 = SGD(learning_rate=0.01, momentum=0.9, nesterov= True)\n",
    "\n",
    "model.compile(loss='binary_crossentropy',\n",
    "              optimizer=opt1,\n",
    "              metrics=['accuracy'])\n",
    "\n",
    "fit = model.fit(x_train, y_train,\n",
    "                epochs = 60, batch_size = 50,\n",
    "                validation_data = (x_test,y_test),\n",
    "                shuffle = True)"
   ]
  },
  {
   "cell_type": "code",
   "execution_count": null,
   "metadata": {},
   "outputs": [],
   "source": [
    "for obs in ('accuracy', 'loss'):\n",
    "    plt.figure(figsize=(6,4))\n",
    "    plt.plot(fit.history[obs], 'r', label = obs + ' of training data')\n",
    "    plt.plot(fit.history['val_'+obs], 'b--', label = obs + ' of test data')\n",
    "    plt.ylabel(obs)\n",
    "    plt.xlabel('Epochs')\n",
    "    plt.legend()\n",
    "    plt.show()"
   ]
  },
  {
   "cell_type": "markdown",
   "metadata": {},
   "source": [
    "2. Try to improve the performance of the DNN over the validation data set by “augmenting”\n",
    "the training data: For every sample there are L s -1 periodic shifts of the kind\n",
    "AAACCCTTTGGG→ GAAACCCTTTGG → GGAAACCCTTTG→ etc.\n",
    "We know that they can break the keys and provide a sample x’[n] with wrong label y[n]\n",
    "(which is the label of original sample x[n]), but they also enlarge the number of good\n",
    "samples for the DNN. Which of the two effects is prevalent?\n",
    "Is the situation improving by augmenting the training data from N t real samples to L s *N t ones with this procedure?"
   ]
  },
  {
   "cell_type": "code",
   "execution_count": 8,
   "metadata": {},
   "outputs": [],
   "source": [
    "rot = lambda A: [A[i:]+A[:i] for i in range(len(A))]"
   ]
  },
  {
   "cell_type": "code",
   "execution_count": 9,
   "metadata": {
    "scrolled": true
   },
   "outputs": [
    {
     "name": "stdout",
     "output_type": "stream",
     "text": [
      "Original number of samples 3000\n",
      "Augmented number of samples 48000\n"
     ]
    }
   ],
   "source": [
    "sxx = []\n",
    "syy = np.zeros(len(sx)*Ls)\n",
    "for i in range(len(sx)):\n",
    "    sxx= np.append(sxx,rot(sx[i]))\n",
    "    syy[i*Ls:(i+1)*Ls] = sy[i]\n",
    "syy = syy.astype(int)\n",
    "#syy.astype(int)\n",
    "print('Original number of samples',len(sx))\n",
    "print('Augmented number of samples',len(sxx))"
   ]
  },
  {
   "cell_type": "code",
   "execution_count": 10,
   "metadata": {},
   "outputs": [
    {
     "name": "stdout",
     "output_type": "stream",
     "text": [
      "Size of the sequences:    16\n",
      "Size of the data:         48000\n",
      "Size of the training set: 38400\n",
      "Size of the test set:     9600\n"
     ]
    }
   ],
   "source": [
    "N = len(syy)\n",
    "\n",
    "Ls = len(sxx[0])\n",
    "\n",
    "perc_train = 0.8 # I kept the same train-test ratio as in the lesson\n",
    "N_train = int(N*perc_train)\n",
    "N_test = N - N_train\n",
    "\n",
    "print('Size of the sequences:   ',Ls)\n",
    "print('Size of the data:        ',N)\n",
    "print('Size of the training set:',N_train)\n",
    "print('Size of the test set:    ',N_test)"
   ]
  },
  {
   "cell_type": "code",
   "execution_count": 11,
   "metadata": {},
   "outputs": [
    {
     "name": "stdout",
     "output_type": "stream",
     "text": [
      "AAGGTCTGCCGGCCGA\n",
      "[1. 0. 0. 0. 1. 0. 0. 0. 0. 0. 1. 0. 0. 0. 1. 0. 0. 0. 0. 1. 0. 1. 0. 0.\n",
      " 0. 0. 0. 1. 0. 0. 1. 0. 0. 1. 0. 0. 0. 1. 0. 0. 0. 0. 1. 0. 0. 0. 1. 0.\n",
      " 0. 1. 0. 0. 0. 1. 0. 0. 0. 0. 1. 0. 1. 0. 0. 0.]\n"
     ]
    }
   ],
   "source": [
    "y = syy\n",
    "x = np.zeros((N,L))\n",
    "for n in range(N): #for all the samples\n",
    "    for i in range(Ls): # for every character\n",
    "        x[n][i*4 + onehc[sxx[n][i]]] = 1\n",
    "        \n",
    "print(sxx[0])\n",
    "print(x[0])"
   ]
  },
  {
   "cell_type": "code",
   "execution_count": 12,
   "metadata": {},
   "outputs": [
    {
     "name": "stdout",
     "output_type": "stream",
     "text": [
      "0.24333333333333335\n",
      "0.25833333333333336\n"
     ]
    }
   ],
   "source": [
    "(x_train, y_train) = (x[:N_train],y[:N_train])\n",
    "(x_test, y_test) = (x[N_train:],y[N_train:])\n",
    "\n",
    "# Check the fraction of datas equal to one\n",
    "print(y_train.sum() / N_train)\n",
    "print(y_test.sum() / N_test)"
   ]
  },
  {
   "cell_type": "code",
   "execution_count": 13,
   "metadata": {
    "scrolled": true
   },
   "outputs": [
    {
     "name": "stdout",
     "output_type": "stream",
     "text": [
      "Model: \"sequential_1\"\n",
      "_________________________________________________________________\n",
      "Layer (type)                 Output Shape              Param #   \n",
      "=================================================================\n",
      "dense_4 (Dense)              (None, 64)                4160      \n",
      "_________________________________________________________________\n",
      "dense_5 (Dense)              (None, 32)                2080      \n",
      "_________________________________________________________________\n",
      "dense_6 (Dense)              (None, 16)                528       \n",
      "_________________________________________________________________\n",
      "dropout_1 (Dropout)          (None, 16)                0         \n",
      "_________________________________________________________________\n",
      "dense_7 (Dense)              (None, 1)                 17        \n",
      "=================================================================\n",
      "Total params: 6,785\n",
      "Trainable params: 6,785\n",
      "Non-trainable params: 0\n",
      "_________________________________________________________________\n",
      "None\n",
      "Epoch 1/60\n",
      "768/768 [==============================] - 9s 11ms/step - loss: 0.5130 - accuracy: 0.7595 - val_loss: 0.4978 - val_accuracy: 0.7553\n",
      "Epoch 2/60\n",
      "768/768 [==============================] - 10s 12ms/step - loss: 0.4768 - accuracy: 0.7774 - val_loss: 0.4641 - val_accuracy: 0.7798\n",
      "Epoch 3/60\n",
      "768/768 [==============================] - 8s 11ms/step - loss: 0.4476 - accuracy: 0.7949 - val_loss: 0.4310 - val_accuracy: 0.7996\n",
      "Epoch 4/60\n",
      "768/768 [==============================] - 7s 9ms/step - loss: 0.4184 - accuracy: 0.8083 - val_loss: 0.4035 - val_accuracy: 0.8133\n",
      "Epoch 5/60\n",
      "768/768 [==============================] - 8s 10ms/step - loss: 0.3937 - accuracy: 0.8222 - val_loss: 0.3826 - val_accuracy: 0.8250\n",
      "Epoch 6/60\n",
      "768/768 [==============================] - 8s 11ms/step - loss: 0.3741 - accuracy: 0.8340 - val_loss: 0.3630 - val_accuracy: 0.8322\n",
      "Epoch 7/60\n",
      "768/768 [==============================] - 9s 11ms/step - loss: 0.3548 - accuracy: 0.8434 - val_loss: 0.3336 - val_accuracy: 0.8504\n",
      "Epoch 8/60\n",
      "768/768 [==============================] - 8s 10ms/step - loss: 0.3402 - accuracy: 0.8526 - val_loss: 0.3430 - val_accuracy: 0.8468\n",
      "Epoch 9/60\n",
      "768/768 [==============================] - 6s 8ms/step - loss: 0.3277 - accuracy: 0.8590 - val_loss: 0.3349 - val_accuracy: 0.8516\n",
      "Epoch 10/60\n",
      "768/768 [==============================] - 5s 7ms/step - loss: 0.3191 - accuracy: 0.8651 - val_loss: 0.3147 - val_accuracy: 0.8679\n",
      "Epoch 11/60\n",
      "768/768 [==============================] - 6s 8ms/step - loss: 0.3090 - accuracy: 0.8708 - val_loss: 0.2997 - val_accuracy: 0.8724\n",
      "Epoch 12/60\n",
      "768/768 [==============================] - 5s 7ms/step - loss: 0.3024 - accuracy: 0.8745 - val_loss: 0.2979 - val_accuracy: 0.8767\n",
      "Epoch 13/60\n",
      "768/768 [==============================] - 5s 7ms/step - loss: 0.2954 - accuracy: 0.8787 - val_loss: 0.2908 - val_accuracy: 0.8792\n",
      "Epoch 14/60\n",
      "768/768 [==============================] - 5s 7ms/step - loss: 0.2904 - accuracy: 0.8820 - val_loss: 0.2993 - val_accuracy: 0.8721\n",
      "Epoch 15/60\n",
      "768/768 [==============================] - 6s 7ms/step - loss: 0.2869 - accuracy: 0.8847 - val_loss: 0.2878 - val_accuracy: 0.8821\n",
      "Epoch 16/60\n",
      "768/768 [==============================] - 6s 8ms/step - loss: 0.2835 - accuracy: 0.8858 - val_loss: 0.2789 - val_accuracy: 0.8889\n",
      "Epoch 17/60\n",
      "768/768 [==============================] - 6s 8ms/step - loss: 0.2795 - accuracy: 0.8872 - val_loss: 0.2766 - val_accuracy: 0.8858\n",
      "Epoch 18/60\n",
      "768/768 [==============================] - 6s 7ms/step - loss: 0.2747 - accuracy: 0.8906 - val_loss: 0.2829 - val_accuracy: 0.8869\n",
      "Epoch 19/60\n",
      "768/768 [==============================] - 5s 7ms/step - loss: 0.2711 - accuracy: 0.8941 - val_loss: 0.2727 - val_accuracy: 0.8902\n",
      "Epoch 20/60\n",
      "768/768 [==============================] - 7s 9ms/step - loss: 0.2669 - accuracy: 0.8956 - val_loss: 0.2693 - val_accuracy: 0.8905\n",
      "Epoch 21/60\n",
      "768/768 [==============================] - 9s 12ms/step - loss: 0.2653 - accuracy: 0.8961 - val_loss: 0.2783 - val_accuracy: 0.8842\n",
      "Epoch 22/60\n",
      "768/768 [==============================] - 8s 10ms/step - loss: 0.2623 - accuracy: 0.8995 - val_loss: 0.2726 - val_accuracy: 0.8895\n",
      "Epoch 23/60\n",
      "768/768 [==============================] - 8s 10ms/step - loss: 0.2594 - accuracy: 0.8998 - val_loss: 0.2666 - val_accuracy: 0.8953\n",
      "Epoch 24/60\n",
      "768/768 [==============================] - 8s 11ms/step - loss: 0.2575 - accuracy: 0.9017 - val_loss: 0.2642 - val_accuracy: 0.8968\n",
      "Epoch 25/60\n",
      "768/768 [==============================] - 9s 11ms/step - loss: 0.2565 - accuracy: 0.9030 - val_loss: 0.2650 - val_accuracy: 0.8956\n",
      "Epoch 26/60\n",
      "768/768 [==============================] - 9s 12ms/step - loss: 0.2517 - accuracy: 0.9057 - val_loss: 0.2535 - val_accuracy: 0.9030\n",
      "Epoch 27/60\n",
      "768/768 [==============================] - 9s 11ms/step - loss: 0.2512 - accuracy: 0.9054 - val_loss: 0.2562 - val_accuracy: 0.9002\n",
      "Epoch 28/60\n",
      "768/768 [==============================] - 10s 12ms/step - loss: 0.2488 - accuracy: 0.9055 - val_loss: 0.2511 - val_accuracy: 0.9047\n",
      "Epoch 29/60\n",
      "768/768 [==============================] - 10s 13ms/step - loss: 0.2458 - accuracy: 0.9086 - val_loss: 0.2559 - val_accuracy: 0.9013\n",
      "Epoch 30/60\n",
      "768/768 [==============================] - 9s 12ms/step - loss: 0.2444 - accuracy: 0.9085 - val_loss: 0.2472 - val_accuracy: 0.9082\n",
      "Epoch 31/60\n",
      "768/768 [==============================] - 10s 13ms/step - loss: 0.2447 - accuracy: 0.9084 - val_loss: 0.2467 - val_accuracy: 0.9066\n",
      "Epoch 32/60\n",
      "768/768 [==============================] - 9s 12ms/step - loss: 0.2420 - accuracy: 0.9112 - val_loss: 0.2526 - val_accuracy: 0.9036\n",
      "Epoch 33/60\n",
      "768/768 [==============================] - 10s 13ms/step - loss: 0.2405 - accuracy: 0.9104 - val_loss: 0.2465 - val_accuracy: 0.9064\n",
      "Epoch 34/60\n",
      "768/768 [==============================] - 12s 15ms/step - loss: 0.2381 - accuracy: 0.9126 - val_loss: 0.2501 - val_accuracy: 0.9023\n",
      "Epoch 35/60\n",
      "768/768 [==============================] - 11s 14ms/step - loss: 0.2363 - accuracy: 0.9142 - val_loss: 0.2437 - val_accuracy: 0.9101\n",
      "Epoch 36/60\n",
      "768/768 [==============================] - 10s 13ms/step - loss: 0.2370 - accuracy: 0.9129 - val_loss: 0.2368 - val_accuracy: 0.9115\n",
      "Epoch 37/60\n",
      "768/768 [==============================] - 9s 11ms/step - loss: 0.2342 - accuracy: 0.9144 - val_loss: 0.2444 - val_accuracy: 0.9080\n",
      "Epoch 38/60\n",
      "768/768 [==============================] - 10s 13ms/step - loss: 0.2346 - accuracy: 0.9148 - val_loss: 0.2396 - val_accuracy: 0.9109\n",
      "Epoch 39/60\n",
      "768/768 [==============================] - 11s 15ms/step - loss: 0.2318 - accuracy: 0.9162 - val_loss: 0.2386 - val_accuracy: 0.9115\n",
      "Epoch 40/60\n",
      "768/768 [==============================] - 12s 16ms/step - loss: 0.2309 - accuracy: 0.9168 - val_loss: 0.2372 - val_accuracy: 0.9142\n",
      "Epoch 41/60\n",
      "768/768 [==============================] - 12s 16ms/step - loss: 0.2303 - accuracy: 0.9169 - val_loss: 0.2408 - val_accuracy: 0.9115\n",
      "Epoch 42/60\n",
      "768/768 [==============================] - 12s 15ms/step - loss: 0.2277 - accuracy: 0.9181 - val_loss: 0.2297 - val_accuracy: 0.9181\n",
      "Epoch 43/60\n",
      "768/768 [==============================] - 14s 18ms/step - loss: 0.2275 - accuracy: 0.9183 - val_loss: 0.2399 - val_accuracy: 0.9106\n",
      "Epoch 44/60\n",
      "768/768 [==============================] - 13s 17ms/step - loss: 0.2256 - accuracy: 0.9196 - val_loss: 0.2351 - val_accuracy: 0.9141\n",
      "Epoch 45/60\n",
      "768/768 [==============================] - 13s 18ms/step - loss: 0.2269 - accuracy: 0.9174 - val_loss: 0.2332 - val_accuracy: 0.9155\n",
      "Epoch 46/60\n",
      "768/768 [==============================] - 12s 16ms/step - loss: 0.2267 - accuracy: 0.9189 - val_loss: 0.2446 - val_accuracy: 0.9065\n",
      "Epoch 47/60\n",
      "768/768 [==============================] - 10s 13ms/step - loss: 0.2254 - accuracy: 0.9199 - val_loss: 0.2347 - val_accuracy: 0.9151\n",
      "Epoch 48/60\n",
      "768/768 [==============================] - 11s 14ms/step - loss: 0.2238 - accuracy: 0.9199 - val_loss: 0.2316 - val_accuracy: 0.9174\n",
      "Epoch 49/60\n",
      "768/768 [==============================] - 9s 12ms/step - loss: 0.2257 - accuracy: 0.9200 - val_loss: 0.2337 - val_accuracy: 0.9153\n",
      "Epoch 50/60\n",
      "768/768 [==============================] - 13s 17ms/step - loss: 0.2225 - accuracy: 0.9209 - val_loss: 0.2276 - val_accuracy: 0.9198\n"
     ]
    },
    {
     "name": "stdout",
     "output_type": "stream",
     "text": [
      "Epoch 51/60\n",
      "768/768 [==============================] - 9s 11ms/step - loss: 0.2222 - accuracy: 0.9206 - val_loss: 0.2294 - val_accuracy: 0.9172\n",
      "Epoch 52/60\n",
      "768/768 [==============================] - 11s 14ms/step - loss: 0.2194 - accuracy: 0.9232 - val_loss: 0.2387 - val_accuracy: 0.9108\n",
      "Epoch 53/60\n",
      "768/768 [==============================] - 9s 11ms/step - loss: 0.2216 - accuracy: 0.9207 - val_loss: 0.2278 - val_accuracy: 0.9161\n",
      "Epoch 54/60\n",
      "768/768 [==============================] - 10s 14ms/step - loss: 0.2201 - accuracy: 0.9229 - val_loss: 0.2469 - val_accuracy: 0.9081\n",
      "Epoch 55/60\n",
      "768/768 [==============================] - 12s 16ms/step - loss: 0.2223 - accuracy: 0.9214 - val_loss: 0.2262 - val_accuracy: 0.9198\n",
      "Epoch 56/60\n",
      "768/768 [==============================] - 12s 15ms/step - loss: 0.2199 - accuracy: 0.9217 - val_loss: 0.2278 - val_accuracy: 0.9174\n",
      "Epoch 57/60\n",
      "768/768 [==============================] - 13s 17ms/step - loss: 0.2203 - accuracy: 0.9218 - val_loss: 0.2376 - val_accuracy: 0.9124\n",
      "Epoch 58/60\n",
      "768/768 [==============================] - 12s 16ms/step - loss: 0.2167 - accuracy: 0.9238 - val_loss: 0.2259 - val_accuracy: 0.9198\n",
      "Epoch 59/60\n",
      "768/768 [==============================] - 13s 16ms/step - loss: 0.2181 - accuracy: 0.9230 - val_loss: 0.2235 - val_accuracy: 0.9202\n",
      "Epoch 60/60\n",
      "768/768 [==============================] - 13s 17ms/step - loss: 0.2168 - accuracy: 0.9245 - val_loss: 0.2209 - val_accuracy: 0.9236\n"
     ]
    },
    {
     "data": {
      "image/png": "[encoded data removed]",
      "text/plain": [
       "<Figure size 432x288 with 1 Axes>"
      ]
     },
     "metadata": {
      "needs_background": "light"
     },
     "output_type": "display_data"
    },
    {
     "data": {
      "image/png": "[encoded data removed]",
      "text/plain": [
       "<Figure size 432x288 with 1 Axes>"
      ]
     },
     "metadata": {
      "needs_background": "light"
     },
     "output_type": "display_data"
    }
   ],
   "source": [
    "#Trainning of the network\n",
    "plotmodel(trainmodel(createmodel(L,hidden_layers), opt, x_train, y_train,\n",
    "           epochs=60, batch_size=50, validation_data= (x_test, y_test)))"
   ]
  },
  {
   "cell_type": "code",
   "execution_count": 14,
   "metadata": {},
   "outputs": [
    {
     "name": "stdout",
     "output_type": "stream",
     "text": [
      "AAGGTCTGCCGGCCGA 1\n",
      "AGGTCTGCCGGCCGAA 1\n",
      "GGTCTGCCGGCCGAAA 1\n",
      "GTCTGCCGGCCGAAAG 1\n",
      "TCTGCCGGCCGAAAGG 1\n",
      "CTGCCGGCCGAAAGGT 1\n",
      "TGCCGGCCGAAAGGTC 1\n",
      "GCCGGCCGAAAGGTCT 1\n",
      "CCGGCCGAAAGGTCTG 1\n",
      "CGGCCGAAAGGTCTGC 1\n",
      "GGCCGAAAGGTCTGCC 1\n",
      "GCCGAAAGGTCTGCCG 1\n",
      "CCGAAAGGTCTGCCGG 1\n",
      "CGAAAGGTCTGCCGGC 1\n",
      "GAAAGGTCTGCCGGCC 1\n",
      "AAAGGTCTGCCGGCCG 1\n"
     ]
    }
   ],
   "source": [
    "for i in range(16):\n",
    "    print(sxx[i],syy[i])"
   ]
  },
  {
   "cell_type": "code",
   "execution_count": 15,
   "metadata": {},
   "outputs": [],
   "source": [
    "permutation = np.random.permutation(sxx.shape[0])\n",
    "\n",
    "sxx = sxx[permutation] \n",
    "syy = syy[permutation]"
   ]
  },
  {
   "cell_type": "code",
   "execution_count": 16,
   "metadata": {},
   "outputs": [
    {
     "name": "stdout",
     "output_type": "stream",
     "text": [
      "CAAGGCTCCAGCTAGA 1\n",
      "ACCAAGTCTTAGCCCC 0\n",
      "CCGCTGTCGCCGAATT 1\n",
      "GGTGTGTCTTTCCATC 0\n",
      "TGGACTCGTATAACAG 0\n",
      "AATCCTAGCGTTCTTT 0\n",
      "TTCTCCACAATATATA 0\n",
      "TTCCTAACCACTGTTT 0\n",
      "AGGCGGAAAGCCCGGG 1\n",
      "GGAGTGAAAAATTCCC 0\n",
      "CCCAATGACCTGCTTT 0\n",
      "GGCCTGATACGTCGGC 0\n",
      "AACTGGTCGCATGTGA 0\n",
      "CGCAGCTTGGTTGGCG 0\n",
      "CGGATATTGATACATA 0\n",
      "CGAGACCGTCGTGCAT 0\n"
     ]
    }
   ],
   "source": [
    "for i in range(16):\n",
    "    print(sxx[i],syy[i])"
   ]
  },
  {
   "cell_type": "code",
   "execution_count": 17,
   "metadata": {},
   "outputs": [
    {
     "name": "stdout",
     "output_type": "stream",
     "text": [
      "CAAGGCTCCAGCTAGA\n",
      "[0. 1. 0. 0. 1. 0. 0. 0. 1. 0. 0. 0. 0. 0. 1. 0. 0. 0. 1. 0. 0. 1. 0. 0.\n",
      " 0. 0. 0. 1. 0. 1. 0. 0. 0. 1. 0. 0. 1. 0. 0. 0. 0. 0. 1. 0. 0. 1. 0. 0.\n",
      " 0. 0. 0. 1. 1. 0. 0. 0. 0. 0. 1. 0. 1. 0. 0. 0.]\n"
     ]
    }
   ],
   "source": [
    "y = syy\n",
    "x = np.zeros((N,L))\n",
    "for n in range(N): #for all the samples\n",
    "    for i in range(Ls): # for every character\n",
    "        x[n][i*4 + onehc[sxx[n][i]]] = 1\n",
    "        \n",
    "print(sxx[0])\n",
    "print(x[0])"
   ]
  },
  {
   "cell_type": "code",
   "execution_count": 18,
   "metadata": {},
   "outputs": [
    {
     "name": "stdout",
     "output_type": "stream",
     "text": [
      "0.24588541666666666\n",
      "0.248125\n"
     ]
    }
   ],
   "source": [
    "(x_train, y_train) = (x[:N_train],y[:N_train])\n",
    "(x_test, y_test) = (x[N_train:],y[N_train:])\n",
    "\n",
    "# Check the fraction of datas equal to one\n",
    "print(y_train.sum() / N_train)\n",
    "print(y_test.sum() / N_test)"
   ]
  },
  {
   "cell_type": "code",
   "execution_count": 19,
   "metadata": {},
   "outputs": [
    {
     "name": "stdout",
     "output_type": "stream",
     "text": [
      "Model: \"sequential_2\"\n",
      "_________________________________________________________________\n",
      "Layer (type)                 Output Shape              Param #   \n",
      "=================================================================\n",
      "dense_8 (Dense)              (None, 64)                4160      \n",
      "_________________________________________________________________\n",
      "dense_9 (Dense)              (None, 32)                2080      \n",
      "_________________________________________________________________\n",
      "dense_10 (Dense)             (None, 16)                528       \n",
      "_________________________________________________________________\n",
      "dropout_2 (Dropout)          (None, 16)                0         \n",
      "_________________________________________________________________\n",
      "dense_11 (Dense)             (None, 1)                 17        \n",
      "=================================================================\n",
      "Total params: 6,785\n",
      "Trainable params: 6,785\n",
      "Non-trainable params: 0\n",
      "_________________________________________________________________\n",
      "None\n",
      "Epoch 1/60\n",
      "768/768 [==============================] - 10s 12ms/step - loss: 0.5045 - accuracy: 0.7625 - val_loss: 0.4764 - val_accuracy: 0.7722\n",
      "Epoch 2/60\n",
      "768/768 [==============================] - 9s 11ms/step - loss: 0.4630 - accuracy: 0.7813 - val_loss: 0.4444 - val_accuracy: 0.7939\n",
      "Epoch 3/60\n",
      "768/768 [==============================] - 9s 12ms/step - loss: 0.4298 - accuracy: 0.8008 - val_loss: 0.4159 - val_accuracy: 0.8065\n",
      "Epoch 4/60\n",
      "768/768 [==============================] - 10s 13ms/step - loss: 0.3976 - accuracy: 0.8197 - val_loss: 0.3851 - val_accuracy: 0.8290\n",
      "Epoch 5/60\n",
      "768/768 [==============================] - 8s 11ms/step - loss: 0.3696 - accuracy: 0.8367 - val_loss: 0.3568 - val_accuracy: 0.8424\n",
      "Epoch 6/60\n",
      "768/768 [==============================] - 9s 11ms/step - loss: 0.3460 - accuracy: 0.8496 - val_loss: 0.3362 - val_accuracy: 0.8547\n",
      "Epoch 7/60\n",
      "768/768 [==============================] - 8s 11ms/step - loss: 0.3253 - accuracy: 0.8617 - val_loss: 0.3202 - val_accuracy: 0.8646\n",
      "Epoch 8/60\n",
      "768/768 [==============================] - 7s 10ms/step - loss: 0.3101 - accuracy: 0.8714 - val_loss: 0.3117 - val_accuracy: 0.8694\n",
      "Epoch 9/60\n",
      "768/768 [==============================] - 8s 11ms/step - loss: 0.3007 - accuracy: 0.8794 - val_loss: 0.3033 - val_accuracy: 0.8727\n",
      "Epoch 10/60\n",
      "768/768 [==============================] - 8s 11ms/step - loss: 0.2909 - accuracy: 0.8834 - val_loss: 0.3036 - val_accuracy: 0.8754\n",
      "Epoch 11/60\n",
      "768/768 [==============================] - 8s 10ms/step - loss: 0.2828 - accuracy: 0.8884 - val_loss: 0.3011 - val_accuracy: 0.8792\n",
      "Epoch 12/60\n",
      "768/768 [==============================] - 8s 10ms/step - loss: 0.2798 - accuracy: 0.8909 - val_loss: 0.2930 - val_accuracy: 0.8811\n",
      "Epoch 13/60\n",
      "768/768 [==============================] - 8s 11ms/step - loss: 0.2736 - accuracy: 0.8930 - val_loss: 0.2959 - val_accuracy: 0.8819\n",
      "Epoch 14/60\n",
      "768/768 [==============================] - 7s 10ms/step - loss: 0.2683 - accuracy: 0.8981 - val_loss: 0.2948 - val_accuracy: 0.8779\n",
      "Epoch 15/60\n",
      "768/768 [==============================] - 8s 10ms/step - loss: 0.2649 - accuracy: 0.8968 - val_loss: 0.2757 - val_accuracy: 0.8917\n",
      "Epoch 16/60\n",
      "768/768 [==============================] - 7s 10ms/step - loss: 0.2626 - accuracy: 0.9003 - val_loss: 0.2794 - val_accuracy: 0.8879\n",
      "Epoch 17/60\n",
      "768/768 [==============================] - 7s 10ms/step - loss: 0.2607 - accuracy: 0.8998 - val_loss: 0.2681 - val_accuracy: 0.8985\n",
      "Epoch 18/60\n",
      "768/768 [==============================] - 8s 10ms/step - loss: 0.2562 - accuracy: 0.9029 - val_loss: 0.2670 - val_accuracy: 0.8978\n",
      "Epoch 19/60\n",
      "768/768 [==============================] - 9s 12ms/step - loss: 0.2514 - accuracy: 0.9063 - val_loss: 0.2804 - val_accuracy: 0.8898\n",
      "Epoch 20/60\n",
      "768/768 [==============================] - 11s 15ms/step - loss: 0.2506 - accuracy: 0.9065 - val_loss: 0.2676 - val_accuracy: 0.8923\n",
      "Epoch 21/60\n",
      "768/768 [==============================] - 9s 12ms/step - loss: 0.2479 - accuracy: 0.9074 - val_loss: 0.2647 - val_accuracy: 0.8983\n",
      "Epoch 22/60\n",
      "768/768 [==============================] - 8s 11ms/step - loss: 0.2430 - accuracy: 0.9101 - val_loss: 0.2591 - val_accuracy: 0.9029\n",
      "Epoch 23/60\n",
      "768/768 [==============================] - 8s 10ms/step - loss: 0.2396 - accuracy: 0.9122 - val_loss: 0.2570 - val_accuracy: 0.9054\n",
      "Epoch 24/60\n",
      "768/768 [==============================] - 8s 10ms/step - loss: 0.2397 - accuracy: 0.9115 - val_loss: 0.2527 - val_accuracy: 0.9041\n",
      "Epoch 25/60\n",
      "768/768 [==============================] - 8s 10ms/step - loss: 0.2375 - accuracy: 0.9129 - val_loss: 0.2610 - val_accuracy: 0.8981\n",
      "Epoch 26/60\n",
      "768/768 [==============================] - 8s 11ms/step - loss: 0.2347 - accuracy: 0.9157 - val_loss: 0.2486 - val_accuracy: 0.9103\n",
      "Epoch 27/60\n",
      "768/768 [==============================] - 7s 10ms/step - loss: 0.2323 - accuracy: 0.9159 - val_loss: 0.2527 - val_accuracy: 0.9086\n",
      "Epoch 28/60\n",
      "768/768 [==============================] - 8s 11ms/step - loss: 0.2308 - accuracy: 0.9161 - val_loss: 0.2514 - val_accuracy: 0.9053\n",
      "Epoch 29/60\n",
      "768/768 [==============================] - 8s 10ms/step - loss: 0.2296 - accuracy: 0.9173 - val_loss: 0.2524 - val_accuracy: 0.9061\n",
      "Epoch 30/60\n",
      "768/768 [==============================] - 8s 10ms/step - loss: 0.2300 - accuracy: 0.9171 - val_loss: 0.2465 - val_accuracy: 0.9120\n",
      "Epoch 31/60\n",
      "768/768 [==============================] - 8s 11ms/step - loss: 0.2251 - accuracy: 0.9202 - val_loss: 0.2543 - val_accuracy: 0.9046\n",
      "Epoch 32/60\n",
      "768/768 [==============================] - 9s 11ms/step - loss: 0.2240 - accuracy: 0.9209 - val_loss: 0.2542 - val_accuracy: 0.9070\n",
      "Epoch 33/60\n",
      "768/768 [==============================] - 8s 10ms/step - loss: 0.2234 - accuracy: 0.9214 - val_loss: 0.2459 - val_accuracy: 0.9076\n",
      "Epoch 34/60\n",
      "768/768 [==============================] - 8s 11ms/step - loss: 0.2201 - accuracy: 0.9213 - val_loss: 0.2473 - val_accuracy: 0.9083\n",
      "Epoch 35/60\n",
      "768/768 [==============================] - 8s 11ms/step - loss: 0.2204 - accuracy: 0.9216 - val_loss: 0.2385 - val_accuracy: 0.9135\n",
      "Epoch 36/60\n",
      "768/768 [==============================] - 8s 10ms/step - loss: 0.2220 - accuracy: 0.9224 - val_loss: 0.2533 - val_accuracy: 0.9077\n",
      "Epoch 37/60\n",
      "768/768 [==============================] - 8s 11ms/step - loss: 0.2176 - accuracy: 0.9241 - val_loss: 0.2425 - val_accuracy: 0.9139\n",
      "Epoch 38/60\n",
      "768/768 [==============================] - 8s 11ms/step - loss: 0.2162 - accuracy: 0.9246 - val_loss: 0.2431 - val_accuracy: 0.9093\n",
      "Epoch 39/60\n",
      "768/768 [==============================] - 8s 11ms/step - loss: 0.2177 - accuracy: 0.9232 - val_loss: 0.2415 - val_accuracy: 0.9146\n",
      "Epoch 40/60\n",
      "768/768 [==============================] - 9s 11ms/step - loss: 0.2176 - accuracy: 0.9230 - val_loss: 0.2451 - val_accuracy: 0.9150\n",
      "Epoch 41/60\n",
      "768/768 [==============================] - 8s 10ms/step - loss: 0.2137 - accuracy: 0.9245 - val_loss: 0.2374 - val_accuracy: 0.9171\n",
      "Epoch 42/60\n",
      "768/768 [==============================] - 8s 10ms/step - loss: 0.2151 - accuracy: 0.9245 - val_loss: 0.2355 - val_accuracy: 0.9171\n",
      "Epoch 43/60\n",
      "768/768 [==============================] - 9s 12ms/step - loss: 0.2131 - accuracy: 0.9257 - val_loss: 0.2367 - val_accuracy: 0.9134\n",
      "Epoch 44/60\n",
      "768/768 [==============================] - 9s 12ms/step - loss: 0.2150 - accuracy: 0.9251 - val_loss: 0.2441 - val_accuracy: 0.9123\n",
      "Epoch 45/60\n",
      "768/768 [==============================] - 8s 11ms/step - loss: 0.2142 - accuracy: 0.9261 - val_loss: 0.2406 - val_accuracy: 0.9137\n",
      "Epoch 46/60\n",
      "768/768 [==============================] - 9s 11ms/step - loss: 0.2114 - accuracy: 0.9268 - val_loss: 0.2343 - val_accuracy: 0.9169\n",
      "Epoch 47/60\n",
      "768/768 [==============================] - 8s 10ms/step - loss: 0.2106 - accuracy: 0.9281 - val_loss: 0.2304 - val_accuracy: 0.9186\n",
      "Epoch 48/60\n",
      "768/768 [==============================] - 8s 11ms/step - loss: 0.2102 - accuracy: 0.9266 - val_loss: 0.2465 - val_accuracy: 0.9041\n",
      "Epoch 49/60\n",
      "768/768 [==============================] - 9s 11ms/step - loss: 0.2097 - accuracy: 0.9279 - val_loss: 0.2399 - val_accuracy: 0.9135\n",
      "Epoch 50/60\n",
      "768/768 [==============================] - 8s 11ms/step - loss: 0.2094 - accuracy: 0.9277 - val_loss: 0.2388 - val_accuracy: 0.9140\n"
     ]
    },
    {
     "name": "stdout",
     "output_type": "stream",
     "text": [
      "Epoch 51/60\n",
      "768/768 [==============================] - 7s 9ms/step - loss: 0.2074 - accuracy: 0.9291 - val_loss: 0.2384 - val_accuracy: 0.9150\n",
      "Epoch 52/60\n",
      "768/768 [==============================] - 7s 10ms/step - loss: 0.2072 - accuracy: 0.9286 - val_loss: 0.2460 - val_accuracy: 0.9144\n",
      "Epoch 53/60\n",
      "768/768 [==============================] - 7s 9ms/step - loss: 0.2060 - accuracy: 0.9296 - val_loss: 0.2294 - val_accuracy: 0.9180\n",
      "Epoch 54/60\n",
      "768/768 [==============================] - 7s 9ms/step - loss: 0.2066 - accuracy: 0.9290 - val_loss: 0.2385 - val_accuracy: 0.9201\n",
      "Epoch 55/60\n",
      "768/768 [==============================] - 7s 9ms/step - loss: 0.2059 - accuracy: 0.9305 - val_loss: 0.2315 - val_accuracy: 0.9178\n",
      "Epoch 56/60\n",
      "768/768 [==============================] - 7s 9ms/step - loss: 0.2032 - accuracy: 0.9303 - val_loss: 0.2423 - val_accuracy: 0.9166\n",
      "Epoch 57/60\n",
      "768/768 [==============================] - 7s 10ms/step - loss: 0.2029 - accuracy: 0.9308 - val_loss: 0.2375 - val_accuracy: 0.9221\n",
      "Epoch 58/60\n",
      "768/768 [==============================] - 7s 10ms/step - loss: 0.2036 - accuracy: 0.9311 - val_loss: 0.2323 - val_accuracy: 0.9233\n",
      "Epoch 59/60\n",
      "768/768 [==============================] - 7s 9ms/step - loss: 0.2023 - accuracy: 0.9317 - val_loss: 0.2405 - val_accuracy: 0.9199\n",
      "Epoch 60/60\n",
      "768/768 [==============================] - 8s 10ms/step - loss: 0.2009 - accuracy: 0.9312 - val_loss: 0.2350 - val_accuracy: 0.9227\n"
     ]
    },
    {
     "data": {
      "image/png": "[encoded data removed]",
      "text/plain": [
       "<Figure size 432x288 with 1 Axes>"
      ]
     },
     "metadata": {
      "needs_background": "light"
     },
     "output_type": "display_data"
    },
    {
     "data": {
      "image/png": "[encoded data removed]",
      "text/plain": [
       "<Figure size 432x288 with 1 Axes>"
      ]
     },
     "metadata": {
      "needs_background": "light"
     },
     "output_type": "display_data"
    }
   ],
   "source": [
    "#Trainning of the network\n",
    "plotmodel(trainmodel(createmodel(L,hidden_layers), opt, x_train, y_train,\n",
    "           epochs=60, batch_size=50, validation_data= (x_test, y_test)))"
   ]
  },
  {
   "cell_type": "markdown",
   "metadata": {},
   "source": [
    "3. Implement a “grid search” as shown in NB11 to improve one or more of the aspects or\n",
    "parameters of the model. Possible tests include: different activation units (sigmoid, relu, elu,\n",
    "etc.), different minimization algorithms (ADAM, RMSprop, Nesterov, etc.), different\n",
    "dropouts, etc."
   ]
  },
  {
   "cell_type": "markdown",
   "metadata": {},
   "source": [
    "4. See if any rescaling of data may improve the results. For instance one may use [-0.5,+0.5]\n",
    "instead of [0,1] for every bit of x[n]."
   ]
  },
  {
   "cell_type": "code",
   "execution_count": null,
   "metadata": {},
   "outputs": [],
   "source": []
  },
  {
   "cell_type": "code",
   "execution_count": null,
   "metadata": {},
   "outputs": [],
   "source": []
  }
 ],
 "metadata": {
  "kernelspec": {
   "display_name": "Python [conda env:tf]",
   "language": "python",
   "name": "conda-env-tf-py"
  },
  "language_info": {
   "codemirror_mode": {
    "name": "ipython",
    "version": 3
   },
   "file_extension": ".py",
   "mimetype": "text/x-python",
   "name": "python",
   "nbconvert_exporter": "python",
   "pygments_lexer": "ipython3",
   "version": "3.8.5"
  }
 },
 "nbformat": 4,
 "nbformat_minor": 4
}
