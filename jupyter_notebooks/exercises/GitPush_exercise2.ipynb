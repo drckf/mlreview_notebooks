{
 "cells": [
  {
   "cell_type": "markdown",
   "metadata": {},
   "source": [
    "## LCPB 20-21 exercise 2\n",
    "\n",
    "### Saverio Monaco\n",
    "\n",
    "### Gerardo Carmona\n",
    "\n",
    "### Hilario Capettini"
   ]
  },
  {
   "cell_type": "markdown",
   "metadata": {},
   "source": [
    "0. Preparation"
   ]
  },
  {
   "cell_type": "code",
   "execution_count": 1,
   "metadata": {},
   "outputs": [],
   "source": [
    "import numpy as np\n",
    "import matplotlib.pyplot as plt\n",
    "from mpl_toolkits import mplot3d\n",
    "import matplotlib.pyplot as plt\n",
    "from keras.models import Sequential\n",
    "from keras.layers import Dense, Dropout\n",
    "from keras.optimizers import SGD\n",
    "import time\n",
    "import math"
   ]
  },
  {
   "cell_type": "code",
   "execution_count": 2,
   "metadata": {},
   "outputs": [
    {
     "name": "stdout",
     "output_type": "stream",
     "text": [
      "Size of the sequences:    16\n",
      "Size of the data:         3000\n",
      "Size of the training set: 2400\n",
      "Size of the test set:     600\n"
     ]
    }
   ],
   "source": [
    "fname = \"DATA/sequences16.csv\"\n",
    "sx, sy = np.loadtxt(fname,delimiter=',',\n",
    "                   usecols=(0,1), unpack=True, dtype=str)\n",
    "N = len(sy)\n",
    "\n",
    "Ls = len(sx[0])\n",
    "\n",
    "\n",
    "perc_train = 0.8 # I kept the same train-test ratio as in the lesson\n",
    "N_train = int(N*perc_train)\n",
    "N_test = N - N_train\n",
    "\n",
    "print('Size of the sequences:   ',Ls)\n",
    "print('Size of the data:        ',N)\n",
    "print('Size of the training set:',N_train)\n",
    "print('Size of the test set:    ',N_test)\n"
   ]
  },
  {
   "cell_type": "code",
   "execution_count": 3,
   "metadata": {},
   "outputs": [
    {
     "name": "stdout",
     "output_type": "stream",
     "text": [
      "AAGGTCTGCCGGCCGA 1\n",
      "CCTCCCTTATGGGGGA 0\n",
      "TCTCTCGGAACTGTCA 0\n",
      "GTTAAACGTTACATCT 0\n",
      "TTAAATGCTGCTGATC 1\n",
      "ATGGAACGAGACGCCG 1\n",
      "AGGCCAAATGAGGATA 1\n",
      "CGAGTACACTTAGGCC 0\n",
      "GAAATAAATCTTATAG 0\n",
      "AATGTAGATATGGAGT 0\n"
     ]
    }
   ],
   "source": [
    "# Just printing some datas to check it\n",
    "# I noticed this isn't the same rule in the lessons, so it is unkown\n",
    "for _ in range(10):\n",
    "    print(sx[_],sy[_])\n"
   ]
  },
  {
   "cell_type": "code",
   "execution_count": 4,
   "metadata": {
    "scrolled": true
   },
   "outputs": [
    {
     "name": "stdout",
     "output_type": "stream",
     "text": [
      "1 <class 'numpy.str_'>\n",
      "1 <class 'numpy.int64'>\n"
     ]
    }
   ],
   "source": [
    "# Converting the label set to int values:\n",
    "print(sy[0],type(sy[0]))\n",
    "y = sy.astype(int)\n",
    "print(y[0],type(y[0]))"
   ]
  },
  {
   "cell_type": "code",
   "execution_count": 5,
   "metadata": {},
   "outputs": [
    {
     "name": "stdout",
     "output_type": "stream",
     "text": [
      "AAGGTCTGCCGGCCGA\n",
      "[1. 0. 0. 0. 1. 0. 0. 0. 0. 0. 1. 0. 0. 0. 1. 0. 0. 0. 0. 1. 0. 1. 0. 0.\n",
      " 0. 0. 0. 1. 0. 0. 1. 0. 0. 1. 0. 0. 0. 1. 0. 0. 0. 0. 1. 0. 0. 0. 1. 0.\n",
      " 0. 1. 0. 0. 0. 1. 0. 0. 0. 0. 1. 0. 1. 0. 0. 0.]\n"
     ]
    }
   ],
   "source": [
    "# Letters and number of letters\n",
    "Q = ['A', 'C', 'G', 'T']\n",
    "Nc = 4\n",
    "\n",
    "# building the dictionary\n",
    "onehc = {Q[i]: i for i in range (Nc)}\n",
    "\n",
    "L = Ls * Nc # lenght of the input array (64)\n",
    "\n",
    "# The following cycle will transform the input vectors (for ex.: AAGGTCTGCCGGCCGA) in a\n",
    "# binary like way\n",
    "#\n",
    "# A = 1000\n",
    "# C = 0100\n",
    "# G = 0010\n",
    "# T = 0001\n",
    "#\n",
    "#   A    A    G    G    T    C   ...\n",
    "# 1000 1000 0010 0010 0001 0100\n",
    "x = np.zeros((N,L))\n",
    "for n in range(N): #for all the samples\n",
    "    for i in range(Ls): # for every character\n",
    "        x[n][i*4 + onehc[sx[n][i]]] = 1\n",
    "        \n",
    "print(sx[0])\n",
    "print(x[0])"
   ]
  },
  {
   "cell_type": "code",
   "execution_count": 6,
   "metadata": {},
   "outputs": [
    {
     "name": "stdout",
     "output_type": "stream",
     "text": [
      "0.24333333333333335\n",
      "0.25833333333333336\n"
     ]
    }
   ],
   "source": [
    "(x_train, y_train) = (x[:N_train],y[:N_train])\n",
    "(x_test, y_test) = (x[N_train:],y[N_train:])\n",
    "\n",
    "# Check the fraction of datas equal to one\n",
    "print(y_train.sum() / N_train)\n",
    "print(y_test.sum() / N_test)"
   ]
  },
  {
   "cell_type": "markdown",
   "metadata": {},
   "source": [
    "1. Is the model converging with a smaller database of samples with longer sequences? By converging we mean reducing significantly the validation loss function."
   ]
  },
  {
   "cell_type": "code",
   "execution_count": 7,
   "metadata": {
    "scrolled": true
   },
   "outputs": [],
   "source": [
    "# I MADE THE SAME TRAINING IMPLEMENTING 3 FUNCTIONS\n",
    "# layer_i is an array representing a hidden layer used to create a neural network:\n",
    "# layer_i = [nodes, activation, dropout_ratio]\n",
    "# hidden_layers is a array of the hidden layers\n",
    "layer_1 = [L/2, 'relu', 0]\n",
    "layer_2 = [L/4, 'relu', .2]\n",
    "hidden_layers = [layer_1,layer_2]\n",
    "\n",
    "# optimization chosen\n",
    "opt = SGD(learning_rate=0.01, momentum=0.9, nesterov= True)\n",
    "\n",
    "# the first function creates the Neural Network, it needs the input dimension and the array of layers\n",
    "def createmodel(input_dim, hid_layers,activation = None, dropout = None):\n",
    "    model = Sequential()\n",
    "    \n",
    "    # we add the first layer (input layer)\n",
    "    model.add(Dense(input_dim, input_shape=(input_dim,)))\n",
    "    \n",
    "    # we add the hidden layers\n",
    "    for layer in hid_layers:\n",
    "        act = activation or layer[1]\n",
    "        model.add(Dense(layer[0],activation=act))\n",
    "        drop = dropout or layer[2]\n",
    "        if drop: model.add(Dropout(drop))\n",
    "    \n",
    "    # we add the output layer\n",
    "    model.add(Dense(1,activation='sigmoid'))\n",
    "    print(model.summary())\n",
    "    \n",
    "    return model\n",
    "\n",
    "# the second function trains the model created with createmodel, as a input it needs the output of createmodels\n",
    "# the optimization and the arguments of model.fit() (except for shuffle)\n",
    "def trainmodel(model, opt, *args, **kwargs):\n",
    "    model.compile(loss='binary_crossentropy',\n",
    "                  optimizer=opt,\n",
    "                  metrics=['accuracy'])\n",
    "\n",
    "    fit = model.fit(*args, **kwargs, shuffle = True)\n",
    "    '''fit = model.fit(x_train, y_train,\n",
    "                    epochs = 60, batch_size = 50,\n",
    "                    validation_data = (x_test,y_test),\n",
    "                    shuffle = True)'''\n",
    "    \n",
    "    return fit\n",
    "\n",
    "def createmodel_noprint(input_dim, hidden_layers):\n",
    "    model = Sequential()\n",
    "    \n",
    "    # we add the first layer (input layer)\n",
    "    model.add(Dense(input_dim, input_shape=(input_dim,)))\n",
    "    \n",
    "    # we add the hidden layers\n",
    "    for layer in hidden_layers:\n",
    "        model.add(Dense(layer[0],activation=layer[1]))\n",
    "        if layer[2]:\n",
    "            model.add(Dropout(layer[2]))\n",
    "    \n",
    "    # we add the output layer\n",
    "    model.add(Dense(1,activation='sigmoid'))\n",
    "    #print(model.summary())\n",
    "    \n",
    "    return model\n",
    "\n",
    "def trainmodel_noprint(model, opt, *args, **kwargs):\n",
    "    model.compile(loss='binary_crossentropy',\n",
    "                  optimizer=opt,\n",
    "                  metrics=['accuracy'])\n",
    "\n",
    "    fit = model.fit(*args, **kwargs, shuffle = True, verbose = 0)\n",
    "    '''fit = model.fit(x_train, y_train,\n",
    "                    epochs = 60, batch_size = 50,\n",
    "                    validation_data = (x_test,y_test),\n",
    "                    shuffle = True)'''\n",
    "    \n",
    "    return fit\n",
    "\n",
    "# the third function takes the output of trainmodel and plot the loss of training data and test data\n",
    "def plotmodel(fit):\n",
    "    for obs in ('accuracy', 'loss'):\n",
    "        plt.figure(figsize=(6,4))\n",
    "        plt.plot(fit.history[obs], 'r', label = obs + ' of training data')\n",
    "        plt.plot(fit.history['val_'+obs], 'b--', label = obs + ' of test data')\n",
    "        plt.ylabel(obs)\n",
    "        plt.xlabel('Epochs')\n",
    "        plt.legend()\n",
    "        plt.show()\n",
    "        "
   ]
  },
  {
   "cell_type": "code",
   "execution_count": 8,
   "metadata": {
    "scrolled": true
   },
   "outputs": [
    {
     "name": "stdout",
     "output_type": "stream",
     "text": [
      "Model: \"sequential\"\n",
      "_________________________________________________________________\n",
      "Layer (type)                 Output Shape              Param #   \n",
      "=================================================================\n",
      "dense (Dense)                (None, 64)                4160      \n",
      "_________________________________________________________________\n",
      "dense_1 (Dense)              (None, 32)                2080      \n",
      "_________________________________________________________________\n",
      "dense_2 (Dense)              (None, 16)                528       \n",
      "_________________________________________________________________\n",
      "dropout (Dropout)            (None, 16)                0         \n",
      "_________________________________________________________________\n",
      "dense_3 (Dense)              (None, 1)                 17        \n",
      "=================================================================\n",
      "Total params: 6,785\n",
      "Trainable params: 6,785\n",
      "Non-trainable params: 0\n",
      "_________________________________________________________________\n",
      "None\n",
      "Epoch 1/60\n",
      "48/48 [==============================] - 1s 13ms/step - loss: 0.5844 - accuracy: 0.7267 - val_loss: 0.5623 - val_accuracy: 0.7417\n",
      "Epoch 2/60\n",
      "48/48 [==============================] - 0s 7ms/step - loss: 0.5348 - accuracy: 0.7567 - val_loss: 0.5449 - val_accuracy: 0.7417\n",
      "Epoch 3/60\n",
      "48/48 [==============================] - 0s 8ms/step - loss: 0.5091 - accuracy: 0.7575 - val_loss: 0.5291 - val_accuracy: 0.7433\n",
      "Epoch 4/60\n",
      "48/48 [==============================] - 0s 6ms/step - loss: 0.4948 - accuracy: 0.7604 - val_loss: 0.5083 - val_accuracy: 0.7500\n",
      "Epoch 5/60\n",
      "48/48 [==============================] - 0s 7ms/step - loss: 0.4743 - accuracy: 0.7688 - val_loss: 0.5030 - val_accuracy: 0.7483\n",
      "Epoch 6/60\n",
      "48/48 [==============================] - 0s 5ms/step - loss: 0.4682 - accuracy: 0.7733 - val_loss: 0.4954 - val_accuracy: 0.7633\n",
      "Epoch 7/60\n",
      "48/48 [==============================] - 0s 6ms/step - loss: 0.4586 - accuracy: 0.7804 - val_loss: 0.4925 - val_accuracy: 0.7567\n",
      "Epoch 8/60\n",
      "48/48 [==============================] - 0s 6ms/step - loss: 0.4564 - accuracy: 0.7788 - val_loss: 0.4904 - val_accuracy: 0.7533\n",
      "Epoch 9/60\n",
      "48/48 [==============================] - 0s 7ms/step - loss: 0.4442 - accuracy: 0.7842 - val_loss: 0.4879 - val_accuracy: 0.7467\n",
      "Epoch 10/60\n",
      "48/48 [==============================] - 0s 8ms/step - loss: 0.4347 - accuracy: 0.7942 - val_loss: 0.4914 - val_accuracy: 0.7417\n",
      "Epoch 11/60\n",
      "48/48 [==============================] - 0s 6ms/step - loss: 0.4298 - accuracy: 0.7962 - val_loss: 0.4928 - val_accuracy: 0.7583\n",
      "Epoch 12/60\n",
      "48/48 [==============================] - 0s 6ms/step - loss: 0.4172 - accuracy: 0.8008 - val_loss: 0.4874 - val_accuracy: 0.7483\n",
      "Epoch 13/60\n",
      "48/48 [==============================] - 0s 6ms/step - loss: 0.4112 - accuracy: 0.8104 - val_loss: 0.4914 - val_accuracy: 0.7467\n",
      "Epoch 14/60\n",
      "48/48 [==============================] - 0s 5ms/step - loss: 0.3960 - accuracy: 0.8138 - val_loss: 0.5111 - val_accuracy: 0.7367\n",
      "Epoch 15/60\n",
      "48/48 [==============================] - 0s 7ms/step - loss: 0.3880 - accuracy: 0.8117 - val_loss: 0.4938 - val_accuracy: 0.7550\n",
      "Epoch 16/60\n",
      "48/48 [==============================] - 0s 7ms/step - loss: 0.3722 - accuracy: 0.8271 - val_loss: 0.4804 - val_accuracy: 0.7600\n",
      "Epoch 17/60\n",
      "48/48 [==============================] - 0s 5ms/step - loss: 0.3648 - accuracy: 0.8338 - val_loss: 0.4794 - val_accuracy: 0.7517\n",
      "Epoch 18/60\n",
      "48/48 [==============================] - 0s 7ms/step - loss: 0.3466 - accuracy: 0.8367 - val_loss: 0.4765 - val_accuracy: 0.7550\n",
      "Epoch 19/60\n",
      "48/48 [==============================] - 0s 7ms/step - loss: 0.3279 - accuracy: 0.8471 - val_loss: 0.4662 - val_accuracy: 0.7550\n",
      "Epoch 20/60\n",
      "48/48 [==============================] - 0s 5ms/step - loss: 0.3261 - accuracy: 0.8571 - val_loss: 0.4826 - val_accuracy: 0.7583\n",
      "Epoch 21/60\n",
      "48/48 [==============================] - 1s 10ms/step - loss: 0.3048 - accuracy: 0.8604 - val_loss: 0.4708 - val_accuracy: 0.7733\n",
      "Epoch 22/60\n",
      "48/48 [==============================] - 0s 5ms/step - loss: 0.2875 - accuracy: 0.8737 - val_loss: 0.4693 - val_accuracy: 0.7750\n",
      "Epoch 23/60\n",
      "48/48 [==============================] - 0s 6ms/step - loss: 0.2828 - accuracy: 0.8758 - val_loss: 0.4570 - val_accuracy: 0.7733\n",
      "Epoch 24/60\n",
      "48/48 [==============================] - 0s 4ms/step - loss: 0.2686 - accuracy: 0.8829 - val_loss: 0.4736 - val_accuracy: 0.7700\n",
      "Epoch 25/60\n",
      "48/48 [==============================] - 0s 6ms/step - loss: 0.2442 - accuracy: 0.9008 - val_loss: 0.4837 - val_accuracy: 0.7733\n",
      "Epoch 26/60\n",
      "48/48 [==============================] - 0s 8ms/step - loss: 0.2338 - accuracy: 0.8975 - val_loss: 0.5059 - val_accuracy: 0.7800\n",
      "Epoch 27/60\n",
      "48/48 [==============================] - 0s 7ms/step - loss: 0.2357 - accuracy: 0.9025 - val_loss: 0.4941 - val_accuracy: 0.7783\n",
      "Epoch 28/60\n",
      "48/48 [==============================] - 0s 9ms/step - loss: 0.2157 - accuracy: 0.9121 - val_loss: 0.4922 - val_accuracy: 0.7917\n",
      "Epoch 29/60\n",
      "48/48 [==============================] - 0s 7ms/step - loss: 0.2068 - accuracy: 0.9154 - val_loss: 0.4916 - val_accuracy: 0.7867\n",
      "Epoch 30/60\n",
      "48/48 [==============================] - 0s 9ms/step - loss: 0.1932 - accuracy: 0.9208 - val_loss: 0.5038 - val_accuracy: 0.7833\n",
      "Epoch 31/60\n",
      "48/48 [==============================] - 0s 5ms/step - loss: 0.1887 - accuracy: 0.9233 - val_loss: 0.5260 - val_accuracy: 0.7900\n",
      "Epoch 32/60\n",
      "48/48 [==============================] - 0s 10ms/step - loss: 0.1667 - accuracy: 0.9367 - val_loss: 0.5293 - val_accuracy: 0.7900\n",
      "Epoch 33/60\n",
      "48/48 [==============================] - 0s 7ms/step - loss: 0.1639 - accuracy: 0.9417 - val_loss: 0.5171 - val_accuracy: 0.7883\n",
      "Epoch 34/60\n",
      "48/48 [==============================] - 0s 5ms/step - loss: 0.1579 - accuracy: 0.9367 - val_loss: 0.5356 - val_accuracy: 0.7817\n",
      "Epoch 35/60\n",
      "48/48 [==============================] - 0s 10ms/step - loss: 0.1402 - accuracy: 0.9479 - val_loss: 0.5872 - val_accuracy: 0.7900\n",
      "Epoch 36/60\n",
      "48/48 [==============================] - 0s 5ms/step - loss: 0.1358 - accuracy: 0.9479 - val_loss: 0.5818 - val_accuracy: 0.7917\n",
      "Epoch 37/60\n",
      "48/48 [==============================] - 0s 4ms/step - loss: 0.1462 - accuracy: 0.9413 - val_loss: 0.6859 - val_accuracy: 0.7817\n",
      "Epoch 38/60\n",
      "48/48 [==============================] - 0s 4ms/step - loss: 0.1248 - accuracy: 0.9533 - val_loss: 0.6151 - val_accuracy: 0.7850\n",
      "Epoch 39/60\n",
      "48/48 [==============================] - 0s 5ms/step - loss: 0.1212 - accuracy: 0.9600 - val_loss: 0.6215 - val_accuracy: 0.7883\n",
      "Epoch 40/60\n",
      "48/48 [==============================] - 1s 11ms/step - loss: 0.1093 - accuracy: 0.9571 - val_loss: 0.6676 - val_accuracy: 0.7983\n",
      "Epoch 41/60\n",
      "48/48 [==============================] - 0s 5ms/step - loss: 0.1140 - accuracy: 0.9563 - val_loss: 0.6607 - val_accuracy: 0.7817\n",
      "Epoch 42/60\n",
      "48/48 [==============================] - 0s 5ms/step - loss: 0.0971 - accuracy: 0.9600 - val_loss: 0.6538 - val_accuracy: 0.7800\n",
      "Epoch 43/60\n",
      "48/48 [==============================] - 0s 7ms/step - loss: 0.0838 - accuracy: 0.9688 - val_loss: 0.7111 - val_accuracy: 0.7883\n",
      "Epoch 44/60\n",
      "48/48 [==============================] - 0s 7ms/step - loss: 0.0949 - accuracy: 0.9654 - val_loss: 0.7011 - val_accuracy: 0.7983\n",
      "Epoch 45/60\n",
      "48/48 [==============================] - 0s 7ms/step - loss: 0.0950 - accuracy: 0.9642 - val_loss: 0.7420 - val_accuracy: 0.8050\n",
      "Epoch 46/60\n",
      "48/48 [==============================] - 0s 8ms/step - loss: 0.0820 - accuracy: 0.9675 - val_loss: 0.7498 - val_accuracy: 0.7967\n",
      "Epoch 47/60\n",
      "48/48 [==============================] - 1s 11ms/step - loss: 0.0833 - accuracy: 0.9675 - val_loss: 0.7751 - val_accuracy: 0.7833\n",
      "Epoch 48/60\n",
      "48/48 [==============================] - 0s 9ms/step - loss: 0.0667 - accuracy: 0.9775 - val_loss: 0.8023 - val_accuracy: 0.7800\n",
      "Epoch 49/60\n",
      "48/48 [==============================] - 0s 6ms/step - loss: 0.0711 - accuracy: 0.9733 - val_loss: 0.8138 - val_accuracy: 0.7733\n",
      "Epoch 50/60\n",
      "48/48 [==============================] - 0s 6ms/step - loss: 0.0626 - accuracy: 0.9808 - val_loss: 0.7875 - val_accuracy: 0.8017\n",
      "Epoch 51/60\n",
      "48/48 [==============================] - 0s 7ms/step - loss: 0.0606 - accuracy: 0.9796 - val_loss: 0.8356 - val_accuracy: 0.7917\n"
     ]
    },
    {
     "name": "stdout",
     "output_type": "stream",
     "text": [
      "Epoch 52/60\n",
      "48/48 [==============================] - 0s 10ms/step - loss: 0.0643 - accuracy: 0.9779 - val_loss: 0.8462 - val_accuracy: 0.7883\n",
      "Epoch 53/60\n",
      "48/48 [==============================] - 0s 7ms/step - loss: 0.0484 - accuracy: 0.9854 - val_loss: 0.9051 - val_accuracy: 0.7750\n",
      "Epoch 54/60\n",
      "48/48 [==============================] - 0s 6ms/step - loss: 0.0448 - accuracy: 0.9875 - val_loss: 0.8735 - val_accuracy: 0.8033\n",
      "Epoch 55/60\n",
      "48/48 [==============================] - 0s 9ms/step - loss: 0.0628 - accuracy: 0.9750 - val_loss: 0.8672 - val_accuracy: 0.7917\n",
      "Epoch 56/60\n",
      "48/48 [==============================] - 0s 5ms/step - loss: 0.0532 - accuracy: 0.9800 - val_loss: 0.9477 - val_accuracy: 0.7850\n",
      "Epoch 57/60\n",
      "48/48 [==============================] - 0s 4ms/step - loss: 0.0501 - accuracy: 0.9842 - val_loss: 0.9176 - val_accuracy: 0.7933\n",
      "Epoch 58/60\n",
      "48/48 [==============================] - 0s 5ms/step - loss: 0.0501 - accuracy: 0.9821 - val_loss: 0.9327 - val_accuracy: 0.7950\n",
      "Epoch 59/60\n",
      "48/48 [==============================] - 0s 5ms/step - loss: 0.0464 - accuracy: 0.9862 - val_loss: 1.0133 - val_accuracy: 0.7933\n",
      "Epoch 60/60\n",
      "48/48 [==============================] - 0s 9ms/step - loss: 0.0423 - accuracy: 0.9850 - val_loss: 1.0775 - val_accuracy: 0.7700\n"
     ]
    }
   ],
   "source": [
    "#Define the model\n",
    "model = createmodel(L,hidden_layers)\n",
    "\n",
    "#Train the NN\n",
    "training = trainmodel(model, opt, x_train, y_train,\n",
    "          epochs=60, batch_size=50, validation_data= (x_test, y_test))\n"
   ]
  },
  {
   "cell_type": "code",
   "execution_count": 9,
   "metadata": {},
   "outputs": [
    {
     "name": "stdout",
     "output_type": "stream",
     "text": [
      "19/19 [==============================] - 0s 4ms/step - loss: 1.0775 - accuracy: 0.7700\n",
      "\n",
      "Test loss: 1.077470064163208\n",
      "Test accuracy: 0.7699999809265137\n"
     ]
    },
    {
     "data": {
      "image/png": "[encoded data removed]",
      "text/plain": [
       "<Figure size 432x288 with 1 Axes>"
      ]
     },
     "metadata": {
      "needs_background": "light"
     },
     "output_type": "display_data"
    },
    {
     "data": {
      "image/png": "[encoded data removed]",
      "text/plain": [
       "<Figure size 432x288 with 1 Axes>"
      ]
     },
     "metadata": {
      "needs_background": "light"
     },
     "output_type": "display_data"
    }
   ],
   "source": [
    "# evaluate model\n",
    "score = model.evaluate(x_test, y_test, verbose=1)\n",
    "\n",
    "# print performance\n",
    "print()\n",
    "print('Test loss:', score[0])\n",
    "print('Test accuracy:', score[1])\n",
    "\n",
    "plotmodel(training)"
   ]
  },
  {
   "cell_type": "markdown",
   "metadata": {},
   "source": [
    "2. Try to improve the performance of the DNN over the validation data set by “augmenting”\n",
    "the training data: For every sample there are L s -1 periodic shifts of the kind\n",
    "AAACCCTTTGGG→ GAAACCCTTTGG → GGAAACCCTTTG→ etc.\n",
    "We know that they can break the keys and provide a sample x’[n] with wrong label y[n]\n",
    "(which is the label of original sample x[n]), but they also enlarge the number of good\n",
    "samples for the DNN. Which of the two effects is prevalent?\n",
    "Is the situation improving by augmenting the training data from N t real samples to L s *N t ones with this procedure?"
   ]
  },
  {
   "cell_type": "code",
   "execution_count": 10,
   "metadata": {},
   "outputs": [],
   "source": [
    "#This function produces the permutations\n",
    "rot = lambda A: [A[i:]+A[:i] for i in range(len(A))]"
   ]
  },
  {
   "cell_type": "code",
   "execution_count": 11,
   "metadata": {
    "scrolled": true
   },
   "outputs": [],
   "source": [
    "#Generate the augmented data\n",
    "sxx = []\n",
    "syy = np.zeros(len(sx)*Ls)\n",
    "for i in range(len(sx)):\n",
    "    sxx= np.append(sxx,rot(sx[i]))\n",
    "    syy[i*Ls:(i+1)*Ls] = sy[i]\n",
    "syy = syy.astype(int)\n",
    "\n",
    "#Now we permutate the samples \n",
    "permutation = np.random.permutation(sxx.shape[0])\n",
    "\n",
    "sxx = sxx[permutation] \n",
    "syy = syy[permutation]"
   ]
  },
  {
   "cell_type": "code",
   "execution_count": 12,
   "metadata": {},
   "outputs": [
    {
     "name": "stdout",
     "output_type": "stream",
     "text": [
      "Size of the sequences:    16\n",
      "Size of the data:         48000\n",
      "Size of the training set: 38400\n",
      "Size of the test set:     9600\n"
     ]
    }
   ],
   "source": [
    "N = len(syy)\n",
    "\n",
    "Ls = len(sxx[0])\n",
    "\n",
    "perc_train = 0.8 # I kept the same train-test ratio as in the lesson\n",
    "N_train = int(N*perc_train)\n",
    "N_test = N - N_train\n",
    "\n",
    "print('Size of the sequences:   ',Ls)\n",
    "print('Size of the data:        ',N)\n",
    "print('Size of the training set:',N_train)\n",
    "print('Size of the test set:    ',N_test)"
   ]
  },
  {
   "cell_type": "code",
   "execution_count": 13,
   "metadata": {},
   "outputs": [
    {
     "name": "stdout",
     "output_type": "stream",
     "text": [
      "CTCTGAGGTCAGCGCC\n",
      "[0. 1. 0. 0. 0. 0. 0. 1. 0. 1. 0. 0. 0. 0. 0. 1. 0. 0. 1. 0. 1. 0. 0. 0.\n",
      " 0. 0. 1. 0. 0. 0. 1. 0. 0. 0. 0. 1. 0. 1. 0. 0. 1. 0. 0. 0. 0. 0. 1. 0.\n",
      " 0. 1. 0. 0. 0. 0. 1. 0. 0. 1. 0. 0. 0. 1. 0. 0.]\n"
     ]
    }
   ],
   "source": [
    "y = syy\n",
    "x = np.zeros((N,L))\n",
    "for n in range(N): #for all the samples\n",
    "    for i in range(Ls): # for every character\n",
    "        x[n][i*4 + onehc[sxx[n][i]]] = 1\n",
    "        \n",
    "print(sxx[0])\n",
    "print(x[0])"
   ]
  },
  {
   "cell_type": "code",
   "execution_count": 14,
   "metadata": {},
   "outputs": [
    {
     "name": "stdout",
     "output_type": "stream",
     "text": [
      "0.24690104166666665\n",
      "0.2440625\n"
     ]
    }
   ],
   "source": [
    "(x_train, y_train) = (x[:N_train],y[:N_train])\n",
    "(x_test, y_test) = (x[N_train:],y[N_train:])\n",
    "\n",
    "# Check the fraction of datas equal to one\n",
    "print(y_train.sum() / N_train)\n",
    "print(y_test.sum() / N_test)"
   ]
  },
  {
   "cell_type": "code",
   "execution_count": 15,
   "metadata": {
    "scrolled": false
   },
   "outputs": [
    {
     "name": "stdout",
     "output_type": "stream",
     "text": [
      "Model: \"sequential_1\"\n",
      "_________________________________________________________________\n",
      "Layer (type)                 Output Shape              Param #   \n",
      "=================================================================\n",
      "dense_4 (Dense)              (None, 64)                4160      \n",
      "_________________________________________________________________\n",
      "dense_5 (Dense)              (None, 32)                2080      \n",
      "_________________________________________________________________\n",
      "dense_6 (Dense)              (None, 16)                528       \n",
      "_________________________________________________________________\n",
      "dropout_1 (Dropout)          (None, 16)                0         \n",
      "_________________________________________________________________\n",
      "dense_7 (Dense)              (None, 1)                 17        \n",
      "=================================================================\n",
      "Total params: 6,785\n",
      "Trainable params: 6,785\n",
      "Non-trainable params: 0\n",
      "_________________________________________________________________\n",
      "None\n",
      "Epoch 1/60\n",
      "768/768 [==============================] - 3s 4ms/step - loss: 0.5076 - accuracy: 0.7633 - val_loss: 0.4850 - val_accuracy: 0.7733\n",
      "Epoch 2/60\n",
      "768/768 [==============================] - 4s 5ms/step - loss: 0.4765 - accuracy: 0.7768 - val_loss: 0.4610 - val_accuracy: 0.7840\n",
      "Epoch 3/60\n",
      "768/768 [==============================] - 3s 4ms/step - loss: 0.4511 - accuracy: 0.7898 - val_loss: 0.4374 - val_accuracy: 0.7946\n",
      "Epoch 4/60\n",
      "768/768 [==============================] - 3s 4ms/step - loss: 0.4227 - accuracy: 0.8040 - val_loss: 0.4018 - val_accuracy: 0.8143\n",
      "Epoch 5/60\n",
      "768/768 [==============================] - 3s 4ms/step - loss: 0.3930 - accuracy: 0.8193 - val_loss: 0.3860 - val_accuracy: 0.8211\n",
      "Epoch 6/60\n",
      "768/768 [==============================] - 3s 4ms/step - loss: 0.3706 - accuracy: 0.8330 - val_loss: 0.3687 - val_accuracy: 0.8332\n",
      "Epoch 7/60\n",
      "768/768 [==============================] - 3s 4ms/step - loss: 0.3533 - accuracy: 0.8433 - val_loss: 0.3477 - val_accuracy: 0.8465\n",
      "Epoch 8/60\n",
      "768/768 [==============================] - 3s 4ms/step - loss: 0.3394 - accuracy: 0.8531 - val_loss: 0.3428 - val_accuracy: 0.8483\n",
      "Epoch 9/60\n",
      "768/768 [==============================] - 3s 4ms/step - loss: 0.3307 - accuracy: 0.8574 - val_loss: 0.3384 - val_accuracy: 0.8490\n",
      "Epoch 10/60\n",
      "768/768 [==============================] - 3s 4ms/step - loss: 0.3179 - accuracy: 0.8650 - val_loss: 0.3191 - val_accuracy: 0.8627\n",
      "Epoch 11/60\n",
      "768/768 [==============================] - 3s 4ms/step - loss: 0.3104 - accuracy: 0.8685 - val_loss: 0.3132 - val_accuracy: 0.8656\n",
      "Epoch 12/60\n",
      "768/768 [==============================] - 7s 9ms/step - loss: 0.3031 - accuracy: 0.8740 - val_loss: 0.3114 - val_accuracy: 0.8710\n",
      "Epoch 13/60\n",
      "768/768 [==============================] - 7s 9ms/step - loss: 0.2951 - accuracy: 0.8790 - val_loss: 0.3029 - val_accuracy: 0.8741\n",
      "Epoch 14/60\n",
      "768/768 [==============================] - 6s 8ms/step - loss: 0.2890 - accuracy: 0.8810 - val_loss: 0.2981 - val_accuracy: 0.8754\n",
      "Epoch 15/60\n",
      "768/768 [==============================] - 6s 8ms/step - loss: 0.2849 - accuracy: 0.8853 - val_loss: 0.2936 - val_accuracy: 0.8785\n",
      "Epoch 16/60\n",
      "768/768 [==============================] - 4s 5ms/step - loss: 0.2814 - accuracy: 0.8862 - val_loss: 0.2922 - val_accuracy: 0.8809\n",
      "Epoch 17/60\n",
      "768/768 [==============================] - 3s 4ms/step - loss: 0.2747 - accuracy: 0.8910 - val_loss: 0.2881 - val_accuracy: 0.8848\n",
      "Epoch 18/60\n",
      "768/768 [==============================] - 3s 4ms/step - loss: 0.2731 - accuracy: 0.8921 - val_loss: 0.2838 - val_accuracy: 0.8833\n",
      "Epoch 19/60\n",
      "768/768 [==============================] - 3s 4ms/step - loss: 0.2697 - accuracy: 0.8932 - val_loss: 0.2851 - val_accuracy: 0.8854\n",
      "Epoch 20/60\n",
      "768/768 [==============================] - 3s 4ms/step - loss: 0.2661 - accuracy: 0.8964 - val_loss: 0.2836 - val_accuracy: 0.8863\n",
      "Epoch 21/60\n",
      "768/768 [==============================] - 3s 4ms/step - loss: 0.2633 - accuracy: 0.8978 - val_loss: 0.2726 - val_accuracy: 0.8933\n",
      "Epoch 22/60\n",
      "768/768 [==============================] - 3s 4ms/step - loss: 0.2578 - accuracy: 0.9020 - val_loss: 0.2858 - val_accuracy: 0.8898\n",
      "Epoch 23/60\n",
      "768/768 [==============================] - 3s 4ms/step - loss: 0.2583 - accuracy: 0.9006 - val_loss: 0.2761 - val_accuracy: 0.8927\n",
      "Epoch 24/60\n",
      "768/768 [==============================] - 3s 4ms/step - loss: 0.2524 - accuracy: 0.9030 - val_loss: 0.2908 - val_accuracy: 0.8885\n",
      "Epoch 25/60\n",
      "768/768 [==============================] - 3s 4ms/step - loss: 0.2504 - accuracy: 0.9045 - val_loss: 0.2719 - val_accuracy: 0.8919\n",
      "Epoch 26/60\n",
      "768/768 [==============================] - 3s 4ms/step - loss: 0.2512 - accuracy: 0.9045 - val_loss: 0.2700 - val_accuracy: 0.8954\n",
      "Epoch 27/60\n",
      "768/768 [==============================] - 3s 4ms/step - loss: 0.2462 - accuracy: 0.9084 - val_loss: 0.2762 - val_accuracy: 0.8906\n",
      "Epoch 28/60\n",
      "768/768 [==============================] - 5s 6ms/step - loss: 0.2457 - accuracy: 0.9074 - val_loss: 0.2657 - val_accuracy: 0.8972\n",
      "Epoch 29/60\n",
      "768/768 [==============================] - 5s 7ms/step - loss: 0.2470 - accuracy: 0.9065 - val_loss: 0.2576 - val_accuracy: 0.9020\n",
      "Epoch 30/60\n",
      "768/768 [==============================] - 5s 7ms/step - loss: 0.2406 - accuracy: 0.9099 - val_loss: 0.2591 - val_accuracy: 0.8997\n",
      "Epoch 31/60\n",
      "768/768 [==============================] - 5s 7ms/step - loss: 0.2390 - accuracy: 0.9120 - val_loss: 0.2548 - val_accuracy: 0.9034\n",
      "Epoch 32/60\n",
      "768/768 [==============================] - 5s 7ms/step - loss: 0.2369 - accuracy: 0.9130 - val_loss: 0.2562 - val_accuracy: 0.9010\n",
      "Epoch 33/60\n",
      "768/768 [==============================] - 5s 7ms/step - loss: 0.2360 - accuracy: 0.9137 - val_loss: 0.2573 - val_accuracy: 0.9027\n",
      "Epoch 34/60\n",
      "768/768 [==============================] - 5s 7ms/step - loss: 0.2368 - accuracy: 0.9130 - val_loss: 0.2482 - val_accuracy: 0.9083\n",
      "Epoch 35/60\n",
      "768/768 [==============================] - 5s 6ms/step - loss: 0.2332 - accuracy: 0.9141 - val_loss: 0.2637 - val_accuracy: 0.9031\n",
      "Epoch 36/60\n",
      "768/768 [==============================] - 5s 6ms/step - loss: 0.2349 - accuracy: 0.9127 - val_loss: 0.2548 - val_accuracy: 0.9007\n",
      "Epoch 37/60\n",
      "768/768 [==============================] - 5s 7ms/step - loss: 0.2323 - accuracy: 0.9149 - val_loss: 0.2553 - val_accuracy: 0.9051\n",
      "Epoch 38/60\n",
      "768/768 [==============================] - 5s 7ms/step - loss: 0.2297 - accuracy: 0.9172 - val_loss: 0.2552 - val_accuracy: 0.9067\n",
      "Epoch 39/60\n",
      "768/768 [==============================] - 5s 6ms/step - loss: 0.2313 - accuracy: 0.9158 - val_loss: 0.2466 - val_accuracy: 0.9093\n",
      "Epoch 40/60\n",
      "768/768 [==============================] - 5s 7ms/step - loss: 0.2257 - accuracy: 0.9188 - val_loss: 0.2564 - val_accuracy: 0.9057\n",
      "Epoch 41/60\n",
      "768/768 [==============================] - 5s 6ms/step - loss: 0.2271 - accuracy: 0.9190 - val_loss: 0.2486 - val_accuracy: 0.9075\n",
      "Epoch 42/60\n",
      "768/768 [==============================] - 5s 6ms/step - loss: 0.2248 - accuracy: 0.9199 - val_loss: 0.2418 - val_accuracy: 0.9114\n",
      "Epoch 43/60\n",
      "768/768 [==============================] - 5s 7ms/step - loss: 0.2242 - accuracy: 0.9202 - val_loss: 0.2560 - val_accuracy: 0.9001\n",
      "Epoch 44/60\n",
      "768/768 [==============================] - 5s 7ms/step - loss: 0.2248 - accuracy: 0.9188 - val_loss: 0.2555 - val_accuracy: 0.9032\n",
      "Epoch 45/60\n",
      "768/768 [==============================] - 3s 4ms/step - loss: 0.2227 - accuracy: 0.9197 - val_loss: 0.2413 - val_accuracy: 0.9135\n",
      "Epoch 46/60\n",
      "768/768 [==============================] - 3s 4ms/step - loss: 0.2222 - accuracy: 0.9207 - val_loss: 0.2512 - val_accuracy: 0.9103\n",
      "Epoch 47/60\n",
      "768/768 [==============================] - 3s 4ms/step - loss: 0.2211 - accuracy: 0.9209 - val_loss: 0.2407 - val_accuracy: 0.9155\n",
      "Epoch 48/60\n",
      "768/768 [==============================] - 3s 4ms/step - loss: 0.2205 - accuracy: 0.9203 - val_loss: 0.2426 - val_accuracy: 0.9107\n",
      "Epoch 49/60\n",
      "768/768 [==============================] - 3s 4ms/step - loss: 0.2195 - accuracy: 0.9223 - val_loss: 0.2452 - val_accuracy: 0.9125\n",
      "Epoch 50/60\n",
      "768/768 [==============================] - 3s 4ms/step - loss: 0.2187 - accuracy: 0.9220 - val_loss: 0.2396 - val_accuracy: 0.9150\n",
      "Epoch 51/60\n"
     ]
    },
    {
     "name": "stdout",
     "output_type": "stream",
     "text": [
      "768/768 [==============================] - 3s 4ms/step - loss: 0.2169 - accuracy: 0.9234 - val_loss: 0.2479 - val_accuracy: 0.9135\n",
      "Epoch 52/60\n",
      "768/768 [==============================] - 3s 4ms/step - loss: 0.2166 - accuracy: 0.9240 - val_loss: 0.2460 - val_accuracy: 0.9071\n",
      "Epoch 53/60\n",
      "768/768 [==============================] - 3s 4ms/step - loss: 0.2180 - accuracy: 0.9225 - val_loss: 0.2346 - val_accuracy: 0.9171\n",
      "Epoch 54/60\n",
      "768/768 [==============================] - 3s 4ms/step - loss: 0.2143 - accuracy: 0.9243 - val_loss: 0.2519 - val_accuracy: 0.9128\n",
      "Epoch 55/60\n",
      "768/768 [==============================] - 3s 4ms/step - loss: 0.2144 - accuracy: 0.9236 - val_loss: 0.2456 - val_accuracy: 0.9125\n",
      "Epoch 56/60\n",
      "768/768 [==============================] - 3s 4ms/step - loss: 0.2139 - accuracy: 0.9237 - val_loss: 0.2514 - val_accuracy: 0.9104\n",
      "Epoch 57/60\n",
      "768/768 [==============================] - 3s 4ms/step - loss: 0.2119 - accuracy: 0.9265 - val_loss: 0.2390 - val_accuracy: 0.9137\n",
      "Epoch 58/60\n",
      "768/768 [==============================] - 3s 4ms/step - loss: 0.2143 - accuracy: 0.9251 - val_loss: 0.2304 - val_accuracy: 0.9217\n",
      "Epoch 59/60\n",
      "768/768 [==============================] - 4s 5ms/step - loss: 0.2110 - accuracy: 0.9251 - val_loss: 0.2468 - val_accuracy: 0.9118\n",
      "Epoch 60/60\n",
      "768/768 [==============================] - 3s 4ms/step - loss: 0.2101 - accuracy: 0.9268 - val_loss: 0.2394 - val_accuracy: 0.9126\n"
     ]
    }
   ],
   "source": [
    "#Define the model\n",
    "model = createmodel(L,hidden_layers)\n",
    "\n",
    "#Train the NN\n",
    "training = trainmodel(model, opt, x_train, y_train,\n",
    "          epochs=60, batch_size=50, validation_data= (x_test, y_test))\n"
   ]
  },
  {
   "cell_type": "code",
   "execution_count": 16,
   "metadata": {},
   "outputs": [
    {
     "name": "stdout",
     "output_type": "stream",
     "text": [
      "300/300 [==============================] - 1s 3ms/step - loss: 0.2394 - accuracy: 0.9126\n",
      "\n",
      "Test loss: 0.23937930166721344\n",
      "Test accuracy: 0.9126041531562805\n"
     ]
    },
    {
     "data": {
      "image/png": "[encoded data removed]",
      "text/plain": [
       "<Figure size 432x288 with 1 Axes>"
      ]
     },
     "metadata": {
      "needs_background": "light"
     },
     "output_type": "display_data"
    },
    {
     "data": {
      "image/png": "[encoded data removed]",
      "text/plain": [
       "<Figure size 432x288 with 1 Axes>"
      ]
     },
     "metadata": {
      "needs_background": "light"
     },
     "output_type": "display_data"
    }
   ],
   "source": [
    "# evaluate model\n",
    "score = model.evaluate(x_test, y_test, verbose=1)\n",
    "\n",
    "# print performance\n",
    "print()\n",
    "print('Test loss:', score[0])\n",
    "print('Test accuracy:', score[1])\n",
    "\n",
    "plotmodel(training)"
   ]
  },
  {
   "cell_type": "code",
   "execution_count": 17,
   "metadata": {},
   "outputs": [
    {
     "name": "stdout",
     "output_type": "stream",
     "text": [
      "300/300 [==============================] - 1s 2ms/step - loss: 0.2394 - accuracy: 0.9126\n",
      "\n",
      "Test loss: 0.23937930166721344\n",
      "Test accuracy: 0.9126041531562805\n"
     ]
    },
    {
     "data": {
      "image/png": "[encoded data removed]",
      "text/plain": [
       "<Figure size 432x288 with 1 Axes>"
      ]
     },
     "metadata": {
      "needs_background": "light"
     },
     "output_type": "display_data"
    },
    {
     "data": {
      "image/png": "[encoded data removed]",
      "text/plain": [
       "<Figure size 432x288 with 1 Axes>"
      ]
     },
     "metadata": {
      "needs_background": "light"
     },
     "output_type": "display_data"
    }
   ],
   "source": [
    "# evaluate model\n",
    "score = model.evaluate(x_test, y_test, verbose=1)\n",
    "\n",
    "# print performance\n",
    "print()\n",
    "print('Test loss:', score[0])\n",
    "print('Test accuracy:', score[1])\n",
    "\n",
    "plotmodel(training)"
   ]
  },
  {
   "cell_type": "markdown",
   "metadata": {},
   "source": [
    "3. Implement a “grid search” as shown in NB11 to improve one or more of the aspects or\n",
    "parameters of the model. Possible tests include: different activation units (sigmoid, relu, elu,\n",
    "etc.), different minimization algorithms (ADAM, RMSprop, Nesterov, etc.), different\n",
    "dropouts, etc."
   ]
  },
  {
   "cell_type": "code",
   "execution_count": 18,
   "metadata": {},
   "outputs": [
    {
     "name": "stdout",
     "output_type": "stream",
     "text": [
      "Model: \"sequential_2\"\n",
      "_________________________________________________________________\n",
      "Layer (type)                 Output Shape              Param #   \n",
      "=================================================================\n",
      "dense_8 (Dense)              (None, 64)                4160      \n",
      "_________________________________________________________________\n",
      "dense_9 (Dense)              (None, 32)                2080      \n",
      "_________________________________________________________________\n",
      "dropout_2 (Dropout)          (None, 32)                0         \n",
      "_________________________________________________________________\n",
      "dense_10 (Dense)             (None, 16)                528       \n",
      "_________________________________________________________________\n",
      "dropout_3 (Dropout)          (None, 16)                0         \n",
      "_________________________________________________________________\n",
      "dense_11 (Dense)             (None, 1)                 17        \n",
      "=================================================================\n",
      "Total params: 6,785\n",
      "Trainable params: 6,785\n",
      "Non-trainable params: 0\n",
      "_________________________________________________________________\n",
      "None\n",
      "768/768 [==============================] - 3s 3ms/step - loss: 0.5663 - accuracy: 0.7410\n",
      "Best: 0.7531510442495346 using {'activation': 'relu', 'dropout': 0.1, 'learning_rate': 0.01, 'optimizer': <class 'tensorflow.python.keras.optimizer_v2.gradient_descent.SGD'>}\n"
     ]
    }
   ],
   "source": [
    "from sklearn.model_selection import GridSearchCV\n",
    "from keras.wrappers.scikit_learn import KerasClassifier\n",
    "from keras.optimizers import Adadelta, Adagrad, Adam, Adamax, RMSprop, SGD\n",
    "\n",
    "def compile_model(optimizer, activation = None, dropout = None, learning_rate = 0.1):\n",
    "    model = createmodel(L,hidden_layers, activation = activation, dropout = dropout)\n",
    "    model.compile(loss='binary_crossentropy',\n",
    "                  optimizer=optimizer(learning_rate = learning_rate),\n",
    "                  metrics=['accuracy'])\n",
    "    return model\n",
    "\n",
    "# Using Keras scikit wrapper\n",
    "model_gridsearch = KerasClassifier(build_fn=compile_model, \n",
    "                        epochs=1,\n",
    "                        batch_size = 50, \n",
    "                        verbose=1)\n",
    "\n",
    "optimizer = [SGD,]# RMSprop, 'Adam', 'Adamax']\n",
    "dropout = [0.1,]#0.3,0.5]\n",
    "learning_rate = [0.01,]#0.05,0.1]\n",
    "activation = ['relu',]# 'elu']\n",
    "# parameters dictionary\n",
    "param_grid = dict(optimizer=optimizer, activation = activation, dropout = dropout, learning_rate = learning_rate)\n",
    "# Run gridsearch\n",
    "grid = GridSearchCV(estimator=model_gridsearch, param_grid=param_grid, n_jobs=-1, cv=4)\n",
    "grid_result = grid.fit(x_train,y_train)\n",
    "\n",
    "# summarize results\n",
    "print(f\"Best: {grid_result.best_score_} using {grid_result.best_params_}\")\n",
    "best_model = grid_result.best_estimator_"
   ]
  },
  {
   "cell_type": "markdown",
   "metadata": {},
   "source": [
    "4. See if any rescaling of data may improve the results. For instance one may use [-0.5,+0.5]\n",
    "instead of [0,1] for every bit of x[n]."
   ]
  },
  {
   "cell_type": "code",
   "execution_count": 19,
   "metadata": {},
   "outputs": [],
   "source": [
    "def rescale_input(x, shift, largeness):\n",
    "    return (x - .5 )* largeness + shift"
   ]
  },
  {
   "cell_type": "code",
   "execution_count": 20,
   "metadata": {},
   "outputs": [
    {
     "name": "stdout",
     "output_type": "stream",
     "text": [
      "[[-1.5  1.5 -1.5 ...  1.5 -1.5 -1.5]\n",
      " [-1.5  1.5 -1.5 ... -1.5  1.5 -1.5]\n",
      " [-1.5 -1.5 -1.5 ... -1.5 -1.5 -1.5]\n",
      " ...\n",
      " [-1.5 -1.5  1.5 ... -1.5  1.5 -1.5]\n",
      " [-1.5  1.5 -1.5 ... -1.5  1.5 -1.5]\n",
      " [-1.5 -1.5 -1.5 ... -1.5 -1.5 -1.5]]\n"
     ]
    }
   ],
   "source": [
    "# Normally as a preprocessing operation the data is rescaled, here we see the importance of this preprocessing\n",
    "# operation.\n",
    "# First we center our data around zero:\n",
    "#          [0,1] --> [-1.5,1.5]\n",
    "\n",
    "rescfactor_x = 3\n",
    "shift_x = 0\n",
    "\n",
    "# Rescaling transformation\n",
    "resc_x = rescale_input(x,0,3)\n",
    "\n",
    "# y remains the same\n",
    "resc_y = (y)\n",
    "\n",
    "# print the inputs just as a check\n",
    "print(resc_x)\n",
    "\n",
    "(resc_x_train, resc_y_train) = (resc_x[:N_train],resc_y[:N_train])\n",
    "(resc_x_test, resc_y_test) = (resc_x[N_train:],resc_y[N_train:])"
   ]
  },
  {
   "cell_type": "code",
   "execution_count": 21,
   "metadata": {
    "scrolled": false
   },
   "outputs": [
    {
     "name": "stdout",
     "output_type": "stream",
     "text": [
      "Model: \"sequential_3\"\n",
      "_________________________________________________________________\n",
      "Layer (type)                 Output Shape              Param #   \n",
      "=================================================================\n",
      "dense_12 (Dense)             (None, 64)                4160      \n",
      "_________________________________________________________________\n",
      "dense_13 (Dense)             (None, 32)                2080      \n",
      "_________________________________________________________________\n",
      "dense_14 (Dense)             (None, 16)                528       \n",
      "_________________________________________________________________\n",
      "dropout_4 (Dropout)          (None, 16)                0         \n",
      "_________________________________________________________________\n",
      "dense_15 (Dense)             (None, 1)                 17        \n",
      "=================================================================\n",
      "Total params: 6,785\n",
      "Trainable params: 6,785\n",
      "Non-trainable params: 0\n",
      "_________________________________________________________________\n",
      "None\n"
     ]
    }
   ],
   "source": [
    "# TO BE MODIFIED \n",
    "best_hidden_layers = hidden_layers\n",
    "best_opt = opt\n",
    "\n",
    "resc_model = createmodel(L,best_hidden_layers)\n",
    "\n",
    "# Training of the model with the rescaled data\n",
    "resc_training = trainmodel_noprint(resc_model, best_opt, resc_x_train, resc_y_train,\n",
    "          epochs=60, batch_size=50, validation_data= (resc_x_test, resc_y_test))"
   ]
  },
  {
   "cell_type": "code",
   "execution_count": 22,
   "metadata": {},
   "outputs": [
    {
     "name": "stdout",
     "output_type": "stream",
     "text": [
      "300/300 [==============================] - 1s 3ms/step - loss: 0.2022 - accuracy: 0.9384\n"
     ]
    },
    {
     "data": {
      "image/png": "[encoded data removed]",
      "text/plain": [
       "<Figure size 432x288 with 1 Axes>"
      ]
     },
     "metadata": {
      "needs_background": "light"
     },
     "output_type": "display_data"
    },
    {
     "data": {
      "image/png": "[encoded data removed]",
      "text/plain": [
       "<Figure size 432x288 with 1 Axes>"
      ]
     },
     "metadata": {
      "needs_background": "light"
     },
     "output_type": "display_data"
    }
   ],
   "source": [
    "# evaluate model\n",
    "resc_score = resc_model.evaluate(resc_x_test, resc_y_test, verbose=1)\n",
    "\n",
    "plotmodel(resc_training)"
   ]
  },
  {
   "cell_type": "code",
   "execution_count": 23,
   "metadata": {},
   "outputs": [
    {
     "name": "stdout",
     "output_type": "stream",
     "text": [
      "Test loss:                   0.23938\n",
      "Rescaled Data Test loss:     0.20219\n",
      "\n",
      "Test accuracy:               0.9126\n",
      "Rescaled Data Test accuracy: 0.93844\n"
     ]
    }
   ],
   "source": [
    "print('Test loss:                  ', round(score[0],5))\n",
    "print('Rescaled Data Test loss:    ', round(resc_score[0],5))\n",
    "\n",
    "print('\\nTest accuracy:              ', round(score[1],5))\n",
    "print('Rescaled Data Test accuracy:', round(resc_score[1],5))"
   ]
  },
  {
   "cell_type": "code",
   "execution_count": 24,
   "metadata": {},
   "outputs": [
    {
     "name": "stdout",
     "output_type": "stream",
     "text": [
      "[[ 8.5 11.5  8.5 ... 11.5  8.5  8.5]\n",
      " [ 8.5 11.5  8.5 ...  8.5 11.5  8.5]\n",
      " [ 8.5  8.5  8.5 ...  8.5  8.5  8.5]\n",
      " ...\n",
      " [ 8.5  8.5 11.5 ...  8.5 11.5  8.5]\n",
      " [ 8.5 11.5  8.5 ...  8.5 11.5  8.5]\n",
      " [ 8.5  8.5  8.5 ...  8.5  8.5  8.5]]\n",
      "Model: \"sequential_4\"\n",
      "_________________________________________________________________\n",
      "Layer (type)                 Output Shape              Param #   \n",
      "=================================================================\n",
      "dense_16 (Dense)             (None, 64)                4160      \n",
      "_________________________________________________________________\n",
      "dense_17 (Dense)             (None, 32)                2080      \n",
      "_________________________________________________________________\n",
      "dense_18 (Dense)             (None, 16)                528       \n",
      "_________________________________________________________________\n",
      "dropout_5 (Dropout)          (None, 16)                0         \n",
      "_________________________________________________________________\n",
      "dense_19 (Dense)             (None, 1)                 17        \n",
      "=================================================================\n",
      "Total params: 6,785\n",
      "Trainable params: 6,785\n",
      "Non-trainable params: 0\n",
      "_________________________________________________________________\n",
      "None\n"
     ]
    }
   ],
   "source": [
    "# Now we rescale the data to be far away from zero, we should expect less quality of the training due to \n",
    "# Gradient Vanishing\n",
    "rescfactor_x_2 = 3\n",
    "shift_x_2 = 10\n",
    "\n",
    "# Rescaling transformation\n",
    "resc_x_2 = rescale_input(x,10,3)\n",
    "\n",
    "# y remains the same\n",
    "resc_y_2 = (y)\n",
    "\n",
    "# print the inputs just as a check\n",
    "print(resc_x_2)\n",
    "\n",
    "(resc_x_2_train, resc_y_2_train) = (resc_x_2[:N_train],resc_y_2[:N_train])\n",
    "(resc_x_2_test, resc_y_2_test) = (resc_x_2[N_train:],resc_y_2[N_train:])\n",
    "\n",
    "resc_model = createmodel(L,best_hidden_layers)\n",
    "\n",
    "# Training of the model with the rescaled data\n",
    "resc_2_training = trainmodel_noprint(resc_model, best_opt, resc_x_2_train, resc_y_2_train,\n",
    "          epochs=60, batch_size=50, validation_data= (resc_x_2_test, resc_y_2_test))"
   ]
  },
  {
   "cell_type": "code",
   "execution_count": 25,
   "metadata": {},
   "outputs": [
    {
     "name": "stdout",
     "output_type": "stream",
     "text": [
      "300/300 [==============================] - 1s 3ms/step - loss: 0.5557 - accuracy: 0.7559\n"
     ]
    },
    {
     "data": {
      "image/png": "[encoded data removed]",
      "text/plain": [
       "<Figure size 432x288 with 1 Axes>"
      ]
     },
     "metadata": {
      "needs_background": "light"
     },
     "output_type": "display_data"
    },
    {
     "data": {
      "image/png": "[encoded data removed]",
      "text/plain": [
       "<Figure size 432x288 with 1 Axes>"
      ]
     },
     "metadata": {
      "needs_background": "light"
     },
     "output_type": "display_data"
    }
   ],
   "source": [
    "resc_2_score = resc_model.evaluate(resc_x_2_test, resc_y_2_test, verbose=1)\n",
    "\n",
    "plotmodel(resc_2_training)"
   ]
  },
  {
   "cell_type": "code",
   "execution_count": 26,
   "metadata": {},
   "outputs": [
    {
     "name": "stdout",
     "output_type": "stream",
     "text": [
      "Test loss:                   0.23938\n",
      "Rescaled Data Test loss:     0.55572\n",
      "\n",
      "Test accuracy:               0.9126\n",
      "Rescaled Data Test accuracy: 0.75594\n"
     ]
    }
   ],
   "source": [
    "print('Test loss:                  ', round(score[0],5))\n",
    "print('Rescaled Data Test loss:    ', round(resc_2_score[0],5))\n",
    "\n",
    "print('\\nTest accuracy:              ', round(score[1],5))\n",
    "print('Rescaled Data Test accuracy:', round(resc_2_score[1],5))"
   ]
  },
  {
   "cell_type": "code",
   "execution_count": null,
   "metadata": {},
   "outputs": [],
   "source": []
  }
 ],
 "metadata": {
  "kernelspec": {
   "display_name": "Python 3",
   "language": "python",
   "name": "python3"
  },
  "language_info": {
   "codemirror_mode": {
    "name": "ipython",
    "version": 3
   },
   "file_extension": ".py",
   "mimetype": "text/x-python",
   "name": "python",
   "nbconvert_exporter": "python",
   "pygments_lexer": "ipython3",
   "version": "3.8.5"
  }
 },
 "nbformat": 4,
 "nbformat_minor": 4
}
