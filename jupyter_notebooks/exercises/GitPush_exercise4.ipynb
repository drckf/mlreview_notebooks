{
 "cells": [
  {
   "cell_type": "markdown",
   "metadata": {},
   "source": [
    "# LCPB 20-21 exercise 4\n",
    "\n",
    "### Saverio Monaco\n",
    "\n",
    "### Gerardo Carmona\n",
    "\n",
    "### Hilario Capettini"
   ]
  },
  {
   "cell_type": "code",
   "execution_count": null,
   "metadata": {},
   "outputs": [],
   "source": [
    "import numpy as np\n",
    "import matplotlib.pyplot as plt\n",
    "\n",
    "from sklearn.manifold import TSNE\n",
    "from itertools import cycle, islice"
   ]
  },
  {
   "cell_type": "code",
   "execution_count": null,
   "metadata": {},
   "outputs": [],
   "source": [
    "def cl_scatter3d(xdata,ydata,view1=10,view2=100,title = False):\n",
    "    colors = np.array(list(islice(cycle(['#377eb8', '#ff7f00', '#4daf4a',\n",
    "                                     '#f781bf', '#a65628', '#984ea3',\n",
    "                                     '#999999', '#e41a1c', '#dede00']),\n",
    "                                    int(max(ydata) + 1))))\n",
    "    fig, (ax1) = plt.subplots(figsize=(10, 10))\n",
    "    ax1 = plt.axes(projection='3d')\n",
    "    ax1.xaxis.set_pane_color((1.0, 1.0, 1.0, 0.0))\n",
    "    ax1.yaxis.set_pane_color((1.0, 1.0, 1.0, 0.0))\n",
    "    ax1.zaxis.set_pane_color((1.0, 1.0, 1.0, 0.0))\n",
    "    ax1.set_yticklabels([])\n",
    "    ax1.set_xticklabels([])\n",
    "    ax1.set_zticklabels([])\n",
    "    #ax1.view_init(view1, view2)\n",
    "    if title:\n",
    "        ax1.set_title(title)\n",
    "    ax1.scatter3D(xdata[:,0], xdata[:,1], xdata[:,2],color=colors[y]);"
   ]
  },
  {
   "cell_type": "code",
   "execution_count": null,
   "metadata": {},
   "outputs": [],
   "source": [
    "data = np.loadtxt('./DATA/data_t-SNE_310101_d5_R100_e1_N800.dat',delimiter='\\t')\n",
    "data_size = np.shape(data)[0]"
   ]
  },
  {
   "cell_type": "code",
   "execution_count": null,
   "metadata": {},
   "outputs": [],
   "source": [
    "y = []\n",
    "for i in range(int(data_size/10)):\n",
    "    y.append(0)\n",
    "\n",
    "for i in range(int(data_size*3/10)):\n",
    "    y.append(1)\n",
    "\n",
    "for i in range(int(data_size*6/10)):\n",
    "    y.append(2)\n",
    "cl_scatter3d(data,y,title='ex1')"
   ]
  },
  {
   "cell_type": "markdown",
   "metadata": {},
   "source": [
    "## 2"
   ]
  },
  {
   "cell_type": "markdown",
   "metadata": {},
   "source": [
    "class sklearn.manifold.TSNE(n_components=2, *, perplexity=30.0, early_exaggeration=12.0, learning_rate=200.0, n_iter=1000, n_iter_without_progress=300, min_grad_norm=1e-07, metric='euclidean', init='random', verbose=0, random_state=None, method='barnes_hut', angle=0.5, n_jobs=None, square_distances='legacy')"
   ]
  },
  {
   "cell_type": "code",
   "execution_count": null,
   "metadata": {},
   "outputs": [],
   "source": [
    "def tsne_2(x,perplexity):\n",
    "    X = TSNE(n_components=2,perplexity=perplexity).fit_transform(x)\n",
    "    X.shape\n",
    "    return X"
   ]
  },
  {
   "cell_type": "code",
   "execution_count": null,
   "metadata": {
    "scrolled": true
   },
   "outputs": [],
   "source": [
    "colors = np.array(list(islice(cycle(['#377eb8', '#ff7f00', '#4daf4a',\n",
    "                                     '#f781bf', '#a65628', '#984ea3',\n",
    "                                     '#999999', '#e41a1c', '#dede00']),\n",
    "                                    int(max(y) + 1))))\n",
    "\n",
    "fig, (ax1,ax2,ax3,ax4) = plt.subplots(nrows=1, ncols=4, figsize=(20, 5))\n",
    "\n",
    "x = tsne_2(data,5)\n",
    "ax1.scatter(x[:,[0]],x[:,[1]],color=colors[y])\n",
    "ax1.set_title('Perplexity = 5')\n",
    "\n",
    "x = tsne_2(data,30)\n",
    "ax2.scatter(x[:,[0]],x[:,[1]],color=colors[y])\n",
    "ax2.set_title('Perplexity = 30')\n",
    "\n",
    "x = tsne_2(data,50)\n",
    "ax3.scatter(x[:,[0]],x[:,[1]],color=colors[y])\n",
    "ax3.set_title('Perplexity = 50')\n",
    "\n",
    "x = tsne_2(data,100)\n",
    "ax4.scatter(x[:,[0]],x[:,[1]],color=colors[y])\n",
    "ax4.set_title('Perplexity = 100')\n",
    "\n"
   ]
  },
  {
   "cell_type": "code",
   "execution_count": null,
   "metadata": {},
   "outputs": [],
   "source": []
  }
 ],
 "metadata": {
  "kernelspec": {
   "display_name": "Python [conda env:tf]",
   "language": "python",
   "name": "conda-env-tf-py"
  },
  "language_info": {
   "codemirror_mode": {
    "name": "ipython",
    "version": 3
   },
   "file_extension": ".py",
   "mimetype": "text/x-python",
   "name": "python",
   "nbconvert_exporter": "python",
   "pygments_lexer": "ipython3",
   "version": "3.8.5"
  }
 },
 "nbformat": 4,
 "nbformat_minor": 4
}
