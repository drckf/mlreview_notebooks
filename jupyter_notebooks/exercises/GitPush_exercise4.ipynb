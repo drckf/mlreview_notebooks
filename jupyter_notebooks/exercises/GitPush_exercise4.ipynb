{
 "cells": [
  {
   "cell_type": "markdown",
   "metadata": {},
   "source": [
    "# LCPB 20-21 exercise 4\n",
    "\n",
    "### Saverio Monaco\n",
    "\n",
    "### Gerardo Carmona\n",
    "\n",
    "### Hilario Capettini"
   ]
  },
  {
   "cell_type": "code",
   "execution_count": null,
   "metadata": {},
   "outputs": [],
   "source": [
    "#!pip install plotly #to install the interactive plots library (not mandatory)"
   ]
  },
  {
   "cell_type": "code",
   "execution_count": null,
   "metadata": {},
   "outputs": [],
   "source": [
    "import numpy as np\n",
    "import matplotlib.pyplot as plt\n",
    "import sys\n",
    "\n",
    "from sklearn.manifold import TSNE\n",
    "from itertools import cycle, islice\n",
    "import matplotlib.patheffects as PathEffects\n",
    "\n",
    "try:\n",
    "    import plotly.express as px\n",
    "    import plotly.graph_objects as go\n",
    "except:\n",
    "    print('Interactive plots not supported')\n",
    "    \n",
    "seed = 31415"
   ]
  },
  {
   "cell_type": "code",
   "execution_count": null,
   "metadata": {},
   "outputs": [],
   "source": [
    "def cl_scatter3d_static(xdata,ydata,title = False):\n",
    "    colors = np.array(list(islice(cycle(['#377eb8', '#ff7f00', '#4daf4a',\n",
    "                                     '#f781bf', '#a65628', '#984ea3',\n",
    "                                     '#999999', '#e41a1c', '#dede00']),\n",
    "                                    int(max(ydata) + 1))))\n",
    "    fig, (ax1) = plt.subplots(figsize=(10, 10))\n",
    "    ax1 = plt.axes(projection='3d')\n",
    "    ax1.xaxis.set_pane_color((1.0, 1.0, 1.0, 0.0))\n",
    "    ax1.yaxis.set_pane_color((1.0, 1.0, 1.0, 0.0))\n",
    "    ax1.zaxis.set_pane_color((1.0, 1.0, 1.0, 0.0))\n",
    "    ax1.set_yticklabels([])\n",
    "    ax1.set_xticklabels([])\n",
    "    ax1.set_zticklabels([])\n",
    "    #ax1.view_init(view1, view2)\n",
    "    if title:\n",
    "        ax1.set_title(title)\n",
    "    ax1.scatter3D(xdata[:,0], xdata[:,1], xdata[:,2],color=colors[ydata]);\n",
    "    \n",
    "def cl_scatter3d_interactive(xdata,ydata,size=2,title=False):\n",
    "    colors = np.array(list(islice(cycle(['#377eb8', '#ff7f00', '#4daf4a',\n",
    "                                     '#f781bf', '#a65628', '#984ea3',\n",
    "                                     '#999999', '#e41a1c', '#dede00']),\n",
    "                                     int(max(ydata) + 1))))\n",
    "    fig = go.Figure(data=[go.Scatter3d(x=data[:,0], y=data[:,1], z=data[:,2],\n",
    "                                       mode='markers', marker=dict(color=colors[ydata],size=size))])\n",
    "    if title:\n",
    "        fig.update_layout(title=title)\n",
    "    fig.show()\n",
    "\n",
    "# more general function, it checks if the interactive plots library is installed, if so it will show\n",
    "# the interactive plot, if not it will use matplotlib library\n",
    "def cl_scatter3d(xdata,ydata,size=2,title=False):\n",
    "    if('plotly' in sys.modules):\n",
    "        cl_scatter3d_interactive(xdata,ydata,size,title)\n",
    "    else:\n",
    "        cl_scatter3d_static(xdata,ydata,title)\n",
    "        "
   ]
  },
  {
   "cell_type": "markdown",
   "metadata": {},
   "source": [
    "# PART 1"
   ]
  },
  {
   "cell_type": "markdown",
   "metadata": {},
   "source": [
    "## 1 Read data files as “data_t-SNE_310101_d5_R100_e1_N800.dat”"
   ]
  },
  {
   "cell_type": "code",
   "execution_count": null,
   "metadata": {},
   "outputs": [],
   "source": [
    "data = np.loadtxt('./DATA/data_t-SNE_310101_d5_R100_e1_N800.dat',delimiter='\\t')\n",
    "data_size = np.shape(data)[0]\n"
   ]
  },
  {
   "cell_type": "code",
   "execution_count": null,
   "metadata": {},
   "outputs": [],
   "source": [
    "data_y = []\n",
    "for i in range(int(data_size/10)):\n",
    "    data_y.append(0)\n",
    "\n",
    "for i in range(int(data_size*3/10)):\n",
    "    data_y.append(1)\n",
    "\n",
    "for i in range(int(data_size*6/10)):\n",
    "    data_y.append(2)"
   ]
  },
  {
   "cell_type": "code",
   "execution_count": null,
   "metadata": {},
   "outputs": [],
   "source": [
    "cl_scatter3d(data,data_y)"
   ]
  },
  {
   "cell_type": "markdown",
   "metadata": {},
   "source": [
    "## 2 Apply t-SNE with 4 different perplexities to the data."
   ]
  },
  {
   "cell_type": "markdown",
   "metadata": {},
   "source": [
    "class sklearn.manifold.TSNE(n_components=2, *, perplexity=30.0, early_exaggeration=12.0, learning_rate=200.0, n_iter=1000, n_iter_without_progress=300, min_grad_norm=1e-07, metric='euclidean', init='random', verbose=0, random_state=None, method='barnes_hut', angle=0.5, n_jobs=None, square_distances='legacy')"
   ]
  },
  {
   "cell_type": "code",
   "execution_count": null,
   "metadata": {},
   "outputs": [],
   "source": [
    "def memo(f):\n",
    "    args = []\n",
    "    results = []\n",
    "    def helper(arg1,**kwargs):\n",
    "        t = tuple([arg1]+[arg for arg in kwargs.values()])\n",
    "        if t not in args:\n",
    "            args.append(t)\n",
    "            results.append(f(arg1,**kwargs))\n",
    "        return results[args.index(t)]\n",
    "    return helper\n",
    "\n",
    "#@memo # using a memoized version of the method so as not to waste time recalculating\n",
    "def tsne_2(x,perplexity = 5,learning_rate=200.0,metric='euclidean',init='random',random_state=seed):\n",
    "    X = TSNE(n_components=2,\n",
    "             perplexity=perplexity,\n",
    "             learning_rate=learning_rate,\n",
    "             metric=metric,\n",
    "             init=init,\n",
    "             random_state=random_state).fit_transform(x)\n",
    "    X.shape\n",
    "    return X\n"
   ]
  },
  {
   "cell_type": "code",
   "execution_count": null,
   "metadata": {},
   "outputs": [],
   "source": [
    "colors = np.array(list(islice(cycle(['#377eb8', '#ff7f00', '#4daf4a',\n",
    "                                     '#f781bf', '#a65628', '#984ea3',\n",
    "                                     '#999999', '#e41a1c', '#dede00']),\n",
    "                                    int(max(data_y) + 1))))\n",
    "\n",
    "\n",
    "def grid2plot(data,method,**kwargs):\n",
    "    '''Takes up to two grid parameters and plots in a convenient way'''\n",
    "    (rowp, rows), (colp,cols) = kwargs.items()\n",
    "    fig, plotties = plt.subplots(nrows=len(rows), ncols=len(cols), figsize=(20, 10))\n",
    "    for i, r in enumerate(rows):\n",
    "        for j, c in enumerate(cols):\n",
    "            x = method(data, **{rowp: r, colp: c})\n",
    "            plotties[i,j].scatter(x[:,[0]],x[:,[1]],color=colors[data_y])\n",
    "            plotties[i,j].set_title(f'{rowp} = {r}, {colp} = {c}')\n",
    "            plotties[i,j].set_yticklabels([])\n",
    "            plotties[i,j].set_xticklabels([])\n",
    "    plt.show()\n",
    "                       "
   ]
  },
  {
   "cell_type": "code",
   "execution_count": null,
   "metadata": {
    "scrolled": false
   },
   "outputs": [],
   "source": [
    "perplexities = [5,30,50,100]\n",
    "inits = ['random', 'pca']\n",
    "\n",
    "grid2plot(data, tsne_2, init = inits, perplexity = perplexities)\n"
   ]
  },
  {
   "cell_type": "markdown",
   "metadata": {},
   "source": [
    "The plots on the first row were done initializing the t-sne algorithm randomly while the second case was done with pca. We can see that after the initialization with pca the result doesn't change as we modify the perplexity parameter. This might be because the pca algorithm already picked two variables which represent most of the data variability so t-sne cannot go further."
   ]
  },
  {
   "cell_type": "code",
   "execution_count": null,
   "metadata": {},
   "outputs": [],
   "source": []
  },
  {
   "cell_type": "markdown",
   "metadata": {},
   "source": [
    "## 3. From NB15 extract the part concerning the DBSCAN algorithm for clustering and embed it in the notebook to analyze the clustering in d=5 dimensions to generate predicted labels, then plot the results. Something like the next figure should arise. It includes a grid with several values of “eps” and “minPts”.\n",
    "## To understand a good range for the cutoffs “eps” in DBSCAN, sort all minimum distances to first neighbors and plot them.\n"
   ]
  },
  {
   "cell_type": "code",
   "execution_count": null,
   "metadata": {
    "tags": []
   },
   "outputs": [],
   "source": [
    "from collections import OrderedDict\n",
    "cpalette = ['k','r','g','b','y']#[\"#1CE6FF\", \"#FF34FF\", \"#FF4A46\",\"#008941\", \"#006FA6\", \"#A30059\", \"#0000A6\", \"#63FFAC\",\"#B79762\", \"#004D43\", \"#8FB0FF\", \"#997D87\",\"#5A0007\", \"#809693\",\"#1B4400\", \"#4FC601\", \"#3B5DFF\", \"#4A3B53\",\"#886F4C\",\"#34362D\", \"#B4A8BD\", \"#00A6AA\", \"#452C2C\",\"#636375\", \"#A3C8C9\", \"#FF913F\", \"#938A81\",\"#575329\", \"#00FECF\", \"#B05B6F\"]\n",
    "def clustering(y):\n",
    "    # Finds position of labels and returns a dictionary of cluster labels to data indices.\n",
    "    yu = np.sort(np.unique(y))\n",
    "    clustering = OrderedDict()\n",
    "    for ye in yu:\n",
    "        clustering[ye] = np.where(y == ye)[0]\n",
    "    return clustering\n",
    "\n",
    "def entropy(c, n_sample):\n",
    "    # Measures the entropy of a cluster\n",
    "    h = 0.\n",
    "    for kc in c.keys():\n",
    "        p=len(c[kc])/n_sample\n",
    "        h+=p*np.log(p)\n",
    "    h*=-1.\n",
    "    return h\n",
    "\n",
    "def NMI(y_true, y_pred):\n",
    "    \"\"\" Computes normalized mutual information: where y_true and y_pred are both clustering assignments\n",
    "    \"\"\"\n",
    "    w = clustering(y_true)\n",
    "    c = clustering(y_pred)\n",
    "    n_sample = len(y_true)\n",
    "\n",
    "    Iwc = 0.\n",
    "    for kw in w.keys():\n",
    "        for kc in c.keys():\n",
    "            w_intersect_c=len(set(w[kw]).intersection(set(c[kc])))\n",
    "            if w_intersect_c > 0:\n",
    "                Iwc += w_intersect_c*np.log(n_sample*w_intersect_c/(len(w[kw])*len(c[kc])))\n",
    "    Iwc/=n_sample\n",
    "    Hc = entropy(c,n_sample)\n",
    "    Hw = entropy(w,n_sample)\n",
    "\n",
    "    return 2*Iwc/(Hc+Hw)\n",
    "\n",
    "\n",
    "from sklearn.cluster import DBSCAN\n",
    "from sklearn.preprocessing import StandardScaler\n",
    "\n",
    "def plotting_ax(X, y, ax):\n",
    "    # plotting function\n",
    "    for i, yu in enumerate(np.unique(y)):\n",
    "        pos = (y == yu)\n",
    "        ax.scatter(X[pos,0], X[pos,1],c=cpalette[i%len(cpalette)],s=16)\n",
    "\n",
    "def DBSCAN_grid(input_x,input_y,eps_range,min_sample_range):\n",
    "    # DBSCAN has a few parameters, let's sweep over a few parameters and see what happens\n",
    "    np.random.seed(0)\n",
    "    n_true_center=len(np.unique(input_y))\n",
    "    X = StandardScaler().fit_transform(input_x)\n",
    "\n",
    "    eps_range = eps_range \n",
    "    min_sample_range = min_sample_range \n",
    "    fig, ax = plt.subplots(len(eps_range),len(min_sample_range),figsize=(15,10))\n",
    "    for i, eps in enumerate(eps_range):\n",
    "        for j, min_samples in enumerate(min_sample_range):\n",
    "            model = DBSCAN(eps=eps, min_samples=min_samples)\n",
    "            model.fit(input_x)\n",
    "            _y = model.labels_\n",
    "            plotting_ax(input_x,_y,ax[i,j])\n",
    "            nmi=NMI(input_y, _y)\n",
    "            ax[i,j].set_title('eps=%.2f, minPts=%i, nmi=%.2f'%(eps,min_samples,nmi),fontweight='bold')\n",
    "        \n",
    "            ax[i,j].set_yticklabels([])\n",
    "            ax[i,j].set_xticklabels([])\n",
    "            # Because the next figure is too dense of information, only the most left axes will show the values\n",
    "            # and only the bottom figures will have the x axes\n",
    "            #if(not i): # if i is zero (first row) do not display the x axis\n",
    "            #    ax[i,j].set_xticks([])\n",
    "            #if(j): # if j is not zero (not the first column) do not display the y axis\n",
    "            #    ax[i,j].set_yticks([])\n",
    "            \n",
    "    plt.tight_layout(h_pad=0.5)\n",
    "    fig.subplots_adjust(hspace=.15)\n",
    "    plt.show()    \n",
    "\n",
    "\n",
    "def DBSCAN_grid_accuracy(input_x,input_y,eps_range,min_sample_range,metric='euclidean'):\n",
    "    # DBSCAN has a few parameters, let's sweep over a few parameters and see what happens\n",
    "\n",
    "    eps_range = eps_range \n",
    "    min_sample_range = min_sample_range\n",
    "    print('eps, minPts, nmi')\n",
    "    for i, eps in enumerate(eps_range):\n",
    "        for j, min_samples in enumerate(min_sample_range):\n",
    "            model = DBSCAN(eps=eps, min_samples=min_samples,metric=metric)\n",
    "            model.fit(input_x)\n",
    "            _y = model.labels_\n",
    "            nmi=NMI(input_y, _y)\n",
    "            print('%.2f, %2i, %.2f'%(eps,min_samples,nmi))"
   ]
  },
  {
   "cell_type": "code",
   "execution_count": null,
   "metadata": {},
   "outputs": [],
   "source": [
    "DBSCAN_grid(data,data_y,[8400, 16800],[3,5,10,20])\n"
   ]
  },
  {
   "cell_type": "markdown",
   "metadata": {},
   "source": [
    "# PART 2"
   ]
  },
  {
   "cell_type": "code",
   "execution_count": null,
   "metadata": {},
   "outputs": [],
   "source": [
    "def clustercentroids(tsnex,y):\n",
    "    numclusters = int(max(y)+1)\n",
    "    numx = np.shape(tsnex)[0]\n",
    "    centroids = []\n",
    "    for j in range(numclusters):\n",
    "        den = 0\n",
    "        xcord = 0\n",
    "        ycord = 0\n",
    "        for i in range(numx):\n",
    "            if y[i] == j:\n",
    "                den += 1\n",
    "                xcord += tsnex[i,[0]]\n",
    "                ycord += tsnex[i,[1]]\n",
    "        centroids.append([xcord/den,ycord/den])\n",
    "    return centroids"
   ]
  },
  {
   "cell_type": "code",
   "execution_count": null,
   "metadata": {},
   "outputs": [],
   "source": [
    "x = np.loadtxt('DATA/x_M5_N400.csv', delimiter=' ')\n",
    "y = np.loadtxt('DATA/y_M5_N400.csv')\n"
   ]
  },
  {
   "cell_type": "code",
   "execution_count": null,
   "metadata": {},
   "outputs": [],
   "source": [
    "for _ in range(4):\n",
    "    print(x[_].astype(int),y[_].astype(int))\n",
    "colors = np.array(list(islice(cycle(['black','red','green',\n",
    "                                     'blue','y', '#984ea3',\n",
    "                                     '#999999', '#e41a1c', '#dede00']),\n",
    "                                     int(max(y) + 1))))\n",
    "\n",
    "perp = 25\n",
    "fig, (ax1) = plt.subplots(figsize=(5, 5))\n",
    "tsnex = tsne_2(x,perp)\n",
    "textcord = clustercentroids(tsnex,y)\n",
    "for i in range(0,max(y.astype(int))+1):\n",
    "    txt = ax1.text(textcord[i][0], textcord[i][1], i, fontsize=25)\n",
    "    txt.set_path_effects([PathEffects.withStroke(linewidth=5, foreground='w')])\n",
    "ax1.scatter(tsnex[:,[0]],tsnex[:,[1]],color=colors[y.astype(int)])\n",
    "ax1.set_title('Perplexity='+str(perp))\n",
    "plt.show()"
   ]
  },
  {
   "cell_type": "code",
   "execution_count": null,
   "metadata": {
    "scrolled": false
   },
   "outputs": [],
   "source": [
    "# the function that computes the distance between two sequences\n",
    "# here the distance is defined as the number of different bits\n",
    "# the function computes that\n",
    "def twoseq_distance(x1,x2):\n",
    "    xlen = np.shape(x1)[0]\n",
    "    dist = 0\n",
    "    for i in range(xlen):\n",
    "        if x1[i]!=x2[i]:\n",
    "            dist = dist + 1\n",
    "    return dist\n"
   ]
  },
  {
   "cell_type": "code",
   "execution_count": null,
   "metadata": {},
   "outputs": [],
   "source": [
    "# Let's check if it is correct by printing two sequences\n",
    "# you can verify it\n",
    "print(x[0].astype(int))\n",
    "print(x[1].astype(int))\n",
    "print('\\nThe number of different bits of the two sequences should be',twoseq_distance(x[0],x[1]))\n"
   ]
  },
  {
   "cell_type": "code",
   "execution_count": null,
   "metadata": {},
   "outputs": [],
   "source": [
    "# Here we compute what is called the minimum distances to first neighbors\n",
    "# What i did is computing for each sequence, the distance from every other point (even from the ones \n",
    "# the same label) and took the lowest one\n",
    "# Then i sorted the minimum distances\n",
    "\n",
    "# Since we need to find the minima, I initialized the minima array to high values\n",
    "xmin = np.zeros(np.shape(x)[0])+1000\n",
    "\n",
    "# For every sequence in our dataset...\n",
    "for i in range(np.shape(x)[0]):\n",
    "    # We calculate the distance to every other point that is not itself...\n",
    "    for j in range(np.shape(x)[0]):\n",
    "        if i!=j:\n",
    "            xixj = twoseq_distance(x[i],x[j])\n",
    "            # if the distance calculated between i and j is lower than the one initialized or previously\n",
    "            # calculated then we update our minima array.\n",
    "            if xixj <= xmin[i]:\n",
    "                xmin[i] = xixj\n"
   ]
  },
  {
   "cell_type": "code",
   "execution_count": null,
   "metadata": {},
   "outputs": [],
   "source": [
    "plt.plot(np.sort(xmin))\n",
    "plt.xlabel('rank')\n",
    "plt.ylabel('distance to 1st neighbor')\n",
    "plt.grid(b=True, which='both', color='0.65', linestyle='-')"
   ]
  },
  {
   "cell_type": "code",
   "execution_count": null,
   "metadata": {},
   "outputs": [],
   "source": [
    "def meandistance_twogroups(x,y,y1,y2):\n",
    "    N = 0\n",
    "    distances = 0\n",
    "    for i in range(np.shape(x)[0]):\n",
    "        if y[i]==y1:\n",
    "            for j in range(np.shape(x)[0]):\n",
    "                if y[j]==y2:\n",
    "                    N = N + 1\n",
    "                    distances += twoseq_distance(x[i],x[j])\n",
    "    return distances/N"
   ]
  },
  {
   "cell_type": "code",
   "execution_count": null,
   "metadata": {},
   "outputs": [],
   "source": [
    "labels      = []\n",
    "distances   = []\n",
    "bar_colors  = []\n",
    "edge_colors = []\n",
    "\n",
    "for i in range(5):\n",
    "    for j in range(5):\n",
    "        if i>j:\n",
    "            if i == 4 and j == 1 or i ==1 and j ==4:\n",
    "                bar_colors.append('yellow')\n",
    "                edge_colors.append('r')\n",
    "            else:\n",
    "                bar_colors.append('lightgray')\n",
    "                edge_colors.append('lightgray')\n",
    "            labels.append(str(i)+'-'+str(j))\n",
    "            distances.append(meandistance_twogroups(x,y,i,j))"
   ]
  },
  {
   "cell_type": "code",
   "execution_count": null,
   "metadata": {},
   "outputs": [],
   "source": [
    "list1, list2, bcolors, ecolors = zip(*sorted(zip(distances, labels, bar_colors, edge_colors)))"
   ]
  },
  {
   "cell_type": "code",
   "execution_count": null,
   "metadata": {},
   "outputs": [],
   "source": [
    "fig = plt.figure()\n",
    "ax = fig.add_axes([0,0,1,1])\n",
    "ax.bar(list2,list1,color=bcolors,hatch='//',edgecolor=ecolors)\n",
    "plt.show()"
   ]
  },
  {
   "cell_type": "code",
   "execution_count": null,
   "metadata": {},
   "outputs": [],
   "source": [
    "DBSCAN_grid_accuracy(x,y,[2,3,5,6],[3,5,10,20],metric='l1')"
   ]
  },
  {
   "cell_type": "markdown",
   "metadata": {},
   "source": [
    "From the previous table it can be seen that DBSCAn algorithm for clustering is failing while trying to perform the clustering even when the appropiate characteristic distances and metric are used. "
   ]
  },
  {
   "cell_type": "code",
   "execution_count": null,
   "metadata": {},
   "outputs": [],
   "source": [
    "sne_x = tsne_2(x, perplexity=20)"
   ]
  },
  {
   "cell_type": "code",
   "execution_count": null,
   "metadata": {},
   "outputs": [],
   "source": [
    "eps_range = [2,3,5,6]\n",
    "min_sample_range = [3,5,10,20]\n",
    "DBSCAN_grid(sne_x,y,eps_range,min_sample_range)"
   ]
  },
  {
   "cell_type": "code",
   "execution_count": null,
   "metadata": {},
   "outputs": [],
   "source": []
  }
 ],
 "metadata": {
  "kernelspec": {
   "display_name": "Python 3",
   "language": "python",
   "name": "python3"
  },
  "language_info": {
   "codemirror_mode": {
    "name": "ipython",
    "version": 3
   },
   "file_extension": ".py",
   "mimetype": "text/x-python",
   "name": "python",
   "nbconvert_exporter": "python",
   "pygments_lexer": "ipython3",
   "version": "3.8.5"
  }
 },
 "nbformat": 4,
 "nbformat_minor": 4
}
