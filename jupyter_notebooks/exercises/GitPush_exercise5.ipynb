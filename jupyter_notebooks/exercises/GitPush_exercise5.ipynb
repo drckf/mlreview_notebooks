{
 "cells": [
  {
   "cell_type": "code",
   "execution_count": 5,
   "metadata": {},
   "outputs": [],
   "source": [
    "import numpy as np\n",
    "sgm = lambda x: 1/(1+np.exp(-x))\n",
    "nrand = np.random.random\n",
    "zerov = np.zeros"
   ]
  },
  {
   "cell_type": "code",
   "execution_count": null,
   "metadata": {},
   "outputs": [],
   "source": [
    "class RBM:\n",
    "    '''A restricted Boltzmann machine model.'''\n",
    "    def __init__(self, n_variables, n_hidden, spin = False):\n",
    "        self.a = zerov(n_variables)\n",
    "        self.b = zerov(n_hidden)\n",
    "        self.w = zerov((n_variables,n_hidden))\n",
    "        self.min = -1*spin # Evaluates to zero if the model is not spin-based\n",
    "\n",
    "    def activate(self, v, w, b, gap = 1):\n",
    "        '''Turns the neurons of a forward layer on, according to a sigmoid probability function.'''\n",
    "        vec = w@v + b # The neurons evaluation\n",
    "        l = len(vec) # sample size\n",
    "        prob = sgm(gap*vec)\n",
    "        out = np.full(l,self.min)\n",
    "        out[prob < nrand(l)] = 1\n",
    "        return out\n",
    "    \n",
    "    def grad(self):\n",
    "        pass\n",
    "\n",
    "    def train(self, data, n_epochs = 300, batch_size = 30, learning_rate = 0.1):\n",
    "        '''Trains the model as a '''\n",
    "        for epoch in range(n_epochs):\n",
    "            continue"
   ]
  }
 ],
 "metadata": {
  "kernelspec": {
   "name": "python38564bitea5c4b6a5f064c45ad9e9614bde7cc12",
   "display_name": "Python 3.8.5 64-bit"
  },
  "language_info": {
   "codemirror_mode": {
    "name": "ipython",
    "version": 3
   },
   "file_extension": ".py",
   "mimetype": "text/x-python",
   "name": "python",
   "nbconvert_exporter": "python",
   "pygments_lexer": "ipython3",
   "version": "3.8.5"
  },
  "metadata": {
   "interpreter": {
    "hash": "31f2aee4e71d21fbe5cf8b01ff0e069b9275f58929596ceb00d14d90e3e16cd6"
   }
  }
 },
 "nbformat": 4,
 "nbformat_minor": 4
}