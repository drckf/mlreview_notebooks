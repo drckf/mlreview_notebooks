{
 "cells": [
  {
   "cell_type": "code",
   "execution_count": 1,
   "metadata": {},
   "outputs": [],
   "source": [
    "import numpy as np\n",
    "sgm = lambda x: 1/(1+np.exp(-x))\n",
    "nrand = np.random.random\n",
    "zerov = np.zeros"
   ]
  },
  {
   "cell_type": "code",
   "execution_count": 74,
   "metadata": {},
   "outputs": [],
   "source": [
    "class RBM:\n",
    "    '''A restricted Boltzmann machine model.'''\n",
    "    def __init__(self, n_variables, n_hidden, spin = False):\n",
    "        sigma = np.sqrt(4./(n_hidden+n_variables))\n",
    "        self.a = sigma*(2*nrand(n_variables)-1)\n",
    "        self.b = zerov(n_hidden)\n",
    "        self.w = sigma*(2*nrand((n_variables,n_hidden))-1)\n",
    "        self.min = -1*spin # Evaluates to zero if the model is not spin-based\n",
    "\n",
    "    def activate(self, v, w, b, gap = 1):\n",
    "        '''Turns the neurons of a forward layer on, according to a sigmoid probability function.'''\n",
    "        vec = v@w + b # The neurons evaluation\n",
    "        l = len(vec) # sample size\n",
    "        prob = sgm(gap*vec)\n",
    "        out = np.full(prob.shape,self.min)\n",
    "        out[prob < nrand(prob.shape)] = 1\n",
    "        return out\n",
    "    \n",
    "    def sample(self, v_data, steps = 1):\n",
    "        h_data = self.activate(v_data, self.w, self.b)\n",
    "        h_model = h_data\n",
    "        for _ in range(steps):\n",
    "            v_model = self.activate(h_model, self.w.T, self.a)\n",
    "            h_model = self.activate(v_model, self.w, self.b)\n",
    "        return h_data, v_model, h_model\n",
    "    \n",
    "    def grad(self, v_data, h_data, v_model, h_model):\n",
    "        da = np.average(v_data - v_model, axis = 0)\n",
    "        db = np.average(h_data - h_model, axis = 0)\n",
    "        dw = sum(np.outer(v_data[i],h_data[i])-np.outer(v_model[i],h_model[i]) for i in range(len(v_data)))/len(v_data)\n",
    "        #np.average(np.outer(v_data,h_data)-np.outer(v_model,h_model), axis = 1)\n",
    "        return da, db, dw\n",
    "\n",
    "    def train(self, data, n_epochs = 10, batch_size = 30, learning_rate = 1):\n",
    "        batches = len(data)//batch_size\n",
    "        for epoch in range(n_epochs):\n",
    "            np.random.shuffle(data)\n",
    "            for i in range(batches):\n",
    "                v = data[i*batch_size:(i+1)*batch_size]\n",
    "                h, v_m, h_m = self.sample(v)\n",
    "                ca, cb, cw = self.grad(v,h,v_m,h_m)\n",
    "                self.a += learning_rate*ca\n",
    "                self.b += learning_rate*cb\n",
    "                self.w += learning_rate*cw\n",
    "            learning_rate = learning_rate/(0.05*learning_rate+1)\n",
    "\n"
   ]
  },
  {
   "cell_type": "code",
   "execution_count": 101,
   "metadata": {},
   "outputs": [
    {
     "output_type": "stream",
     "name": "stderr",
     "text": [
      "<ipython-input-1-1887cda36eef>:2: RuntimeWarning: overflow encountered in exp\n  sgm = lambda x: 1/(1+np.exp(-x))\n"
     ]
    }
   ],
   "source": [
    "data = np.loadtxt('DATA/dataRBM_q0.1.csv', delimiter = ',')\n",
    "rbm = RBM(len(data[0]),12)\n",
    "rbm.train(data, n_epochs = 30, batch_size = 20)"
   ]
  },
  {
   "cell_type": "code",
   "execution_count": 115,
   "metadata": {},
   "outputs": [
    {
     "output_type": "stream",
     "name": "stderr",
     "text": [
      "<ipython-input-1-1887cda36eef>:2: RuntimeWarning: overflow encountered in exp\n  sgm = lambda x: 1/(1+np.exp(-x))\n"
     ]
    }
   ],
   "source": [
    "np.random.shuffle(data)\n",
    "_, v_fantasy, h_fantasy = rbm.sample(data,1)"
   ]
  },
  {
   "cell_type": "code",
   "execution_count": 116,
   "metadata": {},
   "outputs": [
    {
     "output_type": "execute_result",
     "data": {
      "text/plain": [
       "array([[1, 0, 1, ..., 1, 1, 0],\n",
       "       [1, 0, 1, ..., 1, 1, 0],\n",
       "       [1, 0, 1, ..., 1, 1, 0],\n",
       "       ...,\n",
       "       [1, 0, 1, ..., 1, 1, 0],\n",
       "       [1, 0, 1, ..., 1, 1, 0],\n",
       "       [1, 0, 1, ..., 1, 1, 0]])"
      ]
     },
     "metadata": {},
     "execution_count": 116
    }
   ],
   "source": [
    "v_fantasy"
   ]
  },
  {
   "cell_type": "code",
   "execution_count": 105,
   "metadata": {},
   "outputs": [
    {
     "output_type": "execute_result",
     "data": {
      "text/plain": [
       "array([[-4981.92247684, -4981.84692478, -4981.29519853, -4981.61664486,\n",
       "        -4981.62154184, -4981.02823632, -4982.09367367, -4981.39069301,\n",
       "        -4981.97611824, -4981.71063018, -4981.70934039, -4981.7279874 ],\n",
       "       [ 3971.09726579,  3971.1377993 ,  3970.71347986,  3970.72847893,\n",
       "         3970.71215986,  3971.00089361,  3970.74441765,  3970.86394419,\n",
       "         3970.52381895,  3971.27931158,  3971.11814402,  3970.60198327],\n",
       "       [-4830.16822945, -4829.89676082, -4829.43820657, -4829.53109636,\n",
       "        -4829.9867077 , -4829.84178521, -4830.46846492, -4830.00231587,\n",
       "        -4830.29851532, -4829.37832879, -4829.55256813, -4829.95971475],\n",
       "       [ 4148.82812424,  4148.27376499,  4147.477894  ,  4148.63894966,\n",
       "         4148.33279468,  4148.39967432,  4148.54235842,  4148.75895918,\n",
       "         4148.68034508,  4148.17605616,  4148.41685153,  4148.53654229],\n",
       "       [-4679.15318588, -4679.08262061, -4678.79764581, -4679.48195354,\n",
       "        -4679.33022186, -4678.64960565, -4679.71422435, -4679.25111359,\n",
       "        -4679.45177042, -4678.71467062, -4679.518811  , -4679.57413028],\n",
       "       [-4710.93902948, -4710.91284987, -4710.4254849 , -4710.74342546,\n",
       "        -4710.54725768, -4710.83341143, -4710.5278788 , -4710.47182502,\n",
       "        -4711.11824126, -4711.01408483, -4710.70504912, -4711.00472532],\n",
       "       [-5081.8292023 , -5081.9997725 , -5081.80325922, -5081.86549506,\n",
       "        -5081.88438241, -5082.35566761, -5081.99815908, -5082.13859029,\n",
       "        -5081.98357652, -5082.34925811, -5081.83680772, -5081.73829691],\n",
       "       [ 3859.28366408,  3859.50599407,  3859.4198232 ,  3858.83411454,\n",
       "         3859.18675652,  3859.11371644,  3859.64163918,  3859.27477069,\n",
       "         3859.54039111,  3859.38132452,  3859.35163903,  3859.08779372]])"
      ]
     },
     "metadata": {},
     "execution_count": 105
    }
   ],
   "source": [
    "rbm.w"
   ]
  },
  {
   "cell_type": "code",
   "execution_count": 95,
   "metadata": {},
   "outputs": [],
   "source": [
    "w1 = rbm.w"
   ]
  },
  {
   "cell_type": "code",
   "execution_count": 106,
   "metadata": {},
   "outputs": [
    {
     "output_type": "execute_result",
     "data": {
      "text/plain": [
       "array([[ 4319.81245076,  4319.85858868,  4319.02174112,  4319.57171267,\n",
       "         4319.61417782,  4319.41214906,  4319.71755049,  4319.77286019,\n",
       "         4319.56533897,  4319.94963689,  4319.70020256,  4319.55662193],\n",
       "       [-4910.9114493 , -4910.85971719, -4910.17555312, -4910.23925592,\n",
       "        -4910.68279153, -4911.06868004, -4910.08110368, -4910.62925242,\n",
       "        -4911.03069551, -4910.77722564, -4911.01608502, -4910.11582809],\n",
       "       [-4577.98076833, -4578.79317856, -4577.94775523, -4578.3674941 ,\n",
       "        -4578.80087916, -4577.7862863 , -4578.85879667, -4578.64234549,\n",
       "        -4578.34777133, -4578.43424326, -4578.63813905, -4578.58065518],\n",
       "       [-4590.86157741, -4591.24846363, -4589.66678938, -4590.74141121,\n",
       "        -4590.80021768, -4590.54694093, -4590.85876845, -4591.19544586,\n",
       "        -4591.21583903, -4591.20718531, -4591.48284782, -4591.30886154],\n",
       "       [-4650.42541103, -4650.98186143, -4649.50828228, -4650.58956251,\n",
       "        -4650.54867851, -4649.70681429, -4651.09609422, -4651.12358064,\n",
       "        -4650.79931235, -4650.29116348, -4650.45913884, -4650.77137711],\n",
       "       [-4702.76239426, -4703.41063888, -4701.57605766, -4702.78163761,\n",
       "        -4702.9656899 , -4702.46744091, -4703.17039531, -4702.63889668,\n",
       "        -4702.69396906, -4702.70368096, -4703.26255119, -4703.34556001],\n",
       "       [ 4457.74330589,  4458.44651683,  4457.09808184,  4457.65607901,\n",
       "         4457.88163989,  4457.4320683 ,  4458.02116575,  4457.55229466,\n",
       "         4457.84272373,  4457.86961869,  4458.20812679,  4458.42287111],\n",
       "       [-4761.20989656, -4762.03161707, -4760.48769939, -4761.40902262,\n",
       "        -4761.11416474, -4760.57509896, -4762.21671822, -4761.40419258,\n",
       "        -4760.96435369, -4761.29418669, -4761.37935259, -4761.82942616]])"
      ]
     },
     "metadata": {},
     "execution_count": 106
    }
   ],
   "source": [
    "w1"
   ]
  },
  {
   "cell_type": "code",
   "execution_count": null,
   "metadata": {},
   "outputs": [],
   "source": []
  }
 ],
 "metadata": {
  "kernelspec": {
   "name": "python38564bit075de96200f448aeb6d0298b6117be4d",
   "display_name": "Python 3.8.5 64-bit"
  },
  "language_info": {
   "codemirror_mode": {
    "name": "ipython",
    "version": 3
   },
   "file_extension": ".py",
   "mimetype": "text/x-python",
   "name": "python",
   "nbconvert_exporter": "python",
   "pygments_lexer": "ipython3",
   "version": "3.8.5"
  },
  "metadata": {
   "interpreter": {
    "hash": "31f2aee4e71d21fbe5cf8b01ff0e069b9275f58929596ceb00d14d90e3e16cd6"
   }
  }
 },
 "nbformat": 4,
 "nbformat_minor": 4
}