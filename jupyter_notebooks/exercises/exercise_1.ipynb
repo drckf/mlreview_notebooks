{
 "cells": [
  {
   "cell_type": "code",
   "execution_count": null,
   "metadata": {},
   "outputs": [],
   "source": [
    "import numpy as np\n",
    "import matplotlib.pyplot as plt"
   ]
  },
  {
   "cell_type": "code",
   "execution_count": null,
   "metadata": {},
   "outputs": [],
   "source": [
    "## Parameters\n",
    "w, b, q = 10, 20, 1/10\n",
    "\n",
    "## Target function\n",
    "f = lambda x,y: b*(1-np.exp(-1/2*w*(x**2 + y**2))) + 1/2*q*(y - x**3)**2\n",
    "\n",
    "## Gradient of the function\n",
    "def d_f_x(params):\n",
    "    x, y = params\n",
    "    return b*w*np.exp(-1/2*w*(x**2 + y**2))*x - 3*q*(y - x**3)*x**2\n",
    "def d_f_y(params):\n",
    "    x, y = params\n",
    "    return b*w*np.exp(-1/2*w*(x**2 + y**2))*y + q*(y-x**3)\n",
    "\n",
    "g_f = lambda params: np.array([d_f_x(params),d_f_y(params)])\n",
    "\n"
   ]
  },
  {
   "cell_type": "code",
   "execution_count": null,
   "metadata": {},
   "outputs": [],
   "source": [
    "## Gradient methods. Adapted from mlreview_notebooks.\n",
    "\n",
    "#Mean-gradient based methods\n",
    "def gd(grad, init, n_epochs=1000, eta=10**-2, noise_strength=0):\n",
    "    #This is a simple optimizer\n",
    "    params=np.array(init)\n",
    "    param_traj=np.zeros([n_epochs+1,2])\n",
    "    param_traj[0,]=init\n",
    "    v=0;\n",
    "    for j in range(n_epochs):\n",
    "        noise=noise_strength*np.random.randn(params.size)\n",
    "        v=eta*(np.array(grad(params))+noise)\n",
    "        params=params-v\n",
    "        param_traj[j+1,]=params\n",
    "    return param_traj\n",
    "\n",
    "\n",
    "def gd_with_mom(grad, init, n_epochs=5000, eta=10**-2, gamma=0.9,noise_strength=0):\n",
    "    params=np.array(init)\n",
    "    param_traj=np.zeros([n_epochs+1,2])\n",
    "    param_traj[0,]=init\n",
    "    v=0\n",
    "    for j in range(n_epochs):\n",
    "        noise=noise_strength*np.random.randn(params.size)\n",
    "        v=gamma*v+eta*(np.array(grad(params))+noise)\n",
    "        params=params-v\n",
    "        param_traj[j+1,]=params\n",
    "    return param_traj\n",
    "\n",
    "def NAG(grad, init, n_epochs=5000, eta=10**-2, gamma=0.9,noise_strength=0):\n",
    "    params=np.array(init)\n",
    "    param_traj=np.zeros([n_epochs+1,2])\n",
    "    param_traj[0,]=init\n",
    "    v=0\n",
    "    for j in range(n_epochs):\n",
    "        noise=noise_strength*np.random.randn(params.size)\n",
    "        params_nesterov=params-gamma*v\n",
    "        v=gamma*v+eta*(np.array(grad(params_nesterov))+noise)\n",
    "        params=params-v\n",
    "        param_traj[j+1,]=params\n",
    "    return param_traj\n",
    "\n",
    "#Methods that exploit first and second moments of gradient: RMS-PROP and ADAMS\n",
    "\n",
    "def rms_prop(grad, init, n_epochs=5000, eta=10**-2, beta=0.9,epsilon=10**-8,noise_strength=0):\n",
    "    params=np.array(init)\n",
    "    param_traj=np.zeros([n_epochs+1,2])\n",
    "    param_traj[0,]=init#Import relevant packages\n",
    "    grad_sq=0;\n",
    "    for j in range(n_epochs):\n",
    "        noise=noise_strength*np.random.randn(params.size)\n",
    "        g=np.array(grad(params))+noise\n",
    "        grad_sq=beta*grad_sq+(1-beta)*g*g\n",
    "        v=eta*np.divide(g,np.sqrt(grad_sq+epsilon))\n",
    "        params= params-v\n",
    "        param_traj[j+1,]=params\n",
    "    return param_traj\n",
    "                        \n",
    "                        \n",
    "def adams(grad, init, n_epochs=5000, eta=10**-2, gamma=0.9, beta=0.99,epsilon=10**-8,noise_strength=0):\n",
    "    params=np.array(init)\n",
    "    param_traj=np.zeros([n_epochs+1,2])\n",
    "    param_traj[0,]=init\n",
    "    v=0;\n",
    "    grad_sq=0;\n",
    "    for j in range(n_epochs):\n",
    "        noise=noise_strength*np.random.randn(params.size)\n",
    "        g=np.array(grad(params))+noise\n",
    "        v=gamma*v+(1-gamma)*g\n",
    "        grad_sq=beta*grad_sq+(1-beta)*g*g\n",
    "        v_hat=v/(1-gamma)\n",
    "        grad_sq_hat=grad_sq/(1-beta)\n",
    "        params=params-eta*np.divide(v_hat,np.sqrt(grad_sq_hat+epsilon))\n",
    "        param_traj[j+1,]=params\n",
    "    return param_traj\n"
   ]
  },
  {
   "cell_type": "code",
   "execution_count": null,
   "metadata": {},
   "outputs": [],
   "source": [
    "## Building initial positions grid:\n",
    "# Couldn't make this work the way I intended\n",
    "# xv, yv = np.meshgrid(np.linspace(-3,3),np.linspace(-3,3),sparse=True)\n",
    "## I don't love this approach, too programming 101\n",
    "init_points = []\n",
    "x = np.linspace(-3,3)\n",
    "y = np.linspace(-3,3)\n",
    "for i in x:\n",
    "    for j in y:\n",
    "        init_points.append([i,j])\n",
    "# init_points is now the [-3,3]x[-3,3] grid"
   ]
  },
  {
   "cell_type": "code",
   "execution_count": null,
   "metadata": {},
   "outputs": [],
   "source": [
    "## \n",
    "def get_step_avg(method,f,grad_f,init_points, n_epochs = 1000):\n",
    "    results = []\n",
    "    for init_pair in init_points:\n",
    "        # too reliant on the brute force grid\n",
    "        results.append(method(grad_f,init_pair,n_epochs=n_epochs))\n",
    "    tray = np.array(results)\n",
    "    step_avg = np.average(f(tray[:,:,0],tray[:,:,1]), axis = 0)\n",
    "    return step_avg"
   ]
  },
  {
   "cell_type": "code",
   "execution_count": null,
   "metadata": {},
   "outputs": [],
   "source": [
    "h1 = get_step_avg(gd,f,g_f,init_points, n_epochs = 100)\n",
    "h2 = get_step_avg(gd_with_mom,f,g_f,init_points, n_epochs = 100)\n",
    "h3 = get_step_avg(NAG,f,g_f,init_points, n_epochs = 100)\n",
    "h4 = get_step_avg(rms_prop,f,g_f,init_points, n_epochs = 100)\n",
    "h5 = get_step_avg(adams,f,g_f,init_points, n_epochs = 100)"
   ]
  },
  {
   "cell_type": "code",
   "execution_count": null,
   "metadata": {},
   "outputs": [],
   "source": [
    "t = np.linspace(0,len(h1),num=len(h1))\n",
    "\n",
    "plt.rcParams[\"figure.figsize\"] = (12,8)\n",
    "plt.plot(t,h1,label='gd')\n",
    "plt.plot(t,h2,label='gd_with_mom')\n",
    "plt.plot(t,h3,label='NAG')\n",
    "plt.plot(t,h4,label='rms_prop')\n",
    "plt.plot(t,h5,label='adams')\n",
    "plt.ylabel('Average',fontsize=17)  \n",
    "plt.xlabel('Epoch',fontsize=17)\n",
    "plt.legend()\n",
    "plt.show()"
   ]
  },
  {
   "cell_type": "code",
   "execution_count": null,
   "metadata": {},
   "outputs": [],
   "source": []
  }
 ],
 "metadata": {
  "kernelspec": {
   "display_name": "Python 3",
   "language": "python",
   "name": "python3"
  },
  "language_info": {
   "codemirror_mode": {
    "name": "ipython",
    "version": 3
   },
   "file_extension": ".py",
   "mimetype": "text/x-python",
   "name": "python",
   "nbconvert_exporter": "python",
   "pygments_lexer": "ipython3",
   "version": "3.8.5"
  }
 },
 "nbformat": 4,
 "nbformat_minor": 2
}
